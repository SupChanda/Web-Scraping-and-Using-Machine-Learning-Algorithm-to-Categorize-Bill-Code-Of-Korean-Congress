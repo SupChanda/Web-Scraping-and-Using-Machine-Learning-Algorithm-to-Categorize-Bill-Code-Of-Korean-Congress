{
 "cells": [
  {
   "cell_type": "markdown",
   "metadata": {},
   "source": [
    "## Importing the required Libraries"
   ]
  },
  {
   "cell_type": "code",
   "execution_count": 203,
   "metadata": {},
   "outputs": [],
   "source": [
    "import pandas as pd\n",
    "import numpy as np\n",
    "from IPython.display import display"
   ]
  },
  {
   "cell_type": "markdown",
   "metadata": {},
   "source": [
    "## Reading Data from Excel File "
   ]
  },
  {
   "cell_type": "code",
   "execution_count": 204,
   "metadata": {},
   "outputs": [
    {
     "data": {
      "text/html": [
       "<div>\n",
       "<style scoped>\n",
       "    .dataframe tbody tr th:only-of-type {\n",
       "        vertical-align: middle;\n",
       "    }\n",
       "\n",
       "    .dataframe tbody tr th {\n",
       "        vertical-align: top;\n",
       "    }\n",
       "\n",
       "    .dataframe thead th {\n",
       "        text-align: right;\n",
       "    }\n",
       "</style>\n",
       "<table border=\"1\" class=\"dataframe\">\n",
       "  <thead>\n",
       "    <tr style=\"text-align: right;\">\n",
       "      <th></th>\n",
       "      <th>unique_bill_site_name</th>\n",
       "      <th>bill_num</th>\n",
       "      <th>bill_name</th>\n",
       "    </tr>\n",
       "  </thead>\n",
       "  <tbody>\n",
       "    <tr>\n",
       "      <th>0</th>\n",
       "      <td>#PRC_E1H6Z0E5M3A0H0K9Q2B4C0V3Y4G7B6</td>\n",
       "      <td>#2000006</td>\n",
       "      <td>민법 일부개정법률안(이찬열의원 등 10인)</td>\n",
       "    </tr>\n",
       "    <tr>\n",
       "      <th>1</th>\n",
       "      <td>#PRC_G1F6U0H6D0F2V1J5J5E8W2O9N3T3Z5</td>\n",
       "      <td>#2000080</td>\n",
       "      <td>국유재산특례제한법 일부개정법률안(이은권의원 등 27인)</td>\n",
       "    </tr>\n",
       "    <tr>\n",
       "      <th>2</th>\n",
       "      <td>#PRC_G1J6D0T5Q3R0N1S4C1T9N1N9U5E1V0</td>\n",
       "      <td>#2000029</td>\n",
       "      <td>고용보험법 일부개정법률안(김성태의원 등 122인)</td>\n",
       "    </tr>\n",
       "    <tr>\n",
       "      <th>3</th>\n",
       "      <td>#PRC_H1I6Z0U5V3W0C0E9N5A1I3L4K6O6G7</td>\n",
       "      <td>#2000015</td>\n",
       "      <td>정부조직법 일부개정법률안(홍문표의원 등 12인)</td>\n",
       "    </tr>\n",
       "    <tr>\n",
       "      <th>4</th>\n",
       "      <td>#PRC_I1T6Q0M6D0E2X1N7N4V7D2R4K2C1R6</td>\n",
       "      <td>#2000083</td>\n",
       "      <td>지방교육재정교부금법 일부개정법률안(설훈의원 등 10인)</td>\n",
       "    </tr>\n",
       "  </tbody>\n",
       "</table>\n",
       "</div>"
      ],
      "text/plain": [
       "                 unique_bill_site_name  bill_num  \\\n",
       "0  #PRC_E1H6Z0E5M3A0H0K9Q2B4C0V3Y4G7B6  #2000006   \n",
       "1  #PRC_G1F6U0H6D0F2V1J5J5E8W2O9N3T3Z5  #2000080   \n",
       "2  #PRC_G1J6D0T5Q3R0N1S4C1T9N1N9U5E1V0  #2000029   \n",
       "3  #PRC_H1I6Z0U5V3W0C0E9N5A1I3L4K6O6G7  #2000015   \n",
       "4  #PRC_I1T6Q0M6D0E2X1N7N4V7D2R4K2C1R6  #2000083   \n",
       "\n",
       "                        bill_name  \n",
       "0         민법 일부개정법률안(이찬열의원 등 10인)  \n",
       "1  국유재산특례제한법 일부개정법률안(이은권의원 등 27인)  \n",
       "2     고용보험법 일부개정법률안(김성태의원 등 122인)  \n",
       "3      정부조직법 일부개정법률안(홍문표의원 등 12인)  \n",
       "4  지방교육재정교부금법 일부개정법률안(설훈의원 등 10인)  "
      ]
     },
     "execution_count": 204,
     "metadata": {},
     "output_type": "execute_result"
    }
   ],
   "source": [
    "korean_bills = pd.read_excel('Final_Bill_Information.xlsx',encoding='utf-8-sig',usecols=[0,1,2])\n",
    "korean_bills.head()"
   ]
  },
  {
   "cell_type": "markdown",
   "metadata": {},
   "source": [
    "## Data Cleansing\n",
    "#### Let's clean the korean bill_data: \n",
    "#### Steps: Removing all the words inside brackets from all the bill_name datas"
   ]
  },
  {
   "cell_type": "code",
   "execution_count": 205,
   "metadata": {},
   "outputs": [
    {
     "data": {
      "text/html": [
       "<div>\n",
       "<style scoped>\n",
       "    .dataframe tbody tr th:only-of-type {\n",
       "        vertical-align: middle;\n",
       "    }\n",
       "\n",
       "    .dataframe tbody tr th {\n",
       "        vertical-align: top;\n",
       "    }\n",
       "\n",
       "    .dataframe thead th {\n",
       "        text-align: right;\n",
       "    }\n",
       "</style>\n",
       "<table border=\"1\" class=\"dataframe\">\n",
       "  <thead>\n",
       "    <tr style=\"text-align: right;\">\n",
       "      <th></th>\n",
       "      <th>unique_bill_site_name</th>\n",
       "      <th>bill_num</th>\n",
       "      <th>renewed_bill_name</th>\n",
       "    </tr>\n",
       "  </thead>\n",
       "  <tbody>\n",
       "    <tr>\n",
       "      <th>0</th>\n",
       "      <td>#PRC_E1H6Z0E5M3A0H0K9Q2B4C0V3Y4G7B6</td>\n",
       "      <td>#2000006</td>\n",
       "      <td>민법 일부개정법률안</td>\n",
       "    </tr>\n",
       "    <tr>\n",
       "      <th>1</th>\n",
       "      <td>#PRC_G1F6U0H6D0F2V1J5J5E8W2O9N3T3Z5</td>\n",
       "      <td>#2000080</td>\n",
       "      <td>국유재산특례제한법 일부개정법률안</td>\n",
       "    </tr>\n",
       "    <tr>\n",
       "      <th>2</th>\n",
       "      <td>#PRC_G1J6D0T5Q3R0N1S4C1T9N1N9U5E1V0</td>\n",
       "      <td>#2000029</td>\n",
       "      <td>고용보험법 일부개정법률안</td>\n",
       "    </tr>\n",
       "    <tr>\n",
       "      <th>3</th>\n",
       "      <td>#PRC_H1I6Z0U5V3W0C0E9N5A1I3L4K6O6G7</td>\n",
       "      <td>#2000015</td>\n",
       "      <td>정부조직법 일부개정법률안</td>\n",
       "    </tr>\n",
       "    <tr>\n",
       "      <th>4</th>\n",
       "      <td>#PRC_I1T6Q0M6D0E2X1N7N4V7D2R4K2C1R6</td>\n",
       "      <td>#2000083</td>\n",
       "      <td>지방교육재정교부금법 일부개정법률안</td>\n",
       "    </tr>\n",
       "  </tbody>\n",
       "</table>\n",
       "</div>"
      ],
      "text/plain": [
       "                 unique_bill_site_name  bill_num   renewed_bill_name\n",
       "0  #PRC_E1H6Z0E5M3A0H0K9Q2B4C0V3Y4G7B6  #2000006          민법 일부개정법률안\n",
       "1  #PRC_G1F6U0H6D0F2V1J5J5E8W2O9N3T3Z5  #2000080   국유재산특례제한법 일부개정법률안\n",
       "2  #PRC_G1J6D0T5Q3R0N1S4C1T9N1N9U5E1V0  #2000029       고용보험법 일부개정법률안\n",
       "3  #PRC_H1I6Z0U5V3W0C0E9N5A1I3L4K6O6G7  #2000015       정부조직법 일부개정법률안\n",
       "4  #PRC_I1T6Q0M6D0E2X1N7N4V7D2R4K2C1R6  #2000083  지방교육재정교부금법 일부개정법률안"
      ]
     },
     "execution_count": 205,
     "metadata": {},
     "output_type": "execute_result"
    }
   ],
   "source": [
    "import re\n",
    "korean_bills['renewed_bill_name']=korean_bills['bill_name'].apply(lambda x: re.sub('\\(.*?\\)','',x))\n",
    "korean_bills = korean_bills.drop(columns=['bill_name'],axis=1)\n",
    "korean_bills.head()"
   ]
  },
  {
   "cell_type": "code",
   "execution_count": 206,
   "metadata": {},
   "outputs": [],
   "source": [
    "def billNameSplit(bill_name):\n",
    "    listOfBillName = list(bill_name.replace('(','').replace(')',''))\n",
    "    return (' '.join(listOfBillName))\n",
    "    "
   ]
  },
  {
   "cell_type": "markdown",
   "metadata": {},
   "source": [
    "## Reading the data from previous categorized bill"
   ]
  },
  {
   "cell_type": "code",
   "execution_count": 567,
   "metadata": {},
   "outputs": [
    {
     "data": {
      "text/html": [
       "<div>\n",
       "<style scoped>\n",
       "    .dataframe tbody tr th:only-of-type {\n",
       "        vertical-align: middle;\n",
       "    }\n",
       "\n",
       "    .dataframe tbody tr th {\n",
       "        vertical-align: top;\n",
       "    }\n",
       "\n",
       "    .dataframe thead th {\n",
       "        text-align: right;\n",
       "    }\n",
       "</style>\n",
       "<table border=\"1\" class=\"dataframe\">\n",
       "  <thead>\n",
       "    <tr style=\"text-align: right;\">\n",
       "      <th></th>\n",
       "      <th>unique_bill_site_num</th>\n",
       "      <th>bill_num</th>\n",
       "      <th>bill_name</th>\n",
       "      <th>billcode</th>\n",
       "      <th>New_bill_name</th>\n",
       "    </tr>\n",
       "  </thead>\n",
       "  <tbody>\n",
       "    <tr>\n",
       "      <th>0</th>\n",
       "      <td>#022942</td>\n",
       "      <td>#ZZ1519</td>\n",
       "      <td>한보사건관련보고</td>\n",
       "      <td>15</td>\n",
       "      <td>한 보 사 건 관 련 보 고</td>\n",
       "    </tr>\n",
       "    <tr>\n",
       "      <th>1</th>\n",
       "      <td>#018305</td>\n",
       "      <td>#AA1761</td>\n",
       "      <td>군법무관수당지급에관한건</td>\n",
       "      <td>16</td>\n",
       "      <td>군 법 무 관 수 당 지 급 에 관 한 건</td>\n",
       "    </tr>\n",
       "    <tr>\n",
       "      <th>2</th>\n",
       "      <td>#018304</td>\n",
       "      <td>#AA1756</td>\n",
       "      <td>법률용어통일에관한결의안</td>\n",
       "      <td>12</td>\n",
       "      <td>법 률 용 어 통 일 에 관 한 결 의 안</td>\n",
       "    </tr>\n",
       "    <tr>\n",
       "      <th>3</th>\n",
       "      <td>#018088</td>\n",
       "      <td>#AA1684</td>\n",
       "      <td>대한항공사의운항개시를위한외국항공기임차에관한동의안</td>\n",
       "      <td>19</td>\n",
       "      <td>대 한 항 공 사 의 운 항 개 시 를 위 한 외 국 항 공 기 임 차 에 관 한 ...</td>\n",
       "    </tr>\n",
       "    <tr>\n",
       "      <th>4</th>\n",
       "      <td>#018251</td>\n",
       "      <td>#AA1566</td>\n",
       "      <td>농지개량사업자금융자에대한국가보증동의안</td>\n",
       "      <td>4</td>\n",
       "      <td>농 지 개 량 사 업 자 금 융 자 에 대 한 국 가 보 증 동 의 안</td>\n",
       "    </tr>\n",
       "    <tr>\n",
       "      <th>5</th>\n",
       "      <td>#018252</td>\n",
       "      <td>#AA1565</td>\n",
       "      <td>국제관광공사사장임명(이원우)승인의건</td>\n",
       "      <td>20</td>\n",
       "      <td>국 제 관 광 공 사 사 장 임 명 이 원 우 승 인 의 건</td>\n",
       "    </tr>\n",
       "    <tr>\n",
       "      <th>6</th>\n",
       "      <td>#018296</td>\n",
       "      <td>#AA1283</td>\n",
       "      <td>도입비료판매가격개정에관한동의안</td>\n",
       "      <td>4</td>\n",
       "      <td>도 입 비 료 판 매 가 격 개 정 에 관 한 동 의 안</td>\n",
       "    </tr>\n",
       "    <tr>\n",
       "      <th>7</th>\n",
       "      <td>#017960</td>\n",
       "      <td>#AA1223</td>\n",
       "      <td>분과위원장(내무위원장조시형)제청승인의건</td>\n",
       "      <td>20</td>\n",
       "      <td>분 과 위 원 장 내 무 위 원 장 조 시 형 제 청 승 인 의 건</td>\n",
       "    </tr>\n",
       "    <tr>\n",
       "      <th>8</th>\n",
       "      <td>#017961</td>\n",
       "      <td>#AA1222</td>\n",
       "      <td>분과위원장(운영기획위원장오치성)제청승인의건</td>\n",
       "      <td>20</td>\n",
       "      <td>분 과 위 원 장 운 영 기 획 위 원 장 오 치 성 제 청 승 인 의 건</td>\n",
       "    </tr>\n",
       "    <tr>\n",
       "      <th>9</th>\n",
       "      <td>#018169</td>\n",
       "      <td>#AA1034</td>\n",
       "      <td>지방조달사무소설치법안</td>\n",
       "      <td>20</td>\n",
       "      <td>지 방 조 달 사 무 소 설 치 법 안</td>\n",
       "    </tr>\n",
       "  </tbody>\n",
       "</table>\n",
       "</div>"
      ],
      "text/plain": [
       "  unique_bill_site_num bill_num                   bill_name  billcode  \\\n",
       "0              #022942  #ZZ1519                    한보사건관련보고        15   \n",
       "1              #018305  #AA1761                군법무관수당지급에관한건        16   \n",
       "2              #018304  #AA1756                법률용어통일에관한결의안        12   \n",
       "3              #018088  #AA1684  대한항공사의운항개시를위한외국항공기임차에관한동의안        19   \n",
       "4              #018251  #AA1566        농지개량사업자금융자에대한국가보증동의안         4   \n",
       "5              #018252  #AA1565         국제관광공사사장임명(이원우)승인의건        20   \n",
       "6              #018296  #AA1283            도입비료판매가격개정에관한동의안         4   \n",
       "7              #017960  #AA1223       분과위원장(내무위원장조시형)제청승인의건        20   \n",
       "8              #017961  #AA1222     분과위원장(운영기획위원장오치성)제청승인의건        20   \n",
       "9              #018169  #AA1034                 지방조달사무소설치법안        20   \n",
       "\n",
       "                                       New_bill_name  \n",
       "0                                    한 보 사 건 관 련 보 고  \n",
       "1                            군 법 무 관 수 당 지 급 에 관 한 건  \n",
       "2                            법 률 용 어 통 일 에 관 한 결 의 안  \n",
       "3  대 한 항 공 사 의 운 항 개 시 를 위 한 외 국 항 공 기 임 차 에 관 한 ...  \n",
       "4            농 지 개 량 사 업 자 금 융 자 에 대 한 국 가 보 증 동 의 안  \n",
       "5                  국 제 관 광 공 사 사 장 임 명 이 원 우 승 인 의 건  \n",
       "6                    도 입 비 료 판 매 가 격 개 정 에 관 한 동 의 안  \n",
       "7              분 과 위 원 장 내 무 위 원 장 조 시 형 제 청 승 인 의 건  \n",
       "8          분 과 위 원 장 운 영 기 획 위 원 장 오 치 성 제 청 승 인 의 건  \n",
       "9                              지 방 조 달 사 무 소 설 치 법 안  "
      ]
     },
     "metadata": {},
     "output_type": "display_data"
    }
   ],
   "source": [
    "categorized_bills = pd.read_excel('legislative_bills1-19.xlsx',usecols=[0,1,2,22])\n",
    "#categorized_bills = pd.read_excel('Categorized bills.xlsx')\n",
    "categorized_bills['New_bill_name'] = legislative_bills['bill_name'].apply(billNameSplit)\n",
    "#categorized_bills['New_bill_name'] = categorized_bills['bill_name'].apply(billNameSplit)\n",
    "#legislative_bills.New_bill_name\n",
    "display(categorized_bills.head(10))"
   ]
  },
  {
   "cell_type": "code",
   "execution_count": 568,
   "metadata": {},
   "outputs": [
    {
     "data": {
      "text/plain": [
       "unique_bill_site_num    False\n",
       "bill_num                False\n",
       "bill_name               False\n",
       "billcode                False\n",
       "New_bill_name           False\n",
       "dtype: bool"
      ]
     },
     "execution_count": 568,
     "metadata": {},
     "output_type": "execute_result"
    }
   ],
   "source": [
    "categorized_bills.isnull().any()"
   ]
  },
  {
   "cell_type": "code",
   "execution_count": 569,
   "metadata": {},
   "outputs": [],
   "source": [
    "new_categorized_bills = categorized_bills[categorized_bills.billcode.notna()]\n",
    "\n",
    "uncategorized_bills = categorized_bills[categorized_bills.billcode.isna()]\n"
   ]
  },
  {
   "cell_type": "markdown",
   "metadata": {},
   "source": [
    "### Bills Having billcode not null and we are going to train the models on  these new_categorized_bills"
   ]
  },
  {
   "cell_type": "code",
   "execution_count": 570,
   "metadata": {},
   "outputs": [
    {
     "data": {
      "text/html": [
       "<div>\n",
       "<style scoped>\n",
       "    .dataframe tbody tr th:only-of-type {\n",
       "        vertical-align: middle;\n",
       "    }\n",
       "\n",
       "    .dataframe tbody tr th {\n",
       "        vertical-align: top;\n",
       "    }\n",
       "\n",
       "    .dataframe thead th {\n",
       "        text-align: right;\n",
       "    }\n",
       "</style>\n",
       "<table border=\"1\" class=\"dataframe\">\n",
       "  <thead>\n",
       "    <tr style=\"text-align: right;\">\n",
       "      <th></th>\n",
       "      <th>unique_bill_site_num</th>\n",
       "      <th>bill_num</th>\n",
       "      <th>bill_name</th>\n",
       "      <th>billcode</th>\n",
       "      <th>New_bill_name</th>\n",
       "    </tr>\n",
       "  </thead>\n",
       "  <tbody>\n",
       "    <tr>\n",
       "      <th>0</th>\n",
       "      <td>#022942</td>\n",
       "      <td>#ZZ1519</td>\n",
       "      <td>한보사건관련보고</td>\n",
       "      <td>15</td>\n",
       "      <td>한 보 사 건 관 련 보 고</td>\n",
       "    </tr>\n",
       "    <tr>\n",
       "      <th>1</th>\n",
       "      <td>#018305</td>\n",
       "      <td>#AA1761</td>\n",
       "      <td>군법무관수당지급에관한건</td>\n",
       "      <td>16</td>\n",
       "      <td>군 법 무 관 수 당 지 급 에 관 한 건</td>\n",
       "    </tr>\n",
       "    <tr>\n",
       "      <th>2</th>\n",
       "      <td>#018304</td>\n",
       "      <td>#AA1756</td>\n",
       "      <td>법률용어통일에관한결의안</td>\n",
       "      <td>12</td>\n",
       "      <td>법 률 용 어 통 일 에 관 한 결 의 안</td>\n",
       "    </tr>\n",
       "    <tr>\n",
       "      <th>3</th>\n",
       "      <td>#018088</td>\n",
       "      <td>#AA1684</td>\n",
       "      <td>대한항공사의운항개시를위한외국항공기임차에관한동의안</td>\n",
       "      <td>19</td>\n",
       "      <td>대 한 항 공 사 의 운 항 개 시 를 위 한 외 국 항 공 기 임 차 에 관 한 ...</td>\n",
       "    </tr>\n",
       "    <tr>\n",
       "      <th>4</th>\n",
       "      <td>#018251</td>\n",
       "      <td>#AA1566</td>\n",
       "      <td>농지개량사업자금융자에대한국가보증동의안</td>\n",
       "      <td>4</td>\n",
       "      <td>농 지 개 량 사 업 자 금 융 자 에 대 한 국 가 보 증 동 의 안</td>\n",
       "    </tr>\n",
       "  </tbody>\n",
       "</table>\n",
       "</div>"
      ],
      "text/plain": [
       "  unique_bill_site_num bill_num                   bill_name  billcode  \\\n",
       "0              #022942  #ZZ1519                    한보사건관련보고        15   \n",
       "1              #018305  #AA1761                군법무관수당지급에관한건        16   \n",
       "2              #018304  #AA1756                법률용어통일에관한결의안        12   \n",
       "3              #018088  #AA1684  대한항공사의운항개시를위한외국항공기임차에관한동의안        19   \n",
       "4              #018251  #AA1566        농지개량사업자금융자에대한국가보증동의안         4   \n",
       "\n",
       "                                       New_bill_name  \n",
       "0                                    한 보 사 건 관 련 보 고  \n",
       "1                            군 법 무 관 수 당 지 급 에 관 한 건  \n",
       "2                            법 률 용 어 통 일 에 관 한 결 의 안  \n",
       "3  대 한 항 공 사 의 운 항 개 시 를 위 한 외 국 항 공 기 임 차 에 관 한 ...  \n",
       "4            농 지 개 량 사 업 자 금 융 자 에 대 한 국 가 보 증 동 의 안  "
      ]
     },
     "execution_count": 570,
     "metadata": {},
     "output_type": "execute_result"
    }
   ],
   "source": [
    "new_categorized_bills.head()"
   ]
  },
  {
   "cell_type": "markdown",
   "metadata": {},
   "source": [
    "## Let's explore the BillCode Data "
   ]
  },
  {
   "cell_type": "code",
   "execution_count": 571,
   "metadata": {},
   "outputs": [
    {
     "data": {
      "text/plain": [
       "array([15, 16, 12, 19,  4, 20, 10, 11,  1, 88, 13, 23,  8, 99, 21,  6,  3,\n",
       "        2,  5,  0, 22, 18, 14, 17,  7,  9, 77], dtype=int64)"
      ]
     },
     "execution_count": 571,
     "metadata": {},
     "output_type": "execute_result"
    }
   ],
   "source": [
    "new_categorized_bills['billcode'].unique()\n"
   ]
  },
  {
   "cell_type": "code",
   "execution_count": 572,
   "metadata": {},
   "outputs": [
    {
     "data": {
      "text/html": [
       "<div>\n",
       "<style scoped>\n",
       "    .dataframe tbody tr th:only-of-type {\n",
       "        vertical-align: middle;\n",
       "    }\n",
       "\n",
       "    .dataframe tbody tr th {\n",
       "        vertical-align: top;\n",
       "    }\n",
       "\n",
       "    .dataframe thead th {\n",
       "        text-align: right;\n",
       "    }\n",
       "</style>\n",
       "<table border=\"1\" class=\"dataframe\">\n",
       "  <thead>\n",
       "    <tr style=\"text-align: right;\">\n",
       "      <th></th>\n",
       "      <th>billCode</th>\n",
       "      <th>bill_code_count</th>\n",
       "    </tr>\n",
       "  </thead>\n",
       "  <tbody>\n",
       "    <tr>\n",
       "      <th>0</th>\n",
       "      <td>20.0</td>\n",
       "      <td>1347</td>\n",
       "    </tr>\n",
       "    <tr>\n",
       "      <th>1</th>\n",
       "      <td>15.0</td>\n",
       "      <td>649</td>\n",
       "    </tr>\n",
       "    <tr>\n",
       "      <th>2</th>\n",
       "      <td>1.0</td>\n",
       "      <td>598</td>\n",
       "    </tr>\n",
       "    <tr>\n",
       "      <th>3</th>\n",
       "      <td>13.0</td>\n",
       "      <td>443</td>\n",
       "    </tr>\n",
       "    <tr>\n",
       "      <th>4</th>\n",
       "      <td>3.0</td>\n",
       "      <td>293</td>\n",
       "    </tr>\n",
       "  </tbody>\n",
       "</table>\n",
       "</div>"
      ],
      "text/plain": [
       "   billCode  bill_code_count\n",
       "0      20.0             1347\n",
       "1      15.0              649\n",
       "2       1.0              598\n",
       "3      13.0              443\n",
       "4       3.0              293"
      ]
     },
     "execution_count": 572,
     "metadata": {},
     "output_type": "execute_result"
    }
   ],
   "source": [
    "bill_code_count = pd.DataFrame(Y.value_counts())\n",
    "bill_code_count.reset_index(drop=False,inplace=True)\n",
    "bill_code_count = bill_code_count.sort_values(by='billcode',ascending=False,axis=0)\n",
    "bill_code_count=bill_code_count.rename(columns={'index':'billCode','billcode':'bill_code_count'}).reset_index(drop=True)\n",
    "bill_code_count.head()"
   ]
  },
  {
   "cell_type": "markdown",
   "metadata": {},
   "source": [
    "## Data Modelling \n",
    "## Split data into train,test and validation tests \n"
   ]
  },
  {
   "cell_type": "code",
   "execution_count": 573,
   "metadata": {},
   "outputs": [
    {
     "name": "stdout",
     "output_type": "stream",
     "text": [
      "train_set1 shape is (9000, 2)\n",
      "validation_set shape is (900, 2)\n",
      "train_set2 shape is (8100, 2)\n",
      "test_set shape is (1000, 2)\n"
     ]
    }
   ],
   "source": [
    "from sklearn.model_selection import train_test_split as tts\n",
    "train_set1,test_set = tts(new_categorized_bills[['New_bill_name','billcode']][0:10000],test_size=0.1,\\\n",
    "                         random_state=3,stratify=new_categorized_bills['billcode'][0:10000])\n",
    "train_set2,validation_set = tts(train_set1,test_size=0.10,random_state=47,stratify=train_set1['billcode'])\n",
    "print('train_set1 shape is {}'.format(train_set1.shape))\n",
    "print('validation_set shape is {}'.format(validation_set.shape))\n",
    "print('train_set2 shape is {}'.format(train_set2.shape))\n",
    "print('test_set shape is {}'.format(test_set.shape))"
   ]
  },
  {
   "cell_type": "code",
   "execution_count": 574,
   "metadata": {},
   "outputs": [
    {
     "data": {
      "text/html": [
       "<div>\n",
       "<style scoped>\n",
       "    .dataframe tbody tr th:only-of-type {\n",
       "        vertical-align: middle;\n",
       "    }\n",
       "\n",
       "    .dataframe tbody tr th {\n",
       "        vertical-align: top;\n",
       "    }\n",
       "\n",
       "    .dataframe thead th {\n",
       "        text-align: right;\n",
       "    }\n",
       "</style>\n",
       "<table border=\"1\" class=\"dataframe\">\n",
       "  <thead>\n",
       "    <tr style=\"text-align: right;\">\n",
       "      <th></th>\n",
       "      <th>New_bill_name</th>\n",
       "      <th>billcode</th>\n",
       "    </tr>\n",
       "  </thead>\n",
       "  <tbody>\n",
       "    <tr>\n",
       "      <th>3126</th>\n",
       "      <td>책 임 운 영 기 관 의 설 치 · 운 영 에 관 한 법 률 중 개 정 법 률 안</td>\n",
       "      <td>15</td>\n",
       "    </tr>\n",
       "    <tr>\n",
       "      <th>6616</th>\n",
       "      <td>국 가 유 공 자 예 우 등 에 관 한 법 률 중 개 정 법 률 안 신 기 하 의 ...</td>\n",
       "      <td>13</td>\n",
       "    </tr>\n",
       "    <tr>\n",
       "      <th>3759</th>\n",
       "      <td>부 정 부 패 방 지 법 안 최 연 희 의 원   외   1 3 2 인</td>\n",
       "      <td>20</td>\n",
       "    </tr>\n",
       "  </tbody>\n",
       "</table>\n",
       "</div>"
      ],
      "text/plain": [
       "                                          New_bill_name  billcode\n",
       "3126      책 임 운 영 기 관 의 설 치 · 운 영 에 관 한 법 률 중 개 정 법 률 안        15\n",
       "6616  국 가 유 공 자 예 우 등 에 관 한 법 률 중 개 정 법 률 안 신 기 하 의 ...        13\n",
       "3759            부 정 부 패 방 지 법 안 최 연 희 의 원   외   1 3 2 인        20"
      ]
     },
     "execution_count": 574,
     "metadata": {},
     "output_type": "execute_result"
    }
   ],
   "source": [
    "train_set1.head(3)"
   ]
  },
  {
   "cell_type": "markdown",
   "metadata": {},
   "source": [
    "## Implementing Logistic Regression"
   ]
  },
  {
   "cell_type": "code",
   "execution_count": 575,
   "metadata": {},
   "outputs": [
    {
     "name": "stdout",
     "output_type": "stream",
     "text": [
      "91.10000000000001\n"
     ]
    }
   ],
   "source": [
    "import warnings\n",
    "warnings.filterwarnings('ignore')\n",
    "from sklearn.linear_model import LogisticRegression\n",
    "from sklearn.feature_extraction.text import CountVectorizer as CV,TfidfVectorizer as tfd\n",
    "from sklearn.pipeline import make_pipeline\n",
    "from sklearn.model_selection import GridSearchCV\n",
    "pipe = make_pipeline(tfd(ngram_range=(1,2),strip_accents='unicode',min_df=3),\n",
    "                     LogisticRegression())\n",
    "params={'logisticregression__C':[20],'logisticregression__penalty':['l1','l2'],\n",
    "           'logisticregression__random_state':[5]}\n",
    "grid=GridSearchCV(pipe,param_grid=params,cv=5).fit(train_set2['New_bill_name'],train_set2['billcode'])\n",
    "print(grid.score(test_set['New_bill_name'],test_set['billcode'])*100)\n",
    "##random_state and cv=8:90.49"
   ]
  },
  {
   "cell_type": "code",
   "execution_count": 576,
   "metadata": {},
   "outputs": [
    {
     "name": "stdout",
     "output_type": "stream",
     "text": [
      "grid best cross_validation score is: 90.51%\n"
     ]
    }
   ],
   "source": [
    "print('grid best cross_validation score is: {:.2f}%'.format(grid.best_score_*100))"
   ]
  },
  {
   "cell_type": "code",
   "execution_count": 577,
   "metadata": {},
   "outputs": [
    {
     "name": "stdout",
     "output_type": "stream",
     "text": [
      "grid_best_params_is {'logisticregression__C': 20, 'logisticregression__penalty': 'l2', 'logisticregression__random_state': 5}\n"
     ]
    }
   ],
   "source": [
    "print('grid_best_params_is {}'.format(grid.best_params_))"
   ]
  },
  {
   "cell_type": "code",
   "execution_count": 578,
   "metadata": {},
   "outputs": [
    {
     "name": "stdout",
     "output_type": "stream",
     "text": [
      "Accuracy on Validation Set is : 90.44%\n"
     ]
    }
   ],
   "source": [
    "print('Accuracy on Validation Set is : {:.2f}%'.format(grid.score(validation_set['New_bill_name'],\n",
    "                                                                  validation_set['billcode'])*100))"
   ]
  },
  {
   "cell_type": "code",
   "execution_count": 579,
   "metadata": {},
   "outputs": [
    {
     "name": "stdout",
     "output_type": "stream",
     "text": [
      "Accuracy on Test Set is : 91.10%\n"
     ]
    }
   ],
   "source": [
    "print('Accuracy on Test Set is : {:.2f}%'.format(grid.score(test_set['New_bill_name'],\n",
    "                                                                  test_set['billcode'])*100))\n"
   ]
  },
  {
   "cell_type": "markdown",
   "metadata": {},
   "source": [
    "## RandomForestClassifier"
   ]
  },
  {
   "cell_type": "code",
   "execution_count": 240,
   "metadata": {},
   "outputs": [
    {
     "data": {
      "text/plain": [
       "GridSearchCV(cv=4, error_score='raise',\n",
       "       estimator=Pipeline(memory=None,\n",
       "     steps=[('countvectorizer', CountVectorizer(analyzer='word', binary=False, decode_error='strict',\n",
       "        dtype=<class 'numpy.int64'>, encoding='utf-8', input='content',\n",
       "        lowercase=True, max_df=1.0, max_features=7000, min_df=3,\n",
       "        ngram_range=(1, 2), preprocessor=None, stop_words=None,\n",
       "  ...n_jobs=1,\n",
       "            oob_score=False, random_state=None, verbose=0,\n",
       "            warm_start=False))]),\n",
       "       fit_params=None, iid=True, n_jobs=1,\n",
       "       param_grid={'randomforestclassifier__n_estimators': [10, 30, 20, 15, 25], 'randomforestclassifier__criterion': ['gini', 'entropy'], 'randomforestclassifier__max_leaf_nodes': [10, 20, 30, 40, 50], 'randomforestclassifier__random_state': [5]},\n",
       "       pre_dispatch='2*n_jobs', refit=True, return_train_score='warn',\n",
       "       scoring=None, verbose=0)"
      ]
     },
     "execution_count": 240,
     "metadata": {},
     "output_type": "execute_result"
    }
   ],
   "source": [
    "from sklearn.ensemble import RandomForestClassifier\n",
    "from sklearn.feature_extraction.text import CountVectorizer as CV\n",
    "from sklearn.pipeline import make_pipeline\n",
    "from sklearn.model_selection import GridSearchCV\n",
    "pipe = make_pipeline(CV(ngram_range=(1,2),max_features=7000,strip_accents='unicode',min_df=3),\n",
    "                     RandomForestClassifier())\n",
    "params={'randomforestclassifier__n_estimators':[10,30,20,15,25],'randomforestclassifier__criterion':['gini','entropy'],\n",
    "       'randomforestclassifier__max_leaf_nodes':[10,20,30,40,50],'randomforestclassifier__random_state':[5]}\n",
    "grid1=GridSearchCV(pipe,param_grid=params,cv=4).fit(train_set2['New_bill_name'],train_set2['billcode'])\n",
    "grid1"
   ]
  },
  {
   "cell_type": "code",
   "execution_count": 241,
   "metadata": {},
   "outputs": [
    {
     "name": "stdout",
     "output_type": "stream",
     "text": [
      "grid best cross_validation score is: 63.22%\n"
     ]
    }
   ],
   "source": [
    "print('grid best cross_validation score is: {:.2f}%'.format(grid1.best_score_*100))"
   ]
  },
  {
   "cell_type": "code",
   "execution_count": 242,
   "metadata": {},
   "outputs": [
    {
     "name": "stdout",
     "output_type": "stream",
     "text": [
      "grid_best_params_is {'randomforestclassifier__criterion': 'gini', 'randomforestclassifier__max_leaf_nodes': 50, 'randomforestclassifier__n_estimators': 25, 'randomforestclassifier__random_state': 5}\n"
     ]
    }
   ],
   "source": [
    "print('grid_best_params_is {}'.format(grid1.best_params_))"
   ]
  },
  {
   "cell_type": "code",
   "execution_count": 243,
   "metadata": {},
   "outputs": [
    {
     "name": "stdout",
     "output_type": "stream",
     "text": [
      "Accuracy on Validation Set is : 62.15%\n"
     ]
    }
   ],
   "source": [
    "print('Accuracy on Validation Set is : {:.2f}%'.format(grid1.score(validation_set['New_bill_name'],\n",
    "                                                                  validation_set['billcode'])*100))"
   ]
  },
  {
   "cell_type": "code",
   "execution_count": 244,
   "metadata": {},
   "outputs": [
    {
     "name": "stdout",
     "output_type": "stream",
     "text": [
      "Accuracy on Test Set is : 64.80%\n"
     ]
    }
   ],
   "source": [
    "print('Accuracy on Test Set is : {:.2f}%'.format(grid1.score(test_set['New_bill_name'],\n",
    "                                                                  test_set['billcode'])*100))"
   ]
  },
  {
   "cell_type": "markdown",
   "metadata": {},
   "source": [
    "### Naive Bayes Classifier"
   ]
  },
  {
   "cell_type": "markdown",
   "metadata": {},
   "source": [
    "### GaussianNB"
   ]
  },
  {
   "cell_type": "code",
   "execution_count": 271,
   "metadata": {},
   "outputs": [
    {
     "data": {
      "text/plain": [
       "GridSearchCV(cv=3, error_score='raise',\n",
       "       estimator=Pipeline(memory=None,\n",
       "     steps=[('countvectorizer', CountVectorizer(analyzer='word', binary=False, decode_error='strict',\n",
       "        dtype=<class 'numpy.int64'>, encoding='utf-8', input='content',\n",
       "        lowercase=True, max_df=1.0, max_features=7000, min_df=3,\n",
       "        ngram_range=(1, 2), preprocessor=None, stop_words=None,\n",
       "  ..._args=None, pass_y='deprecated',\n",
       "          validate=True)), ('gaussiannb', GaussianNB(priors=None))]),\n",
       "       fit_params=None, iid=True, n_jobs=1,\n",
       "       param_grid={'gaussiannb__priors': [None]}, pre_dispatch='2*n_jobs',\n",
       "       refit=True, return_train_score='warn', scoring=None, verbose=0)"
      ]
     },
     "execution_count": 271,
     "metadata": {},
     "output_type": "execute_result"
    }
   ],
   "source": [
    "from sklearn.preprocessing import FunctionTransformer\n",
    "from sklearn.naive_bayes import GaussianNB\n",
    "from sklearn.feature_extraction.text import CountVectorizer as CV\n",
    "from sklearn.pipeline import make_pipeline\n",
    "from sklearn.model_selection import GridSearchCV\n",
    "pipe = make_pipeline(CV(ngram_range=(1,2),max_features=7000,strip_accents='unicode',min_df=3),\n",
    "                     FunctionTransformer(lambda x: x.todense(),accept_sparse=True),\n",
    "                     GaussianNB())\n",
    "params={'gaussiannb__priors':[None]}\n",
    "grid2=GridSearchCV(pipe,param_grid=params,cv=3).fit(train_set2['New_bill_name'],train_set2['billcode'])\n",
    "grid2"
   ]
  },
  {
   "cell_type": "code",
   "execution_count": 272,
   "metadata": {},
   "outputs": [
    {
     "name": "stdout",
     "output_type": "stream",
     "text": [
      "grid best cross_validation score is: 76.07%\n"
     ]
    }
   ],
   "source": [
    "print('grid best cross_validation score is: {:.2f}%'.format(grid2.best_score_*100))"
   ]
  },
  {
   "cell_type": "code",
   "execution_count": 273,
   "metadata": {},
   "outputs": [
    {
     "name": "stdout",
     "output_type": "stream",
     "text": [
      "grid_best_params_is {'gaussiannb__priors': None}\n"
     ]
    }
   ],
   "source": [
    "print('grid_best_params_is {}'.format(grid2.best_params_))"
   ]
  },
  {
   "cell_type": "code",
   "execution_count": 274,
   "metadata": {},
   "outputs": [
    {
     "name": "stdout",
     "output_type": "stream",
     "text": [
      "Accuracy on Validation Set is : 76.74%\n"
     ]
    }
   ],
   "source": [
    "print('Accuracy on Validation Set is : {:.2f}%'.format(grid2.score(validation_set['New_bill_name'],\n",
    "                                                                  validation_set['billcode'])*100))"
   ]
  },
  {
   "cell_type": "code",
   "execution_count": 275,
   "metadata": {},
   "outputs": [
    {
     "name": "stdout",
     "output_type": "stream",
     "text": [
      "Accuracy on Test Set is : 72.50%\n"
     ]
    }
   ],
   "source": [
    "print('Accuracy on Test Set is : {:.2f}%'.format(grid2.score(test_set['New_bill_name'],\n",
    "                                                                  test_set['billcode'])*100))"
   ]
  },
  {
   "cell_type": "markdown",
   "metadata": {},
   "source": [
    "### MultinomialNB"
   ]
  },
  {
   "cell_type": "code",
   "execution_count": 284,
   "metadata": {},
   "outputs": [
    {
     "data": {
      "text/plain": [
       "GridSearchCV(cv=3, error_score='raise',\n",
       "       estimator=Pipeline(memory=None,\n",
       "     steps=[('countvectorizer', CountVectorizer(analyzer='word', binary=False, decode_error='strict',\n",
       "        dtype=<class 'numpy.int64'>, encoding='utf-8', input='content',\n",
       "        lowercase=True, max_df=1.0, max_features=7000, min_df=3,\n",
       "        ngram_range=(1, 2), preprocessor=None, stop_words=None,\n",
       "  ...     validate=True)), ('multinomialnb', MultinomialNB(alpha=1.0, class_prior=None, fit_prior=True))]),\n",
       "       fit_params=None, iid=True, n_jobs=1,\n",
       "       param_grid={'multinomialnb__alpha': [1, 3, 5, 10]},\n",
       "       pre_dispatch='2*n_jobs', refit=True, return_train_score='warn',\n",
       "       scoring=None, verbose=0)"
      ]
     },
     "execution_count": 284,
     "metadata": {},
     "output_type": "execute_result"
    }
   ],
   "source": [
    "from sklearn.preprocessing import FunctionTransformer\n",
    "from sklearn.naive_bayes import MultinomialNB\n",
    "from sklearn.feature_extraction.text import CountVectorizer as CV\n",
    "from sklearn.pipeline import make_pipeline\n",
    "from sklearn.model_selection import GridSearchCV\n",
    "pipe = make_pipeline(CV(ngram_range=(1,2),max_features=7000,strip_accents='unicode',min_df=3),\n",
    "                     FunctionTransformer(lambda x: x.todense(),accept_sparse=True),\n",
    "                     MultinomialNB())\n",
    "params={'multinomialnb__alpha':[1,3,5,10]}\n",
    "grid3=GridSearchCV(pipe,param_grid=params,cv=3).fit(train_set2['New_bill_name'],train_set2['billcode'])\n",
    "grid3"
   ]
  },
  {
   "cell_type": "code",
   "execution_count": 285,
   "metadata": {},
   "outputs": [
    {
     "name": "stdout",
     "output_type": "stream",
     "text": [
      "grid best cross_validation score is: 74.76%\n"
     ]
    }
   ],
   "source": [
    "print('grid best cross_validation score is: {:.2f}%'.format(grid3.best_score_*100))"
   ]
  },
  {
   "cell_type": "code",
   "execution_count": 286,
   "metadata": {},
   "outputs": [
    {
     "name": "stdout",
     "output_type": "stream",
     "text": [
      "grid_best_params_is {'multinomialnb__alpha': 1}\n"
     ]
    }
   ],
   "source": [
    "print('grid_best_params_is {}'.format(grid3.best_params_))"
   ]
  },
  {
   "cell_type": "code",
   "execution_count": 287,
   "metadata": {},
   "outputs": [
    {
     "name": "stdout",
     "output_type": "stream",
     "text": [
      "Accuracy on Validation Set is : 77.63%\n"
     ]
    }
   ],
   "source": [
    "print('Accuracy on Validation Set is : {:.2f}%'.format(grid3.score(validation_set['New_bill_name'],\n",
    "                                                                  validation_set['billcode'])*100))"
   ]
  },
  {
   "cell_type": "code",
   "execution_count": 288,
   "metadata": {},
   "outputs": [
    {
     "name": "stdout",
     "output_type": "stream",
     "text": [
      "Accuracy on Test Set is : 76.40%\n"
     ]
    }
   ],
   "source": [
    "print('Accuracy on Test Set is : {:.2f}%'.format(grid3.score(test_set['New_bill_name'],\n",
    "                                                                  test_set['billcode'])*100))"
   ]
  },
  {
   "cell_type": "markdown",
   "metadata": {},
   "source": [
    "## KNeighborsClassifier"
   ]
  },
  {
   "cell_type": "code",
   "execution_count": 295,
   "metadata": {},
   "outputs": [
    {
     "data": {
      "text/plain": [
       "GridSearchCV(cv=3, error_score='raise',\n",
       "       estimator=Pipeline(memory=None,\n",
       "     steps=[('countvectorizer', CountVectorizer(analyzer='word', binary=False, decode_error='strict',\n",
       "        dtype=<class 'numpy.int64'>, encoding='utf-8', input='content',\n",
       "        lowercase=True, max_df=1.0, max_features=7000, min_df=3,\n",
       "        ngram_range=(1, 2), preprocessor=None, stop_words=None,\n",
       "  ...owski',\n",
       "           metric_params=None, n_jobs=1, n_neighbors=5, p=2,\n",
       "           weights='uniform'))]),\n",
       "       fit_params=None, iid=True, n_jobs=1,\n",
       "       param_grid={'kneighborsclassifier__n_neighbors': [1, 3, 5, 10], 'kneighborsclassifier__metric': ['minkowski', 'euclidean', 'manhattan'], 'kneighborsclassifier__p': [1, 2]},\n",
       "       pre_dispatch='2*n_jobs', refit=True, return_train_score='warn',\n",
       "       scoring=None, verbose=0)"
      ]
     },
     "execution_count": 295,
     "metadata": {},
     "output_type": "execute_result"
    }
   ],
   "source": [
    "from sklearn.preprocessing import FunctionTransformer\n",
    "from sklearn.neighbors import KNeighborsClassifier\n",
    "from sklearn.feature_extraction.text import CountVectorizer as CV\n",
    "from sklearn.pipeline import make_pipeline\n",
    "from sklearn.model_selection import GridSearchCV\n",
    "pipe = make_pipeline(CV(ngram_range=(1,2),max_features=7000,strip_accents='unicode',min_df=3),\n",
    "                     KNeighborsClassifier())\n",
    "params={'kneighborsclassifier__n_neighbors':[1,3,5,10],'kneighborsclassifier__metric':['minkowski','euclidean','manhattan'],\n",
    "       'kneighborsclassifier__p':[1,2]}\n",
    "grid4=GridSearchCV(pipe,param_grid=params,cv=3).fit(train_set2['New_bill_name'],train_set2['billcode'])\n",
    "grid4"
   ]
  },
  {
   "cell_type": "code",
   "execution_count": 296,
   "metadata": {},
   "outputs": [
    {
     "name": "stdout",
     "output_type": "stream",
     "text": [
      "grid best cross_validation score is: 76.90%\n"
     ]
    }
   ],
   "source": [
    "print('grid best cross_validation score is: {:.2f}%'.format(grid4.best_score_*100))"
   ]
  },
  {
   "cell_type": "code",
   "execution_count": 297,
   "metadata": {},
   "outputs": [
    {
     "name": "stdout",
     "output_type": "stream",
     "text": [
      "grid_best_params_is {'kneighborsclassifier__metric': 'minkowski', 'kneighborsclassifier__n_neighbors': 1, 'kneighborsclassifier__p': 2}\n"
     ]
    }
   ],
   "source": [
    "print('grid_best_params_is {}'.format(grid4.best_params_))"
   ]
  },
  {
   "cell_type": "code",
   "execution_count": 298,
   "metadata": {},
   "outputs": [
    {
     "name": "stdout",
     "output_type": "stream",
     "text": [
      "Accuracy on Validation Set is : 80.74%\n"
     ]
    }
   ],
   "source": [
    "print('Accuracy on Validation Set is : {:.2f}%'.format(grid4.score(validation_set['New_bill_name'],\n",
    "                                                                  validation_set['billcode'])*100))"
   ]
  },
  {
   "cell_type": "code",
   "execution_count": 299,
   "metadata": {},
   "outputs": [
    {
     "name": "stdout",
     "output_type": "stream",
     "text": [
      "Accuracy on Test Set is : 79.20%\n"
     ]
    }
   ],
   "source": [
    "print('Accuracy on Test Set is : {:.2f}%'.format(grid4.score(test_set['New_bill_name'],\n",
    "                                                                  test_set['billcode'])*100))"
   ]
  },
  {
   "cell_type": "markdown",
   "metadata": {},
   "source": [
    "### GradientBoostingClassifier"
   ]
  },
  {
   "cell_type": "code",
   "execution_count": 300,
   "metadata": {},
   "outputs": [
    {
     "data": {
      "text/plain": [
       "GridSearchCV(cv=4, error_score='raise',\n",
       "       estimator=Pipeline(memory=None,\n",
       "     steps=[('countvectorizer', CountVectorizer(analyzer='word', binary=False, decode_error='strict',\n",
       "        dtype=<class 'numpy.int64'>, encoding='utf-8', input='content',\n",
       "        lowercase=True, max_df=1.0, max_features=7000, min_df=3,\n",
       "        ngram_range=(1, 2), preprocessor=None, stop_words=None,\n",
       "  ...      presort='auto', random_state=None, subsample=1.0, verbose=0,\n",
       "              warm_start=False))]),\n",
       "       fit_params=None, iid=True, n_jobs=1,\n",
       "       param_grid={'gradientboostingclassifier__n_estimators': [10, 30, 20, 15, 25], 'gradientboostingclassifier__learning_rate': [1, 2, 3, 4], 'gradientboostingclassifier__random_state': [5]},\n",
       "       pre_dispatch='2*n_jobs', refit=True, return_train_score='warn',\n",
       "       scoring=None, verbose=0)"
      ]
     },
     "execution_count": 300,
     "metadata": {},
     "output_type": "execute_result"
    }
   ],
   "source": [
    "from sklearn.ensemble import GradientBoostingClassifier\n",
    "from sklearn.feature_extraction.text import CountVectorizer as CV\n",
    "from sklearn.pipeline import make_pipeline\n",
    "from sklearn.model_selection import GridSearchCV\n",
    "pipe = make_pipeline(CV(ngram_range=(1,2),max_features=7000,strip_accents='unicode',min_df=3),\n",
    "                     GradientBoostingClassifier())\n",
    "params={'gradientboostingclassifier__n_estimators':[10,30,20,15,25],\n",
    "        'gradientboostingclassifier__learning_rate':[1,2,3,4],'gradientboostingclassifier__random_state':[5]}\n",
    "grid5=GridSearchCV(pipe,param_grid=params,cv=4).fit(train_set2['New_bill_name'],train_set2['billcode'])\n",
    "grid5"
   ]
  },
  {
   "cell_type": "code",
   "execution_count": 301,
   "metadata": {},
   "outputs": [
    {
     "name": "stdout",
     "output_type": "stream",
     "text": [
      "grid best cross_validation score is: 1.66%\n"
     ]
    }
   ],
   "source": [
    "print('grid best cross_validation score is: {:.2f}%'.format(grid5.best_score_*100))"
   ]
  },
  {
   "cell_type": "code",
   "execution_count": 303,
   "metadata": {},
   "outputs": [
    {
     "name": "stdout",
     "output_type": "stream",
     "text": [
      "grid_best_params_is {'gradientboostingclassifier__learning_rate': 3, 'gradientboostingclassifier__n_estimators': 10, 'gradientboostingclassifier__random_state': 5}\n"
     ]
    }
   ],
   "source": [
    "print('grid_best_params_is {}'.format(grid5.best_params_))"
   ]
  },
  {
   "cell_type": "code",
   "execution_count": null,
   "metadata": {},
   "outputs": [],
   "source": [
    "print('Accuracy on Validation Set is : {:.2f}%'.format(grid5.score(validation_set['New_bill_name'],\n",
    "                                                                  validation_set['billcode'])*100))"
   ]
  },
  {
   "cell_type": "code",
   "execution_count": 304,
   "metadata": {},
   "outputs": [
    {
     "name": "stdout",
     "output_type": "stream",
     "text": [
      "Accuracy on Test Set is : 2.40%\n"
     ]
    }
   ],
   "source": [
    "print('Accuracy on Test Set is : {:.2f}%'.format(grid5.score(test_set['New_bill_name'],\n",
    "                                                                  test_set['billcode'])*100))"
   ]
  },
  {
   "cell_type": "markdown",
   "metadata": {},
   "source": [
    "## Analysing the Error Rate:"
   ]
  },
  {
   "cell_type": "markdown",
   "metadata": {},
   "source": [
    "##### Impleneting on  Validation Set using the best model: Logistic Regression"
   ]
  },
  {
   "cell_type": "code",
   "execution_count": 592,
   "metadata": {},
   "outputs": [
    {
     "data": {
      "text/plain": [
       "0    95.311589\n",
       "1    76.949966\n",
       "2    90.717965\n",
       "3    95.265219\n",
       "4    99.103986\n",
       "dtype: float64"
      ]
     },
     "metadata": {},
     "output_type": "display_data"
    },
    {
     "data": {
      "text/plain": [
       "0    15\n",
       "1    19\n",
       "2    13\n",
       "3    20\n",
       "4    20\n",
       "dtype: int64"
      ]
     },
     "metadata": {},
     "output_type": "display_data"
    },
    {
     "data": {
      "text/plain": [
       "0    15\n",
       "1    20\n",
       "2    13\n",
       "3    20\n",
       "4    20\n",
       "Name: billcode, dtype: int64"
      ]
     },
     "metadata": {},
     "output_type": "display_data"
    }
   ],
   "source": [
    "## Probability of the billcode being predicted\n",
    "\n",
    "predict_Probability_Series=pd.Series(np.amax(grid.predict_proba(validation_set['New_bill_name'])*100,axis=1))\n",
    "display(predict_Probability_Series[0:5])\n",
    "\n",
    "## Predicted billcode\n",
    "\n",
    "predict_billcode=pd.Series(grid.predict(validation_set['New_bill_name']))\n",
    "\n",
    "display(predict_billcode[0:5])\n",
    "\n",
    "## Actual Billcode\n",
    "actual_billcode=pd.Series(validation_set['billcode']).reset_index(drop=True)\n",
    "display(actual_billcode[0:5])"
   ]
  },
  {
   "cell_type": "markdown",
   "metadata": {},
   "source": [
    "### Creating the dataframe with predicted billcode,actualbillcode and probability of bilcode prediction"
   ]
  },
  {
   "cell_type": "code",
   "execution_count": 593,
   "metadata": {},
   "outputs": [
    {
     "data": {
      "text/html": [
       "<div>\n",
       "<style scoped>\n",
       "    .dataframe tbody tr th:only-of-type {\n",
       "        vertical-align: middle;\n",
       "    }\n",
       "\n",
       "    .dataframe tbody tr th {\n",
       "        vertical-align: top;\n",
       "    }\n",
       "\n",
       "    .dataframe thead th {\n",
       "        text-align: right;\n",
       "    }\n",
       "</style>\n",
       "<table border=\"1\" class=\"dataframe\">\n",
       "  <thead>\n",
       "    <tr style=\"text-align: right;\">\n",
       "      <th></th>\n",
       "      <th>predicted_probability</th>\n",
       "      <th>predicted_Billcode</th>\n",
       "      <th>Actual_Billcode</th>\n",
       "    </tr>\n",
       "  </thead>\n",
       "  <tbody>\n",
       "    <tr>\n",
       "      <th>0</th>\n",
       "      <td>95.311589</td>\n",
       "      <td>15</td>\n",
       "      <td>15</td>\n",
       "    </tr>\n",
       "    <tr>\n",
       "      <th>1</th>\n",
       "      <td>76.949966</td>\n",
       "      <td>19</td>\n",
       "      <td>20</td>\n",
       "    </tr>\n",
       "    <tr>\n",
       "      <th>2</th>\n",
       "      <td>90.717965</td>\n",
       "      <td>13</td>\n",
       "      <td>13</td>\n",
       "    </tr>\n",
       "    <tr>\n",
       "      <th>3</th>\n",
       "      <td>95.265219</td>\n",
       "      <td>20</td>\n",
       "      <td>20</td>\n",
       "    </tr>\n",
       "    <tr>\n",
       "      <th>4</th>\n",
       "      <td>99.103986</td>\n",
       "      <td>20</td>\n",
       "      <td>20</td>\n",
       "    </tr>\n",
       "  </tbody>\n",
       "</table>\n",
       "</div>"
      ],
      "text/plain": [
       "   predicted_probability  predicted_Billcode  Actual_Billcode\n",
       "0              95.311589                  15               15\n",
       "1              76.949966                  19               20\n",
       "2              90.717965                  13               13\n",
       "3              95.265219                  20               20\n",
       "4              99.103986                  20               20"
      ]
     },
     "execution_count": 593,
     "metadata": {},
     "output_type": "execute_result"
    }
   ],
   "source": [
    "prediction_bill_val_DT = pd.concat([predict_Probability_Series,predict_billcode,actual_billcode],axis=1,\n",
    "                                  keys=['predicted_probability','predicted_Billcode','Actual_Billcode'])\n",
    "prediction_bill_val_DT.head()"
   ]
  },
  {
   "cell_type": "markdown",
   "metadata": {},
   "source": [
    "## Creating a Column as 'Same or not' which will be 1 if same and -1 if different"
   ]
  },
  {
   "cell_type": "code",
   "execution_count": 594,
   "metadata": {},
   "outputs": [
    {
     "data": {
      "text/html": [
       "<div>\n",
       "<style scoped>\n",
       "    .dataframe tbody tr th:only-of-type {\n",
       "        vertical-align: middle;\n",
       "    }\n",
       "\n",
       "    .dataframe tbody tr th {\n",
       "        vertical-align: top;\n",
       "    }\n",
       "\n",
       "    .dataframe thead th {\n",
       "        text-align: right;\n",
       "    }\n",
       "</style>\n",
       "<table border=\"1\" class=\"dataframe\">\n",
       "  <thead>\n",
       "    <tr style=\"text-align: right;\">\n",
       "      <th></th>\n",
       "      <th>predicted_probability</th>\n",
       "      <th>predicted_Billcode</th>\n",
       "      <th>Actual_Billcode</th>\n",
       "      <th>Same_Or_Not</th>\n",
       "    </tr>\n",
       "  </thead>\n",
       "  <tbody>\n",
       "    <tr>\n",
       "      <th>0</th>\n",
       "      <td>95.311589</td>\n",
       "      <td>15</td>\n",
       "      <td>15</td>\n",
       "      <td>0</td>\n",
       "    </tr>\n",
       "    <tr>\n",
       "      <th>1</th>\n",
       "      <td>76.949966</td>\n",
       "      <td>19</td>\n",
       "      <td>20</td>\n",
       "      <td>-1</td>\n",
       "    </tr>\n",
       "    <tr>\n",
       "      <th>2</th>\n",
       "      <td>90.717965</td>\n",
       "      <td>13</td>\n",
       "      <td>13</td>\n",
       "      <td>0</td>\n",
       "    </tr>\n",
       "    <tr>\n",
       "      <th>3</th>\n",
       "      <td>95.265219</td>\n",
       "      <td>20</td>\n",
       "      <td>20</td>\n",
       "      <td>0</td>\n",
       "    </tr>\n",
       "    <tr>\n",
       "      <th>4</th>\n",
       "      <td>99.103986</td>\n",
       "      <td>20</td>\n",
       "      <td>20</td>\n",
       "      <td>0</td>\n",
       "    </tr>\n",
       "  </tbody>\n",
       "</table>\n",
       "</div>"
      ],
      "text/plain": [
       "   predicted_probability  predicted_Billcode  Actual_Billcode  Same_Or_Not\n",
       "0              95.311589                  15               15            0\n",
       "1              76.949966                  19               20           -1\n",
       "2              90.717965                  13               13            0\n",
       "3              95.265219                  20               20            0\n",
       "4              99.103986                  20               20            0"
      ]
     },
     "execution_count": 594,
     "metadata": {},
     "output_type": "execute_result"
    }
   ],
   "source": [
    "prediction_bill_val_DT['Same_Or_Not']= prediction_bill_val_DT.apply(lambda x: -1 if(x[1]-x[2]) !=0 else 0,axis=1)\n",
    "prediction_bill_val_DT.head()"
   ]
  },
  {
   "cell_type": "markdown",
   "metadata": {},
   "source": [
    "### Finding out the rows of dataframe which has predicted_probability more than 90%\n"
   ]
  },
  {
   "cell_type": "code",
   "execution_count": 595,
   "metadata": {},
   "outputs": [
    {
     "data": {
      "text/plain": [
       "576"
      ]
     },
     "execution_count": 595,
     "metadata": {},
     "output_type": "execute_result"
    }
   ],
   "source": [
    "prediction_bill_val_DT[prediction_bill_val_DT.predicted_probability >= 90].shape[0]"
   ]
  },
  {
   "cell_type": "markdown",
   "metadata": {},
   "source": [
    "### No of Rows where predictions are inaccurate"
   ]
  },
  {
   "cell_type": "code",
   "execution_count": 597,
   "metadata": {},
   "outputs": [
    {
     "data": {
      "text/plain": [
       "0.008888888888888889"
      ]
     },
     "execution_count": 597,
     "metadata": {},
     "output_type": "execute_result"
    }
   ],
   "source": [
    "pred_over_90 = prediction_bill_val_DT[prediction_bill_val_DT.predicted_probability >= 90]\n",
    "pred_over_90[pred_over_90.Same_Or_Not !=0].shape[0]/validation_set.shape[0]"
   ]
  },
  {
   "cell_type": "code",
   "execution_count": null,
   "metadata": {},
   "outputs": [],
   "source": []
  },
  {
   "cell_type": "code",
   "execution_count": null,
   "metadata": {},
   "outputs": [],
   "source": []
  }
 ],
 "metadata": {
  "kernelspec": {
   "display_name": "Python 3",
   "language": "python",
   "name": "python3"
  },
  "language_info": {
   "codemirror_mode": {
    "name": "ipython",
    "version": 3
   },
   "file_extension": ".py",
   "mimetype": "text/x-python",
   "name": "python",
   "nbconvert_exporter": "python",
   "pygments_lexer": "ipython3",
   "version": "3.6.5"
  }
 },
 "nbformat": 4,
 "nbformat_minor": 2
}
