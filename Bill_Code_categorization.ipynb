{
 "cells": [
  {
   "cell_type": "markdown",
   "metadata": {},
   "source": [
    "## Importing the required Libraries"
   ]
  },
  {
   "cell_type": "code",
   "execution_count": 203,
   "metadata": {},
   "outputs": [],
   "source": [
    "import pandas as pd\n",
    "import numpy as np\n",
    "from IPython.display import display"
   ]
  },
  {
   "cell_type": "markdown",
   "metadata": {},
   "source": [
    "## Reading Data from Excel File "
   ]
  },
  {
   "cell_type": "code",
   "execution_count": 642,
   "metadata": {},
   "outputs": [
    {
     "data": {
      "text/html": [
       "<div>\n",
       "<style scoped>\n",
       "    .dataframe tbody tr th:only-of-type {\n",
       "        vertical-align: middle;\n",
       "    }\n",
       "\n",
       "    .dataframe tbody tr th {\n",
       "        vertical-align: top;\n",
       "    }\n",
       "\n",
       "    .dataframe thead th {\n",
       "        text-align: right;\n",
       "    }\n",
       "</style>\n",
       "<table border=\"1\" class=\"dataframe\">\n",
       "  <thead>\n",
       "    <tr style=\"text-align: right;\">\n",
       "      <th></th>\n",
       "      <th>unique_bill_site_name</th>\n",
       "      <th>bill_num</th>\n",
       "      <th>bill_name</th>\n",
       "    </tr>\n",
       "  </thead>\n",
       "  <tbody>\n",
       "    <tr>\n",
       "      <th>0</th>\n",
       "      <td>#PRC_E1H6Z0E5M3A0H0K9Q2B4C0V3Y4G7B6</td>\n",
       "      <td>#2000006</td>\n",
       "      <td>민법 일부개정법률안(이찬열의원 등 10인)</td>\n",
       "    </tr>\n",
       "    <tr>\n",
       "      <th>1</th>\n",
       "      <td>#PRC_G1F6U0H6D0F2V1J5J5E8W2O9N3T3Z5</td>\n",
       "      <td>#2000080</td>\n",
       "      <td>국유재산특례제한법 일부개정법률안(이은권의원 등 27인)</td>\n",
       "    </tr>\n",
       "    <tr>\n",
       "      <th>2</th>\n",
       "      <td>#PRC_G1J6D0T5Q3R0N1S4C1T9N1N9U5E1V0</td>\n",
       "      <td>#2000029</td>\n",
       "      <td>고용보험법 일부개정법률안(김성태의원 등 122인)</td>\n",
       "    </tr>\n",
       "    <tr>\n",
       "      <th>3</th>\n",
       "      <td>#PRC_H1I6Z0U5V3W0C0E9N5A1I3L4K6O6G7</td>\n",
       "      <td>#2000015</td>\n",
       "      <td>정부조직법 일부개정법률안(홍문표의원 등 12인)</td>\n",
       "    </tr>\n",
       "    <tr>\n",
       "      <th>4</th>\n",
       "      <td>#PRC_I1T6Q0M6D0E2X1N7N4V7D2R4K2C1R6</td>\n",
       "      <td>#2000083</td>\n",
       "      <td>지방교육재정교부금법 일부개정법률안(설훈의원 등 10인)</td>\n",
       "    </tr>\n",
       "  </tbody>\n",
       "</table>\n",
       "</div>"
      ],
      "text/plain": [
       "                 unique_bill_site_name  bill_num  \\\n",
       "0  #PRC_E1H6Z0E5M3A0H0K9Q2B4C0V3Y4G7B6  #2000006   \n",
       "1  #PRC_G1F6U0H6D0F2V1J5J5E8W2O9N3T3Z5  #2000080   \n",
       "2  #PRC_G1J6D0T5Q3R0N1S4C1T9N1N9U5E1V0  #2000029   \n",
       "3  #PRC_H1I6Z0U5V3W0C0E9N5A1I3L4K6O6G7  #2000015   \n",
       "4  #PRC_I1T6Q0M6D0E2X1N7N4V7D2R4K2C1R6  #2000083   \n",
       "\n",
       "                        bill_name  \n",
       "0         민법 일부개정법률안(이찬열의원 등 10인)  \n",
       "1  국유재산특례제한법 일부개정법률안(이은권의원 등 27인)  \n",
       "2     고용보험법 일부개정법률안(김성태의원 등 122인)  \n",
       "3      정부조직법 일부개정법률안(홍문표의원 등 12인)  \n",
       "4  지방교육재정교부금법 일부개정법률안(설훈의원 등 10인)  "
      ]
     },
     "execution_count": 642,
     "metadata": {},
     "output_type": "execute_result"
    }
   ],
   "source": [
    "korean_bills = pd.read_excel('Final_Bill_Information.xlsx',encoding='utf-8-sig',usecols=[0,1,2])\n",
    "korean_bills.head()"
   ]
  },
  {
   "cell_type": "code",
   "execution_count": 643,
   "metadata": {},
   "outputs": [],
   "source": [
    "def billNameSplit(bill_name):\n",
    "    listOfBillName = list(bill_name.replace('(','').replace(')',''))\n",
    "    return (' '.join(listOfBillName))\n",
    "    "
   ]
  },
  {
   "cell_type": "markdown",
   "metadata": {},
   "source": [
    "## Data Cleansing\n",
    "#### Let's clean the korean bill_data: \n",
    "#### Steps: Removing all the words inside brackets from all the bill_name datas"
   ]
  },
  {
   "cell_type": "code",
   "execution_count": 644,
   "metadata": {},
   "outputs": [
    {
     "data": {
      "text/html": [
       "<div>\n",
       "<style scoped>\n",
       "    .dataframe tbody tr th:only-of-type {\n",
       "        vertical-align: middle;\n",
       "    }\n",
       "\n",
       "    .dataframe tbody tr th {\n",
       "        vertical-align: top;\n",
       "    }\n",
       "\n",
       "    .dataframe thead th {\n",
       "        text-align: right;\n",
       "    }\n",
       "</style>\n",
       "<table border=\"1\" class=\"dataframe\">\n",
       "  <thead>\n",
       "    <tr style=\"text-align: right;\">\n",
       "      <th></th>\n",
       "      <th>unique_bill_site_name</th>\n",
       "      <th>bill_num</th>\n",
       "      <th>bill_name</th>\n",
       "      <th>renewed_bill_name</th>\n",
       "    </tr>\n",
       "  </thead>\n",
       "  <tbody>\n",
       "    <tr>\n",
       "      <th>0</th>\n",
       "      <td>#PRC_E1H6Z0E5M3A0H0K9Q2B4C0V3Y4G7B6</td>\n",
       "      <td>#2000006</td>\n",
       "      <td>민법 일부개정법률안(이찬열의원 등 10인)</td>\n",
       "      <td>민 법   일 부 개 정 법 률 안 이 찬 열 의 원   등   1 0 인</td>\n",
       "    </tr>\n",
       "    <tr>\n",
       "      <th>1</th>\n",
       "      <td>#PRC_G1F6U0H6D0F2V1J5J5E8W2O9N3T3Z5</td>\n",
       "      <td>#2000080</td>\n",
       "      <td>국유재산특례제한법 일부개정법률안(이은권의원 등 27인)</td>\n",
       "      <td>국 유 재 산 특 례 제 한 법   일 부 개 정 법 률 안 이 은 권 의 원   ...</td>\n",
       "    </tr>\n",
       "    <tr>\n",
       "      <th>2</th>\n",
       "      <td>#PRC_G1J6D0T5Q3R0N1S4C1T9N1N9U5E1V0</td>\n",
       "      <td>#2000029</td>\n",
       "      <td>고용보험법 일부개정법률안(김성태의원 등 122인)</td>\n",
       "      <td>고 용 보 험 법   일 부 개 정 법 률 안 김 성 태 의 원   등   1 2 2 인</td>\n",
       "    </tr>\n",
       "    <tr>\n",
       "      <th>3</th>\n",
       "      <td>#PRC_H1I6Z0U5V3W0C0E9N5A1I3L4K6O6G7</td>\n",
       "      <td>#2000015</td>\n",
       "      <td>정부조직법 일부개정법률안(홍문표의원 등 12인)</td>\n",
       "      <td>정 부 조 직 법   일 부 개 정 법 률 안 홍 문 표 의 원   등   1 2 인</td>\n",
       "    </tr>\n",
       "    <tr>\n",
       "      <th>4</th>\n",
       "      <td>#PRC_I1T6Q0M6D0E2X1N7N4V7D2R4K2C1R6</td>\n",
       "      <td>#2000083</td>\n",
       "      <td>지방교육재정교부금법 일부개정법률안(설훈의원 등 10인)</td>\n",
       "      <td>지 방 교 육 재 정 교 부 금 법   일 부 개 정 법 률 안 설 훈 의 원   ...</td>\n",
       "    </tr>\n",
       "  </tbody>\n",
       "</table>\n",
       "</div>"
      ],
      "text/plain": [
       "                 unique_bill_site_name  bill_num  \\\n",
       "0  #PRC_E1H6Z0E5M3A0H0K9Q2B4C0V3Y4G7B6  #2000006   \n",
       "1  #PRC_G1F6U0H6D0F2V1J5J5E8W2O9N3T3Z5  #2000080   \n",
       "2  #PRC_G1J6D0T5Q3R0N1S4C1T9N1N9U5E1V0  #2000029   \n",
       "3  #PRC_H1I6Z0U5V3W0C0E9N5A1I3L4K6O6G7  #2000015   \n",
       "4  #PRC_I1T6Q0M6D0E2X1N7N4V7D2R4K2C1R6  #2000083   \n",
       "\n",
       "                        bill_name  \\\n",
       "0         민법 일부개정법률안(이찬열의원 등 10인)   \n",
       "1  국유재산특례제한법 일부개정법률안(이은권의원 등 27인)   \n",
       "2     고용보험법 일부개정법률안(김성태의원 등 122인)   \n",
       "3      정부조직법 일부개정법률안(홍문표의원 등 12인)   \n",
       "4  지방교육재정교부금법 일부개정법률안(설훈의원 등 10인)   \n",
       "\n",
       "                                   renewed_bill_name  \n",
       "0          민 법   일 부 개 정 법 률 안 이 찬 열 의 원   등   1 0 인  \n",
       "1  국 유 재 산 특 례 제 한 법   일 부 개 정 법 률 안 이 은 권 의 원   ...  \n",
       "2  고 용 보 험 법   일 부 개 정 법 률 안 김 성 태 의 원   등   1 2 2 인  \n",
       "3    정 부 조 직 법   일 부 개 정 법 률 안 홍 문 표 의 원   등   1 2 인  \n",
       "4  지 방 교 육 재 정 교 부 금 법   일 부 개 정 법 률 안 설 훈 의 원   ...  "
      ]
     },
     "execution_count": 644,
     "metadata": {},
     "output_type": "execute_result"
    }
   ],
   "source": [
    "import re\n",
    "korean_bills['renewed_bill_name']=korean_bills['bill_name'].apply(billNameSplit)\n",
    "#korean_bills = korean_bills.drop(columns=['bill_name'],axis=1)\n",
    "korean_bills.head()"
   ]
  },
  {
   "cell_type": "markdown",
   "metadata": {},
   "source": [
    "## Reading the data from previous categorized bill"
   ]
  },
  {
   "cell_type": "code",
   "execution_count": 620,
   "metadata": {},
   "outputs": [
    {
     "data": {
      "text/html": [
       "<div>\n",
       "<style scoped>\n",
       "    .dataframe tbody tr th:only-of-type {\n",
       "        vertical-align: middle;\n",
       "    }\n",
       "\n",
       "    .dataframe tbody tr th {\n",
       "        vertical-align: top;\n",
       "    }\n",
       "\n",
       "    .dataframe thead th {\n",
       "        text-align: right;\n",
       "    }\n",
       "</style>\n",
       "<table border=\"1\" class=\"dataframe\">\n",
       "  <thead>\n",
       "    <tr style=\"text-align: right;\">\n",
       "      <th></th>\n",
       "      <th>unique_bill_site_num</th>\n",
       "      <th>bill_num</th>\n",
       "      <th>bill_name</th>\n",
       "      <th>billcode</th>\n",
       "      <th>New_bill_name</th>\n",
       "    </tr>\n",
       "  </thead>\n",
       "  <tbody>\n",
       "    <tr>\n",
       "      <th>0</th>\n",
       "      <td>#022942</td>\n",
       "      <td>#ZZ1519</td>\n",
       "      <td>한보사건관련보고</td>\n",
       "      <td>15</td>\n",
       "      <td>한 보 사 건 관 련 보 고</td>\n",
       "    </tr>\n",
       "    <tr>\n",
       "      <th>1</th>\n",
       "      <td>#018305</td>\n",
       "      <td>#AA1761</td>\n",
       "      <td>군법무관수당지급에관한건</td>\n",
       "      <td>16</td>\n",
       "      <td>군 법 무 관 수 당 지 급 에 관 한 건</td>\n",
       "    </tr>\n",
       "    <tr>\n",
       "      <th>2</th>\n",
       "      <td>#018304</td>\n",
       "      <td>#AA1756</td>\n",
       "      <td>법률용어통일에관한결의안</td>\n",
       "      <td>12</td>\n",
       "      <td>법 률 용 어 통 일 에 관 한 결 의 안</td>\n",
       "    </tr>\n",
       "    <tr>\n",
       "      <th>3</th>\n",
       "      <td>#018088</td>\n",
       "      <td>#AA1684</td>\n",
       "      <td>대한항공사의운항개시를위한외국항공기임차에관한동의안</td>\n",
       "      <td>19</td>\n",
       "      <td>대 한 항 공 사 의 운 항 개 시 를 위 한 외 국 항 공 기 임 차 에 관 한 ...</td>\n",
       "    </tr>\n",
       "    <tr>\n",
       "      <th>4</th>\n",
       "      <td>#018251</td>\n",
       "      <td>#AA1566</td>\n",
       "      <td>농지개량사업자금융자에대한국가보증동의안</td>\n",
       "      <td>4</td>\n",
       "      <td>농 지 개 량 사 업 자 금 융 자 에 대 한 국 가 보 증 동 의 안</td>\n",
       "    </tr>\n",
       "    <tr>\n",
       "      <th>5</th>\n",
       "      <td>#018252</td>\n",
       "      <td>#AA1565</td>\n",
       "      <td>국제관광공사사장임명(이원우)승인의건</td>\n",
       "      <td>20</td>\n",
       "      <td>국 제 관 광 공 사 사 장 임 명 이 원 우 승 인 의 건</td>\n",
       "    </tr>\n",
       "    <tr>\n",
       "      <th>6</th>\n",
       "      <td>#018296</td>\n",
       "      <td>#AA1283</td>\n",
       "      <td>도입비료판매가격개정에관한동의안</td>\n",
       "      <td>4</td>\n",
       "      <td>도 입 비 료 판 매 가 격 개 정 에 관 한 동 의 안</td>\n",
       "    </tr>\n",
       "    <tr>\n",
       "      <th>7</th>\n",
       "      <td>#017960</td>\n",
       "      <td>#AA1223</td>\n",
       "      <td>분과위원장(내무위원장조시형)제청승인의건</td>\n",
       "      <td>20</td>\n",
       "      <td>분 과 위 원 장 내 무 위 원 장 조 시 형 제 청 승 인 의 건</td>\n",
       "    </tr>\n",
       "    <tr>\n",
       "      <th>8</th>\n",
       "      <td>#017961</td>\n",
       "      <td>#AA1222</td>\n",
       "      <td>분과위원장(운영기획위원장오치성)제청승인의건</td>\n",
       "      <td>20</td>\n",
       "      <td>분 과 위 원 장 운 영 기 획 위 원 장 오 치 성 제 청 승 인 의 건</td>\n",
       "    </tr>\n",
       "    <tr>\n",
       "      <th>9</th>\n",
       "      <td>#018169</td>\n",
       "      <td>#AA1034</td>\n",
       "      <td>지방조달사무소설치법안</td>\n",
       "      <td>20</td>\n",
       "      <td>지 방 조 달 사 무 소 설 치 법 안</td>\n",
       "    </tr>\n",
       "  </tbody>\n",
       "</table>\n",
       "</div>"
      ],
      "text/plain": [
       "  unique_bill_site_num bill_num                   bill_name  billcode  \\\n",
       "0              #022942  #ZZ1519                    한보사건관련보고        15   \n",
       "1              #018305  #AA1761                군법무관수당지급에관한건        16   \n",
       "2              #018304  #AA1756                법률용어통일에관한결의안        12   \n",
       "3              #018088  #AA1684  대한항공사의운항개시를위한외국항공기임차에관한동의안        19   \n",
       "4              #018251  #AA1566        농지개량사업자금융자에대한국가보증동의안         4   \n",
       "5              #018252  #AA1565         국제관광공사사장임명(이원우)승인의건        20   \n",
       "6              #018296  #AA1283            도입비료판매가격개정에관한동의안         4   \n",
       "7              #017960  #AA1223       분과위원장(내무위원장조시형)제청승인의건        20   \n",
       "8              #017961  #AA1222     분과위원장(운영기획위원장오치성)제청승인의건        20   \n",
       "9              #018169  #AA1034                 지방조달사무소설치법안        20   \n",
       "\n",
       "                                       New_bill_name  \n",
       "0                                    한 보 사 건 관 련 보 고  \n",
       "1                            군 법 무 관 수 당 지 급 에 관 한 건  \n",
       "2                            법 률 용 어 통 일 에 관 한 결 의 안  \n",
       "3  대 한 항 공 사 의 운 항 개 시 를 위 한 외 국 항 공 기 임 차 에 관 한 ...  \n",
       "4            농 지 개 량 사 업 자 금 융 자 에 대 한 국 가 보 증 동 의 안  \n",
       "5                  국 제 관 광 공 사 사 장 임 명 이 원 우 승 인 의 건  \n",
       "6                    도 입 비 료 판 매 가 격 개 정 에 관 한 동 의 안  \n",
       "7              분 과 위 원 장 내 무 위 원 장 조 시 형 제 청 승 인 의 건  \n",
       "8          분 과 위 원 장 운 영 기 획 위 원 장 오 치 성 제 청 승 인 의 건  \n",
       "9                              지 방 조 달 사 무 소 설 치 법 안  "
      ]
     },
     "metadata": {},
     "output_type": "display_data"
    }
   ],
   "source": [
    "categorized_bills = pd.read_excel('legislative_bills1-19.xlsx',usecols=[0,1,2,22])\n",
    "#categorized_bills = pd.read_excel('Categorized bills.xlsx')\n",
    "categorized_bills['New_bill_name'] = legislative_bills['bill_name'].apply(billNameSplit)\n",
    "#categorized_bills['New_bill_name'] = categorized_bills['bill_name'].apply(billNameSplit)\n",
    "#legislative_bills.New_bill_name\n",
    "display(categorized_bills.head(10))"
   ]
  },
  {
   "cell_type": "code",
   "execution_count": 568,
   "metadata": {},
   "outputs": [
    {
     "data": {
      "text/plain": [
       "unique_bill_site_num    False\n",
       "bill_num                False\n",
       "bill_name               False\n",
       "billcode                False\n",
       "New_bill_name           False\n",
       "dtype: bool"
      ]
     },
     "execution_count": 568,
     "metadata": {},
     "output_type": "execute_result"
    }
   ],
   "source": [
    "categorized_bills.isnull().any()"
   ]
  },
  {
   "cell_type": "code",
   "execution_count": 569,
   "metadata": {},
   "outputs": [],
   "source": [
    "new_categorized_bills = categorized_bills[categorized_bills.billcode.notna()]\n",
    "\n",
    "uncategorized_bills = categorized_bills[categorized_bills.billcode.isna()]\n"
   ]
  },
  {
   "cell_type": "markdown",
   "metadata": {},
   "source": [
    "### Bills Having billcode not null and we are going to train the models on  these new_categorized_bills"
   ]
  },
  {
   "cell_type": "code",
   "execution_count": 570,
   "metadata": {},
   "outputs": [
    {
     "data": {
      "text/html": [
       "<div>\n",
       "<style scoped>\n",
       "    .dataframe tbody tr th:only-of-type {\n",
       "        vertical-align: middle;\n",
       "    }\n",
       "\n",
       "    .dataframe tbody tr th {\n",
       "        vertical-align: top;\n",
       "    }\n",
       "\n",
       "    .dataframe thead th {\n",
       "        text-align: right;\n",
       "    }\n",
       "</style>\n",
       "<table border=\"1\" class=\"dataframe\">\n",
       "  <thead>\n",
       "    <tr style=\"text-align: right;\">\n",
       "      <th></th>\n",
       "      <th>unique_bill_site_num</th>\n",
       "      <th>bill_num</th>\n",
       "      <th>bill_name</th>\n",
       "      <th>billcode</th>\n",
       "      <th>New_bill_name</th>\n",
       "    </tr>\n",
       "  </thead>\n",
       "  <tbody>\n",
       "    <tr>\n",
       "      <th>0</th>\n",
       "      <td>#022942</td>\n",
       "      <td>#ZZ1519</td>\n",
       "      <td>한보사건관련보고</td>\n",
       "      <td>15</td>\n",
       "      <td>한 보 사 건 관 련 보 고</td>\n",
       "    </tr>\n",
       "    <tr>\n",
       "      <th>1</th>\n",
       "      <td>#018305</td>\n",
       "      <td>#AA1761</td>\n",
       "      <td>군법무관수당지급에관한건</td>\n",
       "      <td>16</td>\n",
       "      <td>군 법 무 관 수 당 지 급 에 관 한 건</td>\n",
       "    </tr>\n",
       "    <tr>\n",
       "      <th>2</th>\n",
       "      <td>#018304</td>\n",
       "      <td>#AA1756</td>\n",
       "      <td>법률용어통일에관한결의안</td>\n",
       "      <td>12</td>\n",
       "      <td>법 률 용 어 통 일 에 관 한 결 의 안</td>\n",
       "    </tr>\n",
       "    <tr>\n",
       "      <th>3</th>\n",
       "      <td>#018088</td>\n",
       "      <td>#AA1684</td>\n",
       "      <td>대한항공사의운항개시를위한외국항공기임차에관한동의안</td>\n",
       "      <td>19</td>\n",
       "      <td>대 한 항 공 사 의 운 항 개 시 를 위 한 외 국 항 공 기 임 차 에 관 한 ...</td>\n",
       "    </tr>\n",
       "    <tr>\n",
       "      <th>4</th>\n",
       "      <td>#018251</td>\n",
       "      <td>#AA1566</td>\n",
       "      <td>농지개량사업자금융자에대한국가보증동의안</td>\n",
       "      <td>4</td>\n",
       "      <td>농 지 개 량 사 업 자 금 융 자 에 대 한 국 가 보 증 동 의 안</td>\n",
       "    </tr>\n",
       "  </tbody>\n",
       "</table>\n",
       "</div>"
      ],
      "text/plain": [
       "  unique_bill_site_num bill_num                   bill_name  billcode  \\\n",
       "0              #022942  #ZZ1519                    한보사건관련보고        15   \n",
       "1              #018305  #AA1761                군법무관수당지급에관한건        16   \n",
       "2              #018304  #AA1756                법률용어통일에관한결의안        12   \n",
       "3              #018088  #AA1684  대한항공사의운항개시를위한외국항공기임차에관한동의안        19   \n",
       "4              #018251  #AA1566        농지개량사업자금융자에대한국가보증동의안         4   \n",
       "\n",
       "                                       New_bill_name  \n",
       "0                                    한 보 사 건 관 련 보 고  \n",
       "1                            군 법 무 관 수 당 지 급 에 관 한 건  \n",
       "2                            법 률 용 어 통 일 에 관 한 결 의 안  \n",
       "3  대 한 항 공 사 의 운 항 개 시 를 위 한 외 국 항 공 기 임 차 에 관 한 ...  \n",
       "4            농 지 개 량 사 업 자 금 융 자 에 대 한 국 가 보 증 동 의 안  "
      ]
     },
     "execution_count": 570,
     "metadata": {},
     "output_type": "execute_result"
    }
   ],
   "source": [
    "new_categorized_bills.head()"
   ]
  },
  {
   "cell_type": "markdown",
   "metadata": {},
   "source": [
    "## Let's explore the BillCode Data "
   ]
  },
  {
   "cell_type": "code",
   "execution_count": 571,
   "metadata": {},
   "outputs": [
    {
     "data": {
      "text/plain": [
       "array([15, 16, 12, 19,  4, 20, 10, 11,  1, 88, 13, 23,  8, 99, 21,  6,  3,\n",
       "        2,  5,  0, 22, 18, 14, 17,  7,  9, 77], dtype=int64)"
      ]
     },
     "execution_count": 571,
     "metadata": {},
     "output_type": "execute_result"
    }
   ],
   "source": [
    "new_categorized_bills['billcode'].unique()\n"
   ]
  },
  {
   "cell_type": "code",
   "execution_count": 572,
   "metadata": {},
   "outputs": [
    {
     "data": {
      "text/html": [
       "<div>\n",
       "<style scoped>\n",
       "    .dataframe tbody tr th:only-of-type {\n",
       "        vertical-align: middle;\n",
       "    }\n",
       "\n",
       "    .dataframe tbody tr th {\n",
       "        vertical-align: top;\n",
       "    }\n",
       "\n",
       "    .dataframe thead th {\n",
       "        text-align: right;\n",
       "    }\n",
       "</style>\n",
       "<table border=\"1\" class=\"dataframe\">\n",
       "  <thead>\n",
       "    <tr style=\"text-align: right;\">\n",
       "      <th></th>\n",
       "      <th>billCode</th>\n",
       "      <th>bill_code_count</th>\n",
       "    </tr>\n",
       "  </thead>\n",
       "  <tbody>\n",
       "    <tr>\n",
       "      <th>0</th>\n",
       "      <td>20.0</td>\n",
       "      <td>1347</td>\n",
       "    </tr>\n",
       "    <tr>\n",
       "      <th>1</th>\n",
       "      <td>15.0</td>\n",
       "      <td>649</td>\n",
       "    </tr>\n",
       "    <tr>\n",
       "      <th>2</th>\n",
       "      <td>1.0</td>\n",
       "      <td>598</td>\n",
       "    </tr>\n",
       "    <tr>\n",
       "      <th>3</th>\n",
       "      <td>13.0</td>\n",
       "      <td>443</td>\n",
       "    </tr>\n",
       "    <tr>\n",
       "      <th>4</th>\n",
       "      <td>3.0</td>\n",
       "      <td>293</td>\n",
       "    </tr>\n",
       "  </tbody>\n",
       "</table>\n",
       "</div>"
      ],
      "text/plain": [
       "   billCode  bill_code_count\n",
       "0      20.0             1347\n",
       "1      15.0              649\n",
       "2       1.0              598\n",
       "3      13.0              443\n",
       "4       3.0              293"
      ]
     },
     "execution_count": 572,
     "metadata": {},
     "output_type": "execute_result"
    }
   ],
   "source": [
    "bill_code_count = pd.DataFrame(Y.value_counts())\n",
    "bill_code_count.reset_index(drop=False,inplace=True)\n",
    "bill_code_count = bill_code_count.sort_values(by='billcode',ascending=False,axis=0)\n",
    "bill_code_count=bill_code_count.rename(columns={'index':'billCode','billcode':'bill_code_count'}).reset_index(drop=True)\n",
    "bill_code_count.head()"
   ]
  },
  {
   "cell_type": "markdown",
   "metadata": {},
   "source": [
    "## Data Modelling \n",
    "## Split data into train,test and validation tests \n"
   ]
  },
  {
   "cell_type": "code",
   "execution_count": 573,
   "metadata": {},
   "outputs": [
    {
     "name": "stdout",
     "output_type": "stream",
     "text": [
      "train_set1 shape is (9000, 2)\n",
      "validation_set shape is (900, 2)\n",
      "train_set2 shape is (8100, 2)\n",
      "test_set shape is (1000, 2)\n"
     ]
    }
   ],
   "source": [
    "from sklearn.model_selection import train_test_split as tts\n",
    "train_set1,test_set = tts(new_categorized_bills[['New_bill_name','billcode']][0:10000],test_size=0.1,\\\n",
    "                         random_state=3,stratify=new_categorized_bills['billcode'][0:10000])\n",
    "train_set2,validation_set = tts(train_set1,test_size=0.10,random_state=47,stratify=train_set1['billcode'])\n",
    "print('train_set1 shape is {}'.format(train_set1.shape))\n",
    "print('validation_set shape is {}'.format(validation_set.shape))\n",
    "print('train_set2 shape is {}'.format(train_set2.shape))\n",
    "print('test_set shape is {}'.format(test_set.shape))"
   ]
  },
  {
   "cell_type": "code",
   "execution_count": 574,
   "metadata": {},
   "outputs": [
    {
     "data": {
      "text/html": [
       "<div>\n",
       "<style scoped>\n",
       "    .dataframe tbody tr th:only-of-type {\n",
       "        vertical-align: middle;\n",
       "    }\n",
       "\n",
       "    .dataframe tbody tr th {\n",
       "        vertical-align: top;\n",
       "    }\n",
       "\n",
       "    .dataframe thead th {\n",
       "        text-align: right;\n",
       "    }\n",
       "</style>\n",
       "<table border=\"1\" class=\"dataframe\">\n",
       "  <thead>\n",
       "    <tr style=\"text-align: right;\">\n",
       "      <th></th>\n",
       "      <th>New_bill_name</th>\n",
       "      <th>billcode</th>\n",
       "    </tr>\n",
       "  </thead>\n",
       "  <tbody>\n",
       "    <tr>\n",
       "      <th>3126</th>\n",
       "      <td>책 임 운 영 기 관 의 설 치 · 운 영 에 관 한 법 률 중 개 정 법 률 안</td>\n",
       "      <td>15</td>\n",
       "    </tr>\n",
       "    <tr>\n",
       "      <th>6616</th>\n",
       "      <td>국 가 유 공 자 예 우 등 에 관 한 법 률 중 개 정 법 률 안 신 기 하 의 ...</td>\n",
       "      <td>13</td>\n",
       "    </tr>\n",
       "    <tr>\n",
       "      <th>3759</th>\n",
       "      <td>부 정 부 패 방 지 법 안 최 연 희 의 원   외   1 3 2 인</td>\n",
       "      <td>20</td>\n",
       "    </tr>\n",
       "  </tbody>\n",
       "</table>\n",
       "</div>"
      ],
      "text/plain": [
       "                                          New_bill_name  billcode\n",
       "3126      책 임 운 영 기 관 의 설 치 · 운 영 에 관 한 법 률 중 개 정 법 률 안        15\n",
       "6616  국 가 유 공 자 예 우 등 에 관 한 법 률 중 개 정 법 률 안 신 기 하 의 ...        13\n",
       "3759            부 정 부 패 방 지 법 안 최 연 희 의 원   외   1 3 2 인        20"
      ]
     },
     "execution_count": 574,
     "metadata": {},
     "output_type": "execute_result"
    }
   ],
   "source": [
    "train_set1.head(3)"
   ]
  },
  {
   "cell_type": "markdown",
   "metadata": {},
   "source": [
    "## Implementing Logistic Regression"
   ]
  },
  {
   "cell_type": "code",
   "execution_count": 575,
   "metadata": {},
   "outputs": [
    {
     "name": "stdout",
     "output_type": "stream",
     "text": [
      "91.10000000000001\n"
     ]
    }
   ],
   "source": [
    "import warnings\n",
    "warnings.filterwarnings('ignore')\n",
    "from sklearn.linear_model import LogisticRegression\n",
    "from sklearn.feature_extraction.text import CountVectorizer as CV,TfidfVectorizer as tfd\n",
    "from sklearn.pipeline import make_pipeline\n",
    "from sklearn.model_selection import GridSearchCV\n",
    "pipe = make_pipeline(tfd(ngram_range=(1,2),strip_accents='unicode',min_df=3),\n",
    "                     LogisticRegression())\n",
    "params={'logisticregression__C':[20],'logisticregression__penalty':['l1','l2'],\n",
    "           'logisticregression__random_state':[5]}\n",
    "grid=GridSearchCV(pipe,param_grid=params,cv=5).fit(train_set2['New_bill_name'],train_set2['billcode'])\n",
    "print(grid.score(test_set['New_bill_name'],test_set['billcode'])*100)\n",
    "##random_state and cv=8:90.49"
   ]
  },
  {
   "cell_type": "code",
   "execution_count": 576,
   "metadata": {},
   "outputs": [
    {
     "name": "stdout",
     "output_type": "stream",
     "text": [
      "grid best cross_validation score is: 90.51%\n"
     ]
    }
   ],
   "source": [
    "print('grid best cross_validation score is: {:.2f}%'.format(grid.best_score_*100))"
   ]
  },
  {
   "cell_type": "code",
   "execution_count": 577,
   "metadata": {},
   "outputs": [
    {
     "name": "stdout",
     "output_type": "stream",
     "text": [
      "grid_best_params_is {'logisticregression__C': 20, 'logisticregression__penalty': 'l2', 'logisticregression__random_state': 5}\n"
     ]
    }
   ],
   "source": [
    "print('grid_best_params_is {}'.format(grid.best_params_))"
   ]
  },
  {
   "cell_type": "code",
   "execution_count": 578,
   "metadata": {},
   "outputs": [
    {
     "name": "stdout",
     "output_type": "stream",
     "text": [
      "Accuracy on Validation Set is : 90.44%\n"
     ]
    }
   ],
   "source": [
    "print('Accuracy on Validation Set is : {:.2f}%'.format(grid.score(validation_set['New_bill_name'],\n",
    "                                                                  validation_set['billcode'])*100))"
   ]
  },
  {
   "cell_type": "code",
   "execution_count": 579,
   "metadata": {},
   "outputs": [
    {
     "name": "stdout",
     "output_type": "stream",
     "text": [
      "Accuracy on Test Set is : 91.10%\n"
     ]
    }
   ],
   "source": [
    "print('Accuracy on Test Set is : {:.2f}%'.format(grid.score(test_set['New_bill_name'],\n",
    "                                                                  test_set['billcode'])*100))\n"
   ]
  },
  {
   "cell_type": "markdown",
   "metadata": {},
   "source": [
    "## RandomForestClassifier"
   ]
  },
  {
   "cell_type": "code",
   "execution_count": 240,
   "metadata": {},
   "outputs": [
    {
     "data": {
      "text/plain": [
       "GridSearchCV(cv=4, error_score='raise',\n",
       "       estimator=Pipeline(memory=None,\n",
       "     steps=[('countvectorizer', CountVectorizer(analyzer='word', binary=False, decode_error='strict',\n",
       "        dtype=<class 'numpy.int64'>, encoding='utf-8', input='content',\n",
       "        lowercase=True, max_df=1.0, max_features=7000, min_df=3,\n",
       "        ngram_range=(1, 2), preprocessor=None, stop_words=None,\n",
       "  ...n_jobs=1,\n",
       "            oob_score=False, random_state=None, verbose=0,\n",
       "            warm_start=False))]),\n",
       "       fit_params=None, iid=True, n_jobs=1,\n",
       "       param_grid={'randomforestclassifier__n_estimators': [10, 30, 20, 15, 25], 'randomforestclassifier__criterion': ['gini', 'entropy'], 'randomforestclassifier__max_leaf_nodes': [10, 20, 30, 40, 50], 'randomforestclassifier__random_state': [5]},\n",
       "       pre_dispatch='2*n_jobs', refit=True, return_train_score='warn',\n",
       "       scoring=None, verbose=0)"
      ]
     },
     "execution_count": 240,
     "metadata": {},
     "output_type": "execute_result"
    }
   ],
   "source": [
    "from sklearn.ensemble import RandomForestClassifier\n",
    "from sklearn.feature_extraction.text import CountVectorizer as CV\n",
    "from sklearn.pipeline import make_pipeline\n",
    "from sklearn.model_selection import GridSearchCV\n",
    "pipe = make_pipeline(CV(ngram_range=(1,2),max_features=7000,strip_accents='unicode',min_df=3),\n",
    "                     RandomForestClassifier())\n",
    "params={'randomforestclassifier__n_estimators':[10,30,20,15,25],'randomforestclassifier__criterion':['gini','entropy'],\n",
    "       'randomforestclassifier__max_leaf_nodes':[10,20,30,40,50],'randomforestclassifier__random_state':[5]}\n",
    "grid1=GridSearchCV(pipe,param_grid=params,cv=4).fit(train_set2['New_bill_name'],train_set2['billcode'])\n",
    "grid1"
   ]
  },
  {
   "cell_type": "code",
   "execution_count": 241,
   "metadata": {},
   "outputs": [
    {
     "name": "stdout",
     "output_type": "stream",
     "text": [
      "grid best cross_validation score is: 63.22%\n"
     ]
    }
   ],
   "source": [
    "print('grid best cross_validation score is: {:.2f}%'.format(grid1.best_score_*100))"
   ]
  },
  {
   "cell_type": "code",
   "execution_count": 242,
   "metadata": {},
   "outputs": [
    {
     "name": "stdout",
     "output_type": "stream",
     "text": [
      "grid_best_params_is {'randomforestclassifier__criterion': 'gini', 'randomforestclassifier__max_leaf_nodes': 50, 'randomforestclassifier__n_estimators': 25, 'randomforestclassifier__random_state': 5}\n"
     ]
    }
   ],
   "source": [
    "print('grid_best_params_is {}'.format(grid1.best_params_))"
   ]
  },
  {
   "cell_type": "code",
   "execution_count": 243,
   "metadata": {},
   "outputs": [
    {
     "name": "stdout",
     "output_type": "stream",
     "text": [
      "Accuracy on Validation Set is : 62.15%\n"
     ]
    }
   ],
   "source": [
    "print('Accuracy on Validation Set is : {:.2f}%'.format(grid1.score(validation_set['New_bill_name'],\n",
    "                                                                  validation_set['billcode'])*100))"
   ]
  },
  {
   "cell_type": "code",
   "execution_count": 244,
   "metadata": {},
   "outputs": [
    {
     "name": "stdout",
     "output_type": "stream",
     "text": [
      "Accuracy on Test Set is : 64.80%\n"
     ]
    }
   ],
   "source": [
    "print('Accuracy on Test Set is : {:.2f}%'.format(grid1.score(test_set['New_bill_name'],\n",
    "                                                                  test_set['billcode'])*100))"
   ]
  },
  {
   "cell_type": "markdown",
   "metadata": {},
   "source": [
    "### Naive Bayes Classifier"
   ]
  },
  {
   "cell_type": "markdown",
   "metadata": {},
   "source": [
    "### GaussianNB"
   ]
  },
  {
   "cell_type": "code",
   "execution_count": 271,
   "metadata": {},
   "outputs": [
    {
     "data": {
      "text/plain": [
       "GridSearchCV(cv=3, error_score='raise',\n",
       "       estimator=Pipeline(memory=None,\n",
       "     steps=[('countvectorizer', CountVectorizer(analyzer='word', binary=False, decode_error='strict',\n",
       "        dtype=<class 'numpy.int64'>, encoding='utf-8', input='content',\n",
       "        lowercase=True, max_df=1.0, max_features=7000, min_df=3,\n",
       "        ngram_range=(1, 2), preprocessor=None, stop_words=None,\n",
       "  ..._args=None, pass_y='deprecated',\n",
       "          validate=True)), ('gaussiannb', GaussianNB(priors=None))]),\n",
       "       fit_params=None, iid=True, n_jobs=1,\n",
       "       param_grid={'gaussiannb__priors': [None]}, pre_dispatch='2*n_jobs',\n",
       "       refit=True, return_train_score='warn', scoring=None, verbose=0)"
      ]
     },
     "execution_count": 271,
     "metadata": {},
     "output_type": "execute_result"
    }
   ],
   "source": [
    "from sklearn.preprocessing import FunctionTransformer\n",
    "from sklearn.naive_bayes import GaussianNB\n",
    "from sklearn.feature_extraction.text import CountVectorizer as CV\n",
    "from sklearn.pipeline import make_pipeline\n",
    "from sklearn.model_selection import GridSearchCV\n",
    "pipe = make_pipeline(CV(ngram_range=(1,2),max_features=7000,strip_accents='unicode',min_df=3),\n",
    "                     FunctionTransformer(lambda x: x.todense(),accept_sparse=True),\n",
    "                     GaussianNB())\n",
    "params={'gaussiannb__priors':[None]}\n",
    "grid2=GridSearchCV(pipe,param_grid=params,cv=3).fit(train_set2['New_bill_name'],train_set2['billcode'])\n",
    "grid2"
   ]
  },
  {
   "cell_type": "code",
   "execution_count": 272,
   "metadata": {},
   "outputs": [
    {
     "name": "stdout",
     "output_type": "stream",
     "text": [
      "grid best cross_validation score is: 76.07%\n"
     ]
    }
   ],
   "source": [
    "print('grid best cross_validation score is: {:.2f}%'.format(grid2.best_score_*100))"
   ]
  },
  {
   "cell_type": "code",
   "execution_count": 273,
   "metadata": {},
   "outputs": [
    {
     "name": "stdout",
     "output_type": "stream",
     "text": [
      "grid_best_params_is {'gaussiannb__priors': None}\n"
     ]
    }
   ],
   "source": [
    "print('grid_best_params_is {}'.format(grid2.best_params_))"
   ]
  },
  {
   "cell_type": "code",
   "execution_count": 274,
   "metadata": {},
   "outputs": [
    {
     "name": "stdout",
     "output_type": "stream",
     "text": [
      "Accuracy on Validation Set is : 76.74%\n"
     ]
    }
   ],
   "source": [
    "print('Accuracy on Validation Set is : {:.2f}%'.format(grid2.score(validation_set['New_bill_name'],\n",
    "                                                                  validation_set['billcode'])*100))"
   ]
  },
  {
   "cell_type": "code",
   "execution_count": 275,
   "metadata": {},
   "outputs": [
    {
     "name": "stdout",
     "output_type": "stream",
     "text": [
      "Accuracy on Test Set is : 72.50%\n"
     ]
    }
   ],
   "source": [
    "print('Accuracy on Test Set is : {:.2f}%'.format(grid2.score(test_set['New_bill_name'],\n",
    "                                                                  test_set['billcode'])*100))"
   ]
  },
  {
   "cell_type": "markdown",
   "metadata": {},
   "source": [
    "### MultinomialNB"
   ]
  },
  {
   "cell_type": "code",
   "execution_count": 284,
   "metadata": {},
   "outputs": [
    {
     "data": {
      "text/plain": [
       "GridSearchCV(cv=3, error_score='raise',\n",
       "       estimator=Pipeline(memory=None,\n",
       "     steps=[('countvectorizer', CountVectorizer(analyzer='word', binary=False, decode_error='strict',\n",
       "        dtype=<class 'numpy.int64'>, encoding='utf-8', input='content',\n",
       "        lowercase=True, max_df=1.0, max_features=7000, min_df=3,\n",
       "        ngram_range=(1, 2), preprocessor=None, stop_words=None,\n",
       "  ...     validate=True)), ('multinomialnb', MultinomialNB(alpha=1.0, class_prior=None, fit_prior=True))]),\n",
       "       fit_params=None, iid=True, n_jobs=1,\n",
       "       param_grid={'multinomialnb__alpha': [1, 3, 5, 10]},\n",
       "       pre_dispatch='2*n_jobs', refit=True, return_train_score='warn',\n",
       "       scoring=None, verbose=0)"
      ]
     },
     "execution_count": 284,
     "metadata": {},
     "output_type": "execute_result"
    }
   ],
   "source": [
    "from sklearn.preprocessing import FunctionTransformer\n",
    "from sklearn.naive_bayes import MultinomialNB\n",
    "from sklearn.feature_extraction.text import CountVectorizer as CV\n",
    "from sklearn.pipeline import make_pipeline\n",
    "from sklearn.model_selection import GridSearchCV\n",
    "pipe = make_pipeline(CV(ngram_range=(1,2),max_features=7000,strip_accents='unicode',min_df=3),\n",
    "                     FunctionTransformer(lambda x: x.todense(),accept_sparse=True),\n",
    "                     MultinomialNB())\n",
    "params={'multinomialnb__alpha':[1,3,5,10]}\n",
    "grid3=GridSearchCV(pipe,param_grid=params,cv=3).fit(train_set2['New_bill_name'],train_set2['billcode'])\n",
    "grid3"
   ]
  },
  {
   "cell_type": "code",
   "execution_count": 285,
   "metadata": {},
   "outputs": [
    {
     "name": "stdout",
     "output_type": "stream",
     "text": [
      "grid best cross_validation score is: 74.76%\n"
     ]
    }
   ],
   "source": [
    "print('grid best cross_validation score is: {:.2f}%'.format(grid3.best_score_*100))"
   ]
  },
  {
   "cell_type": "code",
   "execution_count": 286,
   "metadata": {},
   "outputs": [
    {
     "name": "stdout",
     "output_type": "stream",
     "text": [
      "grid_best_params_is {'multinomialnb__alpha': 1}\n"
     ]
    }
   ],
   "source": [
    "print('grid_best_params_is {}'.format(grid3.best_params_))"
   ]
  },
  {
   "cell_type": "code",
   "execution_count": 287,
   "metadata": {},
   "outputs": [
    {
     "name": "stdout",
     "output_type": "stream",
     "text": [
      "Accuracy on Validation Set is : 77.63%\n"
     ]
    }
   ],
   "source": [
    "print('Accuracy on Validation Set is : {:.2f}%'.format(grid3.score(validation_set['New_bill_name'],\n",
    "                                                                  validation_set['billcode'])*100))"
   ]
  },
  {
   "cell_type": "code",
   "execution_count": 288,
   "metadata": {},
   "outputs": [
    {
     "name": "stdout",
     "output_type": "stream",
     "text": [
      "Accuracy on Test Set is : 76.40%\n"
     ]
    }
   ],
   "source": [
    "print('Accuracy on Test Set is : {:.2f}%'.format(grid3.score(test_set['New_bill_name'],\n",
    "                                                                  test_set['billcode'])*100))"
   ]
  },
  {
   "cell_type": "markdown",
   "metadata": {},
   "source": [
    "## KNeighborsClassifier"
   ]
  },
  {
   "cell_type": "code",
   "execution_count": 295,
   "metadata": {},
   "outputs": [
    {
     "data": {
      "text/plain": [
       "GridSearchCV(cv=3, error_score='raise',\n",
       "       estimator=Pipeline(memory=None,\n",
       "     steps=[('countvectorizer', CountVectorizer(analyzer='word', binary=False, decode_error='strict',\n",
       "        dtype=<class 'numpy.int64'>, encoding='utf-8', input='content',\n",
       "        lowercase=True, max_df=1.0, max_features=7000, min_df=3,\n",
       "        ngram_range=(1, 2), preprocessor=None, stop_words=None,\n",
       "  ...owski',\n",
       "           metric_params=None, n_jobs=1, n_neighbors=5, p=2,\n",
       "           weights='uniform'))]),\n",
       "       fit_params=None, iid=True, n_jobs=1,\n",
       "       param_grid={'kneighborsclassifier__n_neighbors': [1, 3, 5, 10], 'kneighborsclassifier__metric': ['minkowski', 'euclidean', 'manhattan'], 'kneighborsclassifier__p': [1, 2]},\n",
       "       pre_dispatch='2*n_jobs', refit=True, return_train_score='warn',\n",
       "       scoring=None, verbose=0)"
      ]
     },
     "execution_count": 295,
     "metadata": {},
     "output_type": "execute_result"
    }
   ],
   "source": [
    "from sklearn.preprocessing import FunctionTransformer\n",
    "from sklearn.neighbors import KNeighborsClassifier\n",
    "from sklearn.feature_extraction.text import CountVectorizer as CV\n",
    "from sklearn.pipeline import make_pipeline\n",
    "from sklearn.model_selection import GridSearchCV\n",
    "pipe = make_pipeline(CV(ngram_range=(1,2),max_features=7000,strip_accents='unicode',min_df=3),\n",
    "                     KNeighborsClassifier())\n",
    "params={'kneighborsclassifier__n_neighbors':[1,3,5,10],'kneighborsclassifier__metric':['minkowski','euclidean','manhattan'],\n",
    "       'kneighborsclassifier__p':[1,2]}\n",
    "grid4=GridSearchCV(pipe,param_grid=params,cv=3).fit(train_set2['New_bill_name'],train_set2['billcode'])\n",
    "grid4"
   ]
  },
  {
   "cell_type": "code",
   "execution_count": 296,
   "metadata": {},
   "outputs": [
    {
     "name": "stdout",
     "output_type": "stream",
     "text": [
      "grid best cross_validation score is: 76.90%\n"
     ]
    }
   ],
   "source": [
    "print('grid best cross_validation score is: {:.2f}%'.format(grid4.best_score_*100))"
   ]
  },
  {
   "cell_type": "code",
   "execution_count": 297,
   "metadata": {},
   "outputs": [
    {
     "name": "stdout",
     "output_type": "stream",
     "text": [
      "grid_best_params_is {'kneighborsclassifier__metric': 'minkowski', 'kneighborsclassifier__n_neighbors': 1, 'kneighborsclassifier__p': 2}\n"
     ]
    }
   ],
   "source": [
    "print('grid_best_params_is {}'.format(grid4.best_params_))"
   ]
  },
  {
   "cell_type": "code",
   "execution_count": 298,
   "metadata": {},
   "outputs": [
    {
     "name": "stdout",
     "output_type": "stream",
     "text": [
      "Accuracy on Validation Set is : 80.74%\n"
     ]
    }
   ],
   "source": [
    "print('Accuracy on Validation Set is : {:.2f}%'.format(grid4.score(validation_set['New_bill_name'],\n",
    "                                                                  validation_set['billcode'])*100))"
   ]
  },
  {
   "cell_type": "code",
   "execution_count": 299,
   "metadata": {},
   "outputs": [
    {
     "name": "stdout",
     "output_type": "stream",
     "text": [
      "Accuracy on Test Set is : 79.20%\n"
     ]
    }
   ],
   "source": [
    "print('Accuracy on Test Set is : {:.2f}%'.format(grid4.score(test_set['New_bill_name'],\n",
    "                                                                  test_set['billcode'])*100))"
   ]
  },
  {
   "cell_type": "markdown",
   "metadata": {},
   "source": [
    "### GradientBoostingClassifier"
   ]
  },
  {
   "cell_type": "code",
   "execution_count": 300,
   "metadata": {},
   "outputs": [
    {
     "data": {
      "text/plain": [
       "GridSearchCV(cv=4, error_score='raise',\n",
       "       estimator=Pipeline(memory=None,\n",
       "     steps=[('countvectorizer', CountVectorizer(analyzer='word', binary=False, decode_error='strict',\n",
       "        dtype=<class 'numpy.int64'>, encoding='utf-8', input='content',\n",
       "        lowercase=True, max_df=1.0, max_features=7000, min_df=3,\n",
       "        ngram_range=(1, 2), preprocessor=None, stop_words=None,\n",
       "  ...      presort='auto', random_state=None, subsample=1.0, verbose=0,\n",
       "              warm_start=False))]),\n",
       "       fit_params=None, iid=True, n_jobs=1,\n",
       "       param_grid={'gradientboostingclassifier__n_estimators': [10, 30, 20, 15, 25], 'gradientboostingclassifier__learning_rate': [1, 2, 3, 4], 'gradientboostingclassifier__random_state': [5]},\n",
       "       pre_dispatch='2*n_jobs', refit=True, return_train_score='warn',\n",
       "       scoring=None, verbose=0)"
      ]
     },
     "execution_count": 300,
     "metadata": {},
     "output_type": "execute_result"
    }
   ],
   "source": [
    "from sklearn.ensemble import GradientBoostingClassifier\n",
    "from sklearn.feature_extraction.text import CountVectorizer as CV\n",
    "from sklearn.pipeline import make_pipeline\n",
    "from sklearn.model_selection import GridSearchCV\n",
    "pipe = make_pipeline(CV(ngram_range=(1,2),max_features=7000,strip_accents='unicode',min_df=3),\n",
    "                     GradientBoostingClassifier())\n",
    "params={'gradientboostingclassifier__n_estimators':[10,30,20,15,25],\n",
    "        'gradientboostingclassifier__learning_rate':[1,2,3,4],'gradientboostingclassifier__random_state':[5]}\n",
    "grid5=GridSearchCV(pipe,param_grid=params,cv=4).fit(train_set2['New_bill_name'],train_set2['billcode'])\n",
    "grid5"
   ]
  },
  {
   "cell_type": "code",
   "execution_count": 301,
   "metadata": {},
   "outputs": [
    {
     "name": "stdout",
     "output_type": "stream",
     "text": [
      "grid best cross_validation score is: 1.66%\n"
     ]
    }
   ],
   "source": [
    "print('grid best cross_validation score is: {:.2f}%'.format(grid5.best_score_*100))"
   ]
  },
  {
   "cell_type": "code",
   "execution_count": 303,
   "metadata": {},
   "outputs": [
    {
     "name": "stdout",
     "output_type": "stream",
     "text": [
      "grid_best_params_is {'gradientboostingclassifier__learning_rate': 3, 'gradientboostingclassifier__n_estimators': 10, 'gradientboostingclassifier__random_state': 5}\n"
     ]
    }
   ],
   "source": [
    "print('grid_best_params_is {}'.format(grid5.best_params_))"
   ]
  },
  {
   "cell_type": "code",
   "execution_count": null,
   "metadata": {},
   "outputs": [],
   "source": [
    "print('Accuracy on Validation Set is : {:.2f}%'.format(grid5.score(validation_set['New_bill_name'],\n",
    "                                                                  validation_set['billcode'])*100))"
   ]
  },
  {
   "cell_type": "code",
   "execution_count": 304,
   "metadata": {},
   "outputs": [
    {
     "name": "stdout",
     "output_type": "stream",
     "text": [
      "Accuracy on Test Set is : 2.40%\n"
     ]
    }
   ],
   "source": [
    "print('Accuracy on Test Set is : {:.2f}%'.format(grid5.score(test_set['New_bill_name'],\n",
    "                                                                  test_set['billcode'])*100))"
   ]
  },
  {
   "cell_type": "markdown",
   "metadata": {},
   "source": [
    "## Analysing the Error Rate:"
   ]
  },
  {
   "cell_type": "markdown",
   "metadata": {},
   "source": [
    "##### Implementing on  Validation Set using the best model: Logistic Regression"
   ]
  },
  {
   "cell_type": "code",
   "execution_count": 598,
   "metadata": {},
   "outputs": [
    {
     "data": {
      "text/plain": [
       "0    95.311589\n",
       "1    76.949966\n",
       "2    90.717965\n",
       "3    95.265219\n",
       "4    99.103986\n",
       "dtype: float64"
      ]
     },
     "metadata": {},
     "output_type": "display_data"
    },
    {
     "data": {
      "text/plain": [
       "0    15\n",
       "1    19\n",
       "2    13\n",
       "3    20\n",
       "4    20\n",
       "dtype: int64"
      ]
     },
     "metadata": {},
     "output_type": "display_data"
    },
    {
     "data": {
      "text/plain": [
       "0    15\n",
       "1    20\n",
       "2    13\n",
       "3    20\n",
       "4    20\n",
       "Name: billcode, dtype: int64"
      ]
     },
     "metadata": {},
     "output_type": "display_data"
    }
   ],
   "source": [
    "## Probability of the billcode being predicted\n",
    "\n",
    "predict_Probability_Series=pd.Series(np.amax(grid.predict_proba(validation_set['New_bill_name'])*100,axis=1))\n",
    "display(predict_Probability_Series[0:5])\n",
    "\n",
    "## Predicted billcode\n",
    "\n",
    "predict_billcode=pd.Series(grid.predict(validation_set['New_bill_name']))\n",
    "\n",
    "display(predict_billcode[0:5])\n",
    "\n",
    "## Actual Billcode\n",
    "actual_billcode=pd.Series(validation_set['billcode']).reset_index(drop=True)\n",
    "display(actual_billcode[0:5])"
   ]
  },
  {
   "cell_type": "markdown",
   "metadata": {},
   "source": [
    "### Creating the dataframe with predicted billcode,actualbillcode and probability of bilcode prediction"
   ]
  },
  {
   "cell_type": "code",
   "execution_count": 599,
   "metadata": {},
   "outputs": [
    {
     "data": {
      "text/html": [
       "<div>\n",
       "<style scoped>\n",
       "    .dataframe tbody tr th:only-of-type {\n",
       "        vertical-align: middle;\n",
       "    }\n",
       "\n",
       "    .dataframe tbody tr th {\n",
       "        vertical-align: top;\n",
       "    }\n",
       "\n",
       "    .dataframe thead th {\n",
       "        text-align: right;\n",
       "    }\n",
       "</style>\n",
       "<table border=\"1\" class=\"dataframe\">\n",
       "  <thead>\n",
       "    <tr style=\"text-align: right;\">\n",
       "      <th></th>\n",
       "      <th>predicted_probability</th>\n",
       "      <th>predicted_Billcode</th>\n",
       "      <th>Actual_Billcode</th>\n",
       "    </tr>\n",
       "  </thead>\n",
       "  <tbody>\n",
       "    <tr>\n",
       "      <th>0</th>\n",
       "      <td>95.311589</td>\n",
       "      <td>15</td>\n",
       "      <td>15</td>\n",
       "    </tr>\n",
       "    <tr>\n",
       "      <th>1</th>\n",
       "      <td>76.949966</td>\n",
       "      <td>19</td>\n",
       "      <td>20</td>\n",
       "    </tr>\n",
       "    <tr>\n",
       "      <th>2</th>\n",
       "      <td>90.717965</td>\n",
       "      <td>13</td>\n",
       "      <td>13</td>\n",
       "    </tr>\n",
       "    <tr>\n",
       "      <th>3</th>\n",
       "      <td>95.265219</td>\n",
       "      <td>20</td>\n",
       "      <td>20</td>\n",
       "    </tr>\n",
       "    <tr>\n",
       "      <th>4</th>\n",
       "      <td>99.103986</td>\n",
       "      <td>20</td>\n",
       "      <td>20</td>\n",
       "    </tr>\n",
       "  </tbody>\n",
       "</table>\n",
       "</div>"
      ],
      "text/plain": [
       "   predicted_probability  predicted_Billcode  Actual_Billcode\n",
       "0              95.311589                  15               15\n",
       "1              76.949966                  19               20\n",
       "2              90.717965                  13               13\n",
       "3              95.265219                  20               20\n",
       "4              99.103986                  20               20"
      ]
     },
     "execution_count": 599,
     "metadata": {},
     "output_type": "execute_result"
    }
   ],
   "source": [
    "prediction_bill_val_DT = pd.concat([predict_Probability_Series,predict_billcode,actual_billcode],axis=1,\n",
    "                                  keys=['predicted_probability','predicted_Billcode','Actual_Billcode'])\n",
    "prediction_bill_val_DT.head()"
   ]
  },
  {
   "cell_type": "markdown",
   "metadata": {},
   "source": [
    "## Creating a Column as 'Same or not' which will be 1 if same and -1 if different"
   ]
  },
  {
   "cell_type": "code",
   "execution_count": 600,
   "metadata": {},
   "outputs": [
    {
     "data": {
      "text/html": [
       "<div>\n",
       "<style scoped>\n",
       "    .dataframe tbody tr th:only-of-type {\n",
       "        vertical-align: middle;\n",
       "    }\n",
       "\n",
       "    .dataframe tbody tr th {\n",
       "        vertical-align: top;\n",
       "    }\n",
       "\n",
       "    .dataframe thead th {\n",
       "        text-align: right;\n",
       "    }\n",
       "</style>\n",
       "<table border=\"1\" class=\"dataframe\">\n",
       "  <thead>\n",
       "    <tr style=\"text-align: right;\">\n",
       "      <th></th>\n",
       "      <th>predicted_probability</th>\n",
       "      <th>predicted_Billcode</th>\n",
       "      <th>Actual_Billcode</th>\n",
       "      <th>Same_Or_Not</th>\n",
       "    </tr>\n",
       "  </thead>\n",
       "  <tbody>\n",
       "    <tr>\n",
       "      <th>0</th>\n",
       "      <td>95.311589</td>\n",
       "      <td>15</td>\n",
       "      <td>15</td>\n",
       "      <td>0</td>\n",
       "    </tr>\n",
       "    <tr>\n",
       "      <th>1</th>\n",
       "      <td>76.949966</td>\n",
       "      <td>19</td>\n",
       "      <td>20</td>\n",
       "      <td>-1</td>\n",
       "    </tr>\n",
       "    <tr>\n",
       "      <th>2</th>\n",
       "      <td>90.717965</td>\n",
       "      <td>13</td>\n",
       "      <td>13</td>\n",
       "      <td>0</td>\n",
       "    </tr>\n",
       "    <tr>\n",
       "      <th>3</th>\n",
       "      <td>95.265219</td>\n",
       "      <td>20</td>\n",
       "      <td>20</td>\n",
       "      <td>0</td>\n",
       "    </tr>\n",
       "    <tr>\n",
       "      <th>4</th>\n",
       "      <td>99.103986</td>\n",
       "      <td>20</td>\n",
       "      <td>20</td>\n",
       "      <td>0</td>\n",
       "    </tr>\n",
       "  </tbody>\n",
       "</table>\n",
       "</div>"
      ],
      "text/plain": [
       "   predicted_probability  predicted_Billcode  Actual_Billcode  Same_Or_Not\n",
       "0              95.311589                  15               15            0\n",
       "1              76.949966                  19               20           -1\n",
       "2              90.717965                  13               13            0\n",
       "3              95.265219                  20               20            0\n",
       "4              99.103986                  20               20            0"
      ]
     },
     "execution_count": 600,
     "metadata": {},
     "output_type": "execute_result"
    }
   ],
   "source": [
    "prediction_bill_val_DT['Same_Or_Not']= prediction_bill_val_DT.apply(lambda x: -1 if(x[1]-x[2]) !=0 else 0,axis=1)\n",
    "prediction_bill_val_DT.head()"
   ]
  },
  {
   "cell_type": "markdown",
   "metadata": {},
   "source": [
    "### Finding out the rows of dataframe which has predicted_probability more than 90%\n"
   ]
  },
  {
   "cell_type": "code",
   "execution_count": 601,
   "metadata": {},
   "outputs": [
    {
     "data": {
      "text/plain": [
       "576"
      ]
     },
     "execution_count": 601,
     "metadata": {},
     "output_type": "execute_result"
    }
   ],
   "source": [
    "prediction_bill_val_DT[prediction_bill_val_DT.predicted_probability >= 90].shape[0]"
   ]
  },
  {
   "cell_type": "markdown",
   "metadata": {},
   "source": [
    "### finding out the error rate: no of incorrect predictions in prediction_bill_val_DT rows/ total validation set"
   ]
  },
  {
   "cell_type": "code",
   "execution_count": 607,
   "metadata": {},
   "outputs": [
    {
     "name": "stdout",
     "output_type": "stream",
     "text": [
      "Error rate is :  0.8888888888888888 %\n"
     ]
    }
   ],
   "source": [
    "pred_over_90 = prediction_bill_val_DT[prediction_bill_val_DT.predicted_probability >= 90]\n",
    "print('Error rate is : ',(pred_over_90[pred_over_90.Same_Or_Not !=0].shape[0]/validation_set.shape[0])*100,'%')"
   ]
  },
  {
   "cell_type": "markdown",
   "metadata": {},
   "source": [
    "## Analysing the Error Rate:\n",
    "### Implementing on TEST Set using the best model: Logistic Regression"
   ]
  },
  {
   "cell_type": "code",
   "execution_count": 608,
   "metadata": {},
   "outputs": [
    {
     "data": {
      "text/plain": [
       "0    86.212738\n",
       "1    98.524814\n",
       "2    79.195247\n",
       "3    98.715529\n",
       "4    49.885587\n",
       "dtype: float64"
      ]
     },
     "metadata": {},
     "output_type": "display_data"
    },
    {
     "data": {
      "text/plain": [
       "0     6\n",
       "1    20\n",
       "2    13\n",
       "3    20\n",
       "4    15\n",
       "dtype: int64"
      ]
     },
     "metadata": {},
     "output_type": "display_data"
    },
    {
     "data": {
      "text/plain": [
       "0     6\n",
       "1    20\n",
       "2    13\n",
       "3    20\n",
       "4     2\n",
       "Name: billcode, dtype: int64"
      ]
     },
     "metadata": {},
     "output_type": "display_data"
    }
   ],
   "source": [
    "## Probability of the billcode being predicted\n",
    "\n",
    "predict_Probability_Series=pd.Series(np.amax(grid.predict_proba(test_set['New_bill_name'])*100,axis=1))\n",
    "display(predict_Probability_Series[0:5])\n",
    "\n",
    "## Predicted billcode\n",
    "\n",
    "predict_billcode=pd.Series(grid.predict(test_set['New_bill_name']))\n",
    "\n",
    "display(predict_billcode[0:5])\n",
    "\n",
    "## Actual Billcode\n",
    "actual_billcode=pd.Series(test_set['billcode']).reset_index(drop=True)\n",
    "display(actual_billcode[0:5])"
   ]
  },
  {
   "cell_type": "markdown",
   "metadata": {},
   "source": [
    "### Creating the dataframe with predicted billcode,actualbillcode and probability of bilcode prediction"
   ]
  },
  {
   "cell_type": "code",
   "execution_count": 609,
   "metadata": {},
   "outputs": [
    {
     "data": {
      "text/html": [
       "<div>\n",
       "<style scoped>\n",
       "    .dataframe tbody tr th:only-of-type {\n",
       "        vertical-align: middle;\n",
       "    }\n",
       "\n",
       "    .dataframe tbody tr th {\n",
       "        vertical-align: top;\n",
       "    }\n",
       "\n",
       "    .dataframe thead th {\n",
       "        text-align: right;\n",
       "    }\n",
       "</style>\n",
       "<table border=\"1\" class=\"dataframe\">\n",
       "  <thead>\n",
       "    <tr style=\"text-align: right;\">\n",
       "      <th></th>\n",
       "      <th>predicted_probability</th>\n",
       "      <th>predicted_Billcode</th>\n",
       "      <th>Actual_Billcode</th>\n",
       "    </tr>\n",
       "  </thead>\n",
       "  <tbody>\n",
       "    <tr>\n",
       "      <th>0</th>\n",
       "      <td>86.212738</td>\n",
       "      <td>6</td>\n",
       "      <td>6</td>\n",
       "    </tr>\n",
       "    <tr>\n",
       "      <th>1</th>\n",
       "      <td>98.524814</td>\n",
       "      <td>20</td>\n",
       "      <td>20</td>\n",
       "    </tr>\n",
       "    <tr>\n",
       "      <th>2</th>\n",
       "      <td>79.195247</td>\n",
       "      <td>13</td>\n",
       "      <td>13</td>\n",
       "    </tr>\n",
       "    <tr>\n",
       "      <th>3</th>\n",
       "      <td>98.715529</td>\n",
       "      <td>20</td>\n",
       "      <td>20</td>\n",
       "    </tr>\n",
       "    <tr>\n",
       "      <th>4</th>\n",
       "      <td>49.885587</td>\n",
       "      <td>15</td>\n",
       "      <td>2</td>\n",
       "    </tr>\n",
       "  </tbody>\n",
       "</table>\n",
       "</div>"
      ],
      "text/plain": [
       "   predicted_probability  predicted_Billcode  Actual_Billcode\n",
       "0              86.212738                   6                6\n",
       "1              98.524814                  20               20\n",
       "2              79.195247                  13               13\n",
       "3              98.715529                  20               20\n",
       "4              49.885587                  15                2"
      ]
     },
     "execution_count": 609,
     "metadata": {},
     "output_type": "execute_result"
    }
   ],
   "source": [
    "prediction_bill_val_DT = pd.concat([predict_Probability_Series,predict_billcode,actual_billcode],axis=1,\n",
    "                                  keys=['predicted_probability','predicted_Billcode','Actual_Billcode'])\n",
    "prediction_bill_val_DT.head()"
   ]
  },
  {
   "cell_type": "markdown",
   "metadata": {},
   "source": [
    "### Creating a Column as 'Same or not' which will be 1 if same and -1 if different"
   ]
  },
  {
   "cell_type": "code",
   "execution_count": 610,
   "metadata": {},
   "outputs": [
    {
     "data": {
      "text/html": [
       "<div>\n",
       "<style scoped>\n",
       "    .dataframe tbody tr th:only-of-type {\n",
       "        vertical-align: middle;\n",
       "    }\n",
       "\n",
       "    .dataframe tbody tr th {\n",
       "        vertical-align: top;\n",
       "    }\n",
       "\n",
       "    .dataframe thead th {\n",
       "        text-align: right;\n",
       "    }\n",
       "</style>\n",
       "<table border=\"1\" class=\"dataframe\">\n",
       "  <thead>\n",
       "    <tr style=\"text-align: right;\">\n",
       "      <th></th>\n",
       "      <th>predicted_probability</th>\n",
       "      <th>predicted_Billcode</th>\n",
       "      <th>Actual_Billcode</th>\n",
       "      <th>Same_Or_Not</th>\n",
       "    </tr>\n",
       "  </thead>\n",
       "  <tbody>\n",
       "    <tr>\n",
       "      <th>0</th>\n",
       "      <td>86.212738</td>\n",
       "      <td>6</td>\n",
       "      <td>6</td>\n",
       "      <td>0</td>\n",
       "    </tr>\n",
       "    <tr>\n",
       "      <th>1</th>\n",
       "      <td>98.524814</td>\n",
       "      <td>20</td>\n",
       "      <td>20</td>\n",
       "      <td>0</td>\n",
       "    </tr>\n",
       "    <tr>\n",
       "      <th>2</th>\n",
       "      <td>79.195247</td>\n",
       "      <td>13</td>\n",
       "      <td>13</td>\n",
       "      <td>0</td>\n",
       "    </tr>\n",
       "    <tr>\n",
       "      <th>3</th>\n",
       "      <td>98.715529</td>\n",
       "      <td>20</td>\n",
       "      <td>20</td>\n",
       "      <td>0</td>\n",
       "    </tr>\n",
       "    <tr>\n",
       "      <th>4</th>\n",
       "      <td>49.885587</td>\n",
       "      <td>15</td>\n",
       "      <td>2</td>\n",
       "      <td>-1</td>\n",
       "    </tr>\n",
       "  </tbody>\n",
       "</table>\n",
       "</div>"
      ],
      "text/plain": [
       "   predicted_probability  predicted_Billcode  Actual_Billcode  Same_Or_Not\n",
       "0              86.212738                   6                6            0\n",
       "1              98.524814                  20               20            0\n",
       "2              79.195247                  13               13            0\n",
       "3              98.715529                  20               20            0\n",
       "4              49.885587                  15                2           -1"
      ]
     },
     "execution_count": 610,
     "metadata": {},
     "output_type": "execute_result"
    }
   ],
   "source": [
    "prediction_bill_val_DT['Same_Or_Not']= prediction_bill_val_DT.apply(lambda x: -1 if(x[1]-x[2]) !=0 else 0,axis=1)\n",
    "prediction_bill_val_DT.head()"
   ]
  },
  {
   "cell_type": "markdown",
   "metadata": {},
   "source": [
    "### Finding out the rows of dataframe which has predicted_probability more than 90%"
   ]
  },
  {
   "cell_type": "code",
   "execution_count": 611,
   "metadata": {},
   "outputs": [
    {
     "data": {
      "text/plain": [
       "620"
      ]
     },
     "execution_count": 611,
     "metadata": {},
     "output_type": "execute_result"
    }
   ],
   "source": [
    "prediction_bill_val_DT[prediction_bill_val_DT.predicted_probability >= 90].shape[0]"
   ]
  },
  {
   "cell_type": "markdown",
   "metadata": {},
   "source": [
    "### finding out the error rate: no of incorrect predictions in prediction_bill_val_DT rows/ total len of test set"
   ]
  },
  {
   "cell_type": "code",
   "execution_count": 612,
   "metadata": {},
   "outputs": [
    {
     "name": "stdout",
     "output_type": "stream",
     "text": [
      "Error rate is :  0.5 %\n"
     ]
    }
   ],
   "source": [
    "pred_over_90 = prediction_bill_val_DT[prediction_bill_val_DT.predicted_probability >= 90]\n",
    "print('Error rate is : ',(pred_over_90[pred_over_90.Same_Or_Not !=0].shape[0]/test_set.shape[0])*100,'%')"
   ]
  },
  {
   "cell_type": "markdown",
   "metadata": {},
   "source": [
    "## Implementing on Uncategorized Bills"
   ]
  },
  {
   "cell_type": "code",
   "execution_count": 645,
   "metadata": {},
   "outputs": [
    {
     "data": {
      "text/html": [
       "<div>\n",
       "<style scoped>\n",
       "    .dataframe tbody tr th:only-of-type {\n",
       "        vertical-align: middle;\n",
       "    }\n",
       "\n",
       "    .dataframe tbody tr th {\n",
       "        vertical-align: top;\n",
       "    }\n",
       "\n",
       "    .dataframe thead th {\n",
       "        text-align: right;\n",
       "    }\n",
       "</style>\n",
       "<table border=\"1\" class=\"dataframe\">\n",
       "  <thead>\n",
       "    <tr style=\"text-align: right;\">\n",
       "      <th></th>\n",
       "      <th>unique_bill_site_name</th>\n",
       "      <th>bill_num</th>\n",
       "      <th>bill_name</th>\n",
       "      <th>renewed_bill_name</th>\n",
       "    </tr>\n",
       "  </thead>\n",
       "  <tbody>\n",
       "    <tr>\n",
       "      <th>0</th>\n",
       "      <td>#PRC_E1H6Z0E5M3A0H0K9Q2B4C0V3Y4G7B6</td>\n",
       "      <td>#2000006</td>\n",
       "      <td>민법 일부개정법률안(이찬열의원 등 10인)</td>\n",
       "      <td>민 법   일 부 개 정 법 률 안 이 찬 열 의 원   등   1 0 인</td>\n",
       "    </tr>\n",
       "    <tr>\n",
       "      <th>1</th>\n",
       "      <td>#PRC_G1F6U0H6D0F2V1J5J5E8W2O9N3T3Z5</td>\n",
       "      <td>#2000080</td>\n",
       "      <td>국유재산특례제한법 일부개정법률안(이은권의원 등 27인)</td>\n",
       "      <td>국 유 재 산 특 례 제 한 법   일 부 개 정 법 률 안 이 은 권 의 원   ...</td>\n",
       "    </tr>\n",
       "    <tr>\n",
       "      <th>2</th>\n",
       "      <td>#PRC_G1J6D0T5Q3R0N1S4C1T9N1N9U5E1V0</td>\n",
       "      <td>#2000029</td>\n",
       "      <td>고용보험법 일부개정법률안(김성태의원 등 122인)</td>\n",
       "      <td>고 용 보 험 법   일 부 개 정 법 률 안 김 성 태 의 원   등   1 2 2 인</td>\n",
       "    </tr>\n",
       "    <tr>\n",
       "      <th>3</th>\n",
       "      <td>#PRC_H1I6Z0U5V3W0C0E9N5A1I3L4K6O6G7</td>\n",
       "      <td>#2000015</td>\n",
       "      <td>정부조직법 일부개정법률안(홍문표의원 등 12인)</td>\n",
       "      <td>정 부 조 직 법   일 부 개 정 법 률 안 홍 문 표 의 원   등   1 2 인</td>\n",
       "    </tr>\n",
       "    <tr>\n",
       "      <th>4</th>\n",
       "      <td>#PRC_I1T6Q0M6D0E2X1N7N4V7D2R4K2C1R6</td>\n",
       "      <td>#2000083</td>\n",
       "      <td>지방교육재정교부금법 일부개정법률안(설훈의원 등 10인)</td>\n",
       "      <td>지 방 교 육 재 정 교 부 금 법   일 부 개 정 법 률 안 설 훈 의 원   ...</td>\n",
       "    </tr>\n",
       "  </tbody>\n",
       "</table>\n",
       "</div>"
      ],
      "text/plain": [
       "                 unique_bill_site_name  bill_num  \\\n",
       "0  #PRC_E1H6Z0E5M3A0H0K9Q2B4C0V3Y4G7B6  #2000006   \n",
       "1  #PRC_G1F6U0H6D0F2V1J5J5E8W2O9N3T3Z5  #2000080   \n",
       "2  #PRC_G1J6D0T5Q3R0N1S4C1T9N1N9U5E1V0  #2000029   \n",
       "3  #PRC_H1I6Z0U5V3W0C0E9N5A1I3L4K6O6G7  #2000015   \n",
       "4  #PRC_I1T6Q0M6D0E2X1N7N4V7D2R4K2C1R6  #2000083   \n",
       "\n",
       "                        bill_name  \\\n",
       "0         민법 일부개정법률안(이찬열의원 등 10인)   \n",
       "1  국유재산특례제한법 일부개정법률안(이은권의원 등 27인)   \n",
       "2     고용보험법 일부개정법률안(김성태의원 등 122인)   \n",
       "3      정부조직법 일부개정법률안(홍문표의원 등 12인)   \n",
       "4  지방교육재정교부금법 일부개정법률안(설훈의원 등 10인)   \n",
       "\n",
       "                                   renewed_bill_name  \n",
       "0          민 법   일 부 개 정 법 률 안 이 찬 열 의 원   등   1 0 인  \n",
       "1  국 유 재 산 특 례 제 한 법   일 부 개 정 법 률 안 이 은 권 의 원   ...  \n",
       "2  고 용 보 험 법   일 부 개 정 법 률 안 김 성 태 의 원   등   1 2 2 인  \n",
       "3    정 부 조 직 법   일 부 개 정 법 률 안 홍 문 표 의 원   등   1 2 인  \n",
       "4  지 방 교 육 재 정 교 부 금 법   일 부 개 정 법 률 안 설 훈 의 원   ...  "
      ]
     },
     "execution_count": 645,
     "metadata": {},
     "output_type": "execute_result"
    }
   ],
   "source": [
    "korean_bills.head()"
   ]
  },
  {
   "cell_type": "markdown",
   "metadata": {},
   "source": [
    "## Predicting the bill_code of korean_bills"
   ]
  },
  {
   "cell_type": "code",
   "execution_count": 646,
   "metadata": {},
   "outputs": [],
   "source": [
    "korean_bills['predicted_bill_code'] = grid.predict(korean_bills['renewed_bill_name'])\n"
   ]
  },
  {
   "cell_type": "markdown",
   "metadata": {},
   "source": [
    "## Finding the probability of each of the predicted bill_code"
   ]
  },
  {
   "cell_type": "code",
   "execution_count": 647,
   "metadata": {},
   "outputs": [],
   "source": [
    "korean_bills['bill_code_probability'] = np.amax(grid.predict_proba(korean_bills['renewed_bill_name'])*100,axis=1)"
   ]
  },
  {
   "cell_type": "code",
   "execution_count": 648,
   "metadata": {},
   "outputs": [
    {
     "data": {
      "text/html": [
       "<div>\n",
       "<style scoped>\n",
       "    .dataframe tbody tr th:only-of-type {\n",
       "        vertical-align: middle;\n",
       "    }\n",
       "\n",
       "    .dataframe tbody tr th {\n",
       "        vertical-align: top;\n",
       "    }\n",
       "\n",
       "    .dataframe thead th {\n",
       "        text-align: right;\n",
       "    }\n",
       "</style>\n",
       "<table border=\"1\" class=\"dataframe\">\n",
       "  <thead>\n",
       "    <tr style=\"text-align: right;\">\n",
       "      <th></th>\n",
       "      <th>unique_bill_site_name</th>\n",
       "      <th>bill_num</th>\n",
       "      <th>bill_name</th>\n",
       "      <th>renewed_bill_name</th>\n",
       "      <th>predicted_bill_code</th>\n",
       "      <th>bill_code_probability</th>\n",
       "    </tr>\n",
       "  </thead>\n",
       "  <tbody>\n",
       "    <tr>\n",
       "      <th>0</th>\n",
       "      <td>#PRC_E1H6Z0E5M3A0H0K9Q2B4C0V3Y4G7B6</td>\n",
       "      <td>#2000006</td>\n",
       "      <td>민법 일부개정법률안(이찬열의원 등 10인)</td>\n",
       "      <td>민 법   일 부 개 정 법 률 안 이 찬 열 의 원   등   1 0 인</td>\n",
       "      <td>20</td>\n",
       "      <td>46.612048</td>\n",
       "    </tr>\n",
       "    <tr>\n",
       "      <th>1</th>\n",
       "      <td>#PRC_G1F6U0H6D0F2V1J5J5E8W2O9N3T3Z5</td>\n",
       "      <td>#2000080</td>\n",
       "      <td>국유재산특례제한법 일부개정법률안(이은권의원 등 27인)</td>\n",
       "      <td>국 유 재 산 특 례 제 한 법   일 부 개 정 법 률 안 이 은 권 의 원   ...</td>\n",
       "      <td>1</td>\n",
       "      <td>73.069948</td>\n",
       "    </tr>\n",
       "    <tr>\n",
       "      <th>2</th>\n",
       "      <td>#PRC_G1J6D0T5Q3R0N1S4C1T9N1N9U5E1V0</td>\n",
       "      <td>#2000029</td>\n",
       "      <td>고용보험법 일부개정법률안(김성태의원 등 122인)</td>\n",
       "      <td>고 용 보 험 법   일 부 개 정 법 률 안 김 성 태 의 원   등   1 2 2 인</td>\n",
       "      <td>5</td>\n",
       "      <td>90.902628</td>\n",
       "    </tr>\n",
       "    <tr>\n",
       "      <th>3</th>\n",
       "      <td>#PRC_H1I6Z0U5V3W0C0E9N5A1I3L4K6O6G7</td>\n",
       "      <td>#2000015</td>\n",
       "      <td>정부조직법 일부개정법률안(홍문표의원 등 12인)</td>\n",
       "      <td>정 부 조 직 법   일 부 개 정 법 률 안 홍 문 표 의 원   등   1 2 인</td>\n",
       "      <td>20</td>\n",
       "      <td>95.350883</td>\n",
       "    </tr>\n",
       "    <tr>\n",
       "      <th>4</th>\n",
       "      <td>#PRC_I1T6Q0M6D0E2X1N7N4V7D2R4K2C1R6</td>\n",
       "      <td>#2000083</td>\n",
       "      <td>지방교육재정교부금법 일부개정법률안(설훈의원 등 10인)</td>\n",
       "      <td>지 방 교 육 재 정 교 부 금 법   일 부 개 정 법 률 안 설 훈 의 원   ...</td>\n",
       "      <td>1</td>\n",
       "      <td>89.326983</td>\n",
       "    </tr>\n",
       "  </tbody>\n",
       "</table>\n",
       "</div>"
      ],
      "text/plain": [
       "                 unique_bill_site_name  bill_num  \\\n",
       "0  #PRC_E1H6Z0E5M3A0H0K9Q2B4C0V3Y4G7B6  #2000006   \n",
       "1  #PRC_G1F6U0H6D0F2V1J5J5E8W2O9N3T3Z5  #2000080   \n",
       "2  #PRC_G1J6D0T5Q3R0N1S4C1T9N1N9U5E1V0  #2000029   \n",
       "3  #PRC_H1I6Z0U5V3W0C0E9N5A1I3L4K6O6G7  #2000015   \n",
       "4  #PRC_I1T6Q0M6D0E2X1N7N4V7D2R4K2C1R6  #2000083   \n",
       "\n",
       "                        bill_name  \\\n",
       "0         민법 일부개정법률안(이찬열의원 등 10인)   \n",
       "1  국유재산특례제한법 일부개정법률안(이은권의원 등 27인)   \n",
       "2     고용보험법 일부개정법률안(김성태의원 등 122인)   \n",
       "3      정부조직법 일부개정법률안(홍문표의원 등 12인)   \n",
       "4  지방교육재정교부금법 일부개정법률안(설훈의원 등 10인)   \n",
       "\n",
       "                                   renewed_bill_name  predicted_bill_code  \\\n",
       "0          민 법   일 부 개 정 법 률 안 이 찬 열 의 원   등   1 0 인                   20   \n",
       "1  국 유 재 산 특 례 제 한 법   일 부 개 정 법 률 안 이 은 권 의 원   ...                    1   \n",
       "2  고 용 보 험 법   일 부 개 정 법 률 안 김 성 태 의 원   등   1 2 2 인                    5   \n",
       "3    정 부 조 직 법   일 부 개 정 법 률 안 홍 문 표 의 원   등   1 2 인                   20   \n",
       "4  지 방 교 육 재 정 교 부 금 법   일 부 개 정 법 률 안 설 훈 의 원   ...                    1   \n",
       "\n",
       "   bill_code_probability  \n",
       "0              46.612048  \n",
       "1              73.069948  \n",
       "2              90.902628  \n",
       "3              95.350883  \n",
       "4              89.326983  "
      ]
     },
     "execution_count": 648,
     "metadata": {},
     "output_type": "execute_result"
    }
   ],
   "source": [
    "korean_bills.head()"
   ]
  },
  {
   "cell_type": "code",
   "execution_count": 649,
   "metadata": {},
   "outputs": [
    {
     "data": {
      "text/plain": [
       "(18800, 6)"
      ]
     },
     "execution_count": 649,
     "metadata": {},
     "output_type": "execute_result"
    }
   ],
   "source": [
    "korean_bills.shape"
   ]
  },
  {
   "cell_type": "code",
   "execution_count": 650,
   "metadata": {},
   "outputs": [
    {
     "data": {
      "text/plain": [
       "(7583, 6)"
      ]
     },
     "execution_count": 650,
     "metadata": {},
     "output_type": "execute_result"
    }
   ],
   "source": [
    "korean_bills_above_90 = korean_bills[korean_bills.bill_code_probability >= 90]\n",
    "korean_bills_above_90.shape"
   ]
  },
  {
   "cell_type": "code",
   "execution_count": 651,
   "metadata": {},
   "outputs": [
    {
     "data": {
      "text/html": [
       "<div>\n",
       "<style scoped>\n",
       "    .dataframe tbody tr th:only-of-type {\n",
       "        vertical-align: middle;\n",
       "    }\n",
       "\n",
       "    .dataframe tbody tr th {\n",
       "        vertical-align: top;\n",
       "    }\n",
       "\n",
       "    .dataframe thead th {\n",
       "        text-align: right;\n",
       "    }\n",
       "</style>\n",
       "<table border=\"1\" class=\"dataframe\">\n",
       "  <thead>\n",
       "    <tr style=\"text-align: right;\">\n",
       "      <th></th>\n",
       "      <th>unique_bill_site_name</th>\n",
       "      <th>bill_num</th>\n",
       "      <th>bill_name</th>\n",
       "      <th>renewed_bill_name</th>\n",
       "      <th>predicted_bill_code</th>\n",
       "      <th>bill_code_probability</th>\n",
       "    </tr>\n",
       "  </thead>\n",
       "  <tbody>\n",
       "    <tr>\n",
       "      <th>2</th>\n",
       "      <td>#PRC_G1J6D0T5Q3R0N1S4C1T9N1N9U5E1V0</td>\n",
       "      <td>#2000029</td>\n",
       "      <td>고용보험법 일부개정법률안(김성태의원 등 122인)</td>\n",
       "      <td>고 용 보 험 법   일 부 개 정 법 률 안 김 성 태 의 원   등   1 2 2 인</td>\n",
       "      <td>5</td>\n",
       "      <td>90.902628</td>\n",
       "    </tr>\n",
       "    <tr>\n",
       "      <th>3</th>\n",
       "      <td>#PRC_H1I6Z0U5V3W0C0E9N5A1I3L4K6O6G7</td>\n",
       "      <td>#2000015</td>\n",
       "      <td>정부조직법 일부개정법률안(홍문표의원 등 12인)</td>\n",
       "      <td>정 부 조 직 법   일 부 개 정 법 률 안 홍 문 표 의 원   등   1 2 인</td>\n",
       "      <td>20</td>\n",
       "      <td>95.350883</td>\n",
       "    </tr>\n",
       "    <tr>\n",
       "      <th>5</th>\n",
       "      <td>#PRC_N1T6D0J6S0D3N1Q4U0P3Q3B4V7P4R6</td>\n",
       "      <td>#2000089</td>\n",
       "      <td>지방교육재정교부금법 일부개정법률안(주승용의원 등 12인)</td>\n",
       "      <td>지 방 교 육 재 정 교 부 금 법   일 부 개 정 법 률 안 주 승 용 의 원 ...</td>\n",
       "      <td>1</td>\n",
       "      <td>91.755577</td>\n",
       "    </tr>\n",
       "    <tr>\n",
       "      <th>9</th>\n",
       "      <td>#PRC_T1E6T0Q6D0D1J1H8U5U1Y5K6M8W1L0</td>\n",
       "      <td>#2000067</td>\n",
       "      <td>초·중등교육법 일부개정법률안(박순자의원 등 12인)</td>\n",
       "      <td>초 · 중 등 교 육 법   일 부 개 정 법 률 안 박 순 자 의 원   등   ...</td>\n",
       "      <td>6</td>\n",
       "      <td>94.387117</td>\n",
       "    </tr>\n",
       "    <tr>\n",
       "      <th>10</th>\n",
       "      <td>#PRC_A1V6Z0H6W0D3V1A0E3W2Q0K2R2O1I1</td>\n",
       "      <td>#2000088</td>\n",
       "      <td>지방교육재정교부금법 일부개정법률안(최도자의원 등 24인)</td>\n",
       "      <td>지 방 교 육 재 정 교 부 금 법   일 부 개 정 법 률 안 최 도 자 의 원 ...</td>\n",
       "      <td>1</td>\n",
       "      <td>90.578576</td>\n",
       "    </tr>\n",
       "    <tr>\n",
       "      <th>13</th>\n",
       "      <td>#PRC_K1Z6M0N5M3C0F1Q5W3D6C4N5H5J2X4</td>\n",
       "      <td>#2000037</td>\n",
       "      <td>주택임대차보호법 일부개정법률안(윤후덕의원 등 12인)</td>\n",
       "      <td>주 택 임 대 차 보 호 법   일 부 개 정 법 률 안 윤 후 덕 의 원   등 ...</td>\n",
       "      <td>14</td>\n",
       "      <td>91.199220</td>\n",
       "    </tr>\n",
       "    <tr>\n",
       "      <th>14</th>\n",
       "      <td>#PRC_L1K6Z0P5D3R0Y1F6T3B1J4R5Z5H6A2</td>\n",
       "      <td>#2000043</td>\n",
       "      <td>공직선거법 일부개정법률안(윤후덕의원 등 12인)</td>\n",
       "      <td>공 직 선 거 법   일 부 개 정 법 률 안 윤 후 덕 의 원   등   1 2 인</td>\n",
       "      <td>20</td>\n",
       "      <td>96.353556</td>\n",
       "    </tr>\n",
       "    <tr>\n",
       "      <th>21</th>\n",
       "      <td>#PRC_B1T6M0B5R3A0N1S6I5K4M0G1W9K4U2</td>\n",
       "      <td>#2000045</td>\n",
       "      <td>국회법 일부개정법률안(원혜영의원 등 12인)</td>\n",
       "      <td>국 회 법   일 부 개 정 법 률 안 원 혜 영 의 원   등   1 2 인</td>\n",
       "      <td>20</td>\n",
       "      <td>96.507240</td>\n",
       "    </tr>\n",
       "    <tr>\n",
       "      <th>24</th>\n",
       "      <td>#PRC_F1O6W0S6A0U2N1I7O4Q9N0L0Q3B0D1</td>\n",
       "      <td>#2000084</td>\n",
       "      <td>초·중등교육법 일부개정법률안(김태년의원 등 15인)</td>\n",
       "      <td>초 · 중 등 교 육 법   일 부 개 정 법 률 안 김 태 년 의 원   등   ...</td>\n",
       "      <td>6</td>\n",
       "      <td>95.328217</td>\n",
       "    </tr>\n",
       "    <tr>\n",
       "      <th>25</th>\n",
       "      <td>#PRC_G1F6A0F5S3D0T2G0M0S8J4Z3L0U4O2</td>\n",
       "      <td>#2000052</td>\n",
       "      <td>공직선거법 일부개정법률안(박덕흠의원 등 10인)</td>\n",
       "      <td>공 직 선 거 법   일 부 개 정 법 률 안 박 덕 흠 의 원   등   1 0 인</td>\n",
       "      <td>20</td>\n",
       "      <td>96.539847</td>\n",
       "    </tr>\n",
       "    <tr>\n",
       "      <th>26</th>\n",
       "      <td>#PRC_G1H6H0J5V3X0S1Y0B0F9Q3M2W7T0D1</td>\n",
       "      <td>#2000017</td>\n",
       "      <td>공직선거법 일부개정법률안(박영선의원 등 10인)</td>\n",
       "      <td>공 직 선 거 법   일 부 개 정 법 률 안 박 영 선 의 원   등   1 0 인</td>\n",
       "      <td>20</td>\n",
       "      <td>95.351150</td>\n",
       "    </tr>\n",
       "    <tr>\n",
       "      <th>29</th>\n",
       "      <td>#PRC_P1B6L0F6K0L3Y1L7B4M5Y5N5Z9W0B7</td>\n",
       "      <td>#2000102</td>\n",
       "      <td>스토킹 범죄의 처벌 등에 관한 특례법안(남인순의원 등 12인)</td>\n",
       "      <td>스 토 킹   범 죄 의   처 벌   등 에   관 한   특 례 법 안 남 인 ...</td>\n",
       "      <td>12</td>\n",
       "      <td>90.073882</td>\n",
       "    </tr>\n",
       "    <tr>\n",
       "      <th>30</th>\n",
       "      <td>#PRC_Q1U6C0C5C3N1Y1M7G2Z5Z1Q8T8W0R9</td>\n",
       "      <td>#2000061</td>\n",
       "      <td>조세특례제한법 일부개정법률안(조정식의원 등 15인)</td>\n",
       "      <td>조 세 특 례 제 한 법   일 부 개 정 법 률 안 조 정 식 의 원   등   ...</td>\n",
       "      <td>1</td>\n",
       "      <td>96.330156</td>\n",
       "    </tr>\n",
       "    <tr>\n",
       "      <th>33</th>\n",
       "      <td>#PRC_D1F6F0E5A3P0K1J8F0M6B3G3Q8Q5Y9</td>\n",
       "      <td>#2000050</td>\n",
       "      <td>정부조직법 일부개정법률안(이명수의원 등 11인)</td>\n",
       "      <td>정 부 조 직 법   일 부 개 정 법 률 안 이 명 수 의 원   등   1 1 인</td>\n",
       "      <td>20</td>\n",
       "      <td>97.167153</td>\n",
       "    </tr>\n",
       "    <tr>\n",
       "      <th>35</th>\n",
       "      <td>#PRC_E1Y6L0C5R3T0T1T5N2V1H4P8N7P0W7</td>\n",
       "      <td>#2000035</td>\n",
       "      <td>지방세법 일부개정법률안(박맹우의원 등 12인)</td>\n",
       "      <td>지 방 세 법   일 부 개 정 법 률 안 박 맹 우 의 원   등   1 2 인</td>\n",
       "      <td>1</td>\n",
       "      <td>93.020456</td>\n",
       "    </tr>\n",
       "    <tr>\n",
       "      <th>37</th>\n",
       "      <td>#PRC_M1K6X0P5B3E0V0X9T3U4I3P0A4E3M6</td>\n",
       "      <td>#2000004</td>\n",
       "      <td>정부조직법 일부개정법률안(이종배의원 등 11인)</td>\n",
       "      <td>정 부 조 직 법   일 부 개 정 법 률 안 이 종 배 의 원   등   1 1 인</td>\n",
       "      <td>20</td>\n",
       "      <td>95.385552</td>\n",
       "    </tr>\n",
       "    <tr>\n",
       "      <th>39</th>\n",
       "      <td>#PRC_P1X6M0K5E3U0T1M0N4S9L0E9R2Q5T1</td>\n",
       "      <td>#2000020</td>\n",
       "      <td>석유 및 석유대체연료 사업법 일부개정법률안(이채익의원 등 12인)</td>\n",
       "      <td>석 유   및   석 유 대 체 연 료   사 업 법   일 부 개 정 법 률 안 ...</td>\n",
       "      <td>8</td>\n",
       "      <td>93.263062</td>\n",
       "    </tr>\n",
       "    <tr>\n",
       "      <th>40</th>\n",
       "      <td>#PRC_Q1G6C0X6V0K2F1I6C4Z0H2W6F6F1Y1</td>\n",
       "      <td>#2000081</td>\n",
       "      <td>법인세법 일부개정법률안(김동철의원 등 14인)</td>\n",
       "      <td>법 인 세 법   일 부 개 정 법 률 안 김 동 철 의 원   등   1 4 인</td>\n",
       "      <td>1</td>\n",
       "      <td>94.255019</td>\n",
       "    </tr>\n",
       "    <tr>\n",
       "      <th>47</th>\n",
       "      <td>#PRC_V1A6V0D5S3Z1V1H3T3Y6A4S8Q7A1G5</td>\n",
       "      <td>#2000055</td>\n",
       "      <td>여신전문금융업법 일부개정법률안(이원욱의원 등 11인)</td>\n",
       "      <td>여 신 전 문 금 융 업 법   일 부 개 정 법 률 안 이 원 욱 의 원   등 ...</td>\n",
       "      <td>15</td>\n",
       "      <td>93.450012</td>\n",
       "    </tr>\n",
       "    <tr>\n",
       "      <th>52</th>\n",
       "      <td>#ARC_G1G6F0S5N3T1J1Z5C4E7A1N7M8B0J0</td>\n",
       "      <td>#2000058</td>\n",
       "      <td>행정사법 일부개정법률안</td>\n",
       "      <td>행 정 사 법   일 부 개 정 법 률 안</td>\n",
       "      <td>20</td>\n",
       "      <td>94.609755</td>\n",
       "    </tr>\n",
       "    <tr>\n",
       "      <th>53</th>\n",
       "      <td>#PRC_F1I6P0U6P0C2Z1N7F3X7M3J2K1Z6M3</td>\n",
       "      <td>#2000082</td>\n",
       "      <td>학교보건법 일부개정법률안(설훈의원 등 15인)</td>\n",
       "      <td>학 교 보 건 법   일 부 개 정 법 률 안 설 훈 의 원   등   1 5 인</td>\n",
       "      <td>3</td>\n",
       "      <td>93.242046</td>\n",
       "    </tr>\n",
       "    <tr>\n",
       "      <th>54</th>\n",
       "      <td>#PRC_G1A6Z0S6A0H3C1L6Z2O4H2G0Y8Q0J8</td>\n",
       "      <td>#2000096</td>\n",
       "      <td>고용보험 및 산업재해보상보험의 보험료징수 등에 관한 법률 일부개정법률안(위성곤의원 ...</td>\n",
       "      <td>고 용 보 험   및   산 업 재 해 보 상 보 험 의   보 험 료 징 수   ...</td>\n",
       "      <td>5</td>\n",
       "      <td>91.549244</td>\n",
       "    </tr>\n",
       "    <tr>\n",
       "      <th>55</th>\n",
       "      <td>#PRC_G1L6S0J5V3G0I1R0Z0T4N5E9L0R2W2</td>\n",
       "      <td>#2000016</td>\n",
       "      <td>주택임대차보호법 일부개정법률안(박영선의원 등 10인)</td>\n",
       "      <td>주 택 임 대 차 보 호 법   일 부 개 정 법 률 안 박 영 선 의 원   등 ...</td>\n",
       "      <td>14</td>\n",
       "      <td>91.174590</td>\n",
       "    </tr>\n",
       "    <tr>\n",
       "      <th>56</th>\n",
       "      <td>#PRC_H1R6I0V5V3A0C0H9Y3G2U2R7R5D0L7</td>\n",
       "      <td>#2000011</td>\n",
       "      <td>초·중등교육법 일부개정법률안(이찬열의원 등 10인)</td>\n",
       "      <td>초 · 중 등 교 육 법   일 부 개 정 법 률 안 이 찬 열 의 원   등   ...</td>\n",
       "      <td>6</td>\n",
       "      <td>92.380883</td>\n",
       "    </tr>\n",
       "    <tr>\n",
       "      <th>64</th>\n",
       "      <td>#PRC_S1B6L0N5L3Y0K1M6Q2Y3T1U1C4Y6B0</td>\n",
       "      <td>#2000041</td>\n",
       "      <td>중소기업창업 지원법 일부개정법률안(김성찬의원 등 10인)</td>\n",
       "      <td>중 소 기 업 창 업   지 원 법   일 부 개 정 법 률 안 김 성 찬 의 원 ...</td>\n",
       "      <td>15</td>\n",
       "      <td>94.441617</td>\n",
       "    </tr>\n",
       "    <tr>\n",
       "      <th>69</th>\n",
       "      <td>#PRC_U1V6Z0M6A0L2B1Q7R5W5T3C6Z7Q8E9</td>\n",
       "      <td>#2000085</td>\n",
       "      <td>지방교육재정교부금법 일부개정법률안(김태년의원 등 15인)</td>\n",
       "      <td>지 방 교 육 재 정 교 부 금 법   일 부 개 정 법 률 안 김 태 년 의 원 ...</td>\n",
       "      <td>1</td>\n",
       "      <td>93.208415</td>\n",
       "    </tr>\n",
       "    <tr>\n",
       "      <th>72</th>\n",
       "      <td>#PRC_F1Z6L0K6D0R3R0R9W5Q0R2I2H8B1P4</td>\n",
       "      <td>#2000086</td>\n",
       "      <td>집회 및 시위에 관한 법률 일부개정법률안(윤재옥의원 등 11인)</td>\n",
       "      <td>집 회   및   시 위 에   관 한   법 률   일 부 개 정 법 률 안 윤 ...</td>\n",
       "      <td>2</td>\n",
       "      <td>90.422485</td>\n",
       "    </tr>\n",
       "    <tr>\n",
       "      <th>73</th>\n",
       "      <td>#PRC_G1N6S0Q6M0R3S1R0K3D1P4S4H1Y9H0</td>\n",
       "      <td>#2000087</td>\n",
       "      <td>지방교육재정교부금법 일부개정법률안(오제세의원 등 10인)</td>\n",
       "      <td>지 방 교 육 재 정 교 부 금 법   일 부 개 정 법 률 안 오 제 세 의 원 ...</td>\n",
       "      <td>1</td>\n",
       "      <td>94.974387</td>\n",
       "    </tr>\n",
       "    <tr>\n",
       "      <th>75</th>\n",
       "      <td>#PRC_P1S6Y0H6S0Q1X1C9H5P5I5Z7E9B8D2</td>\n",
       "      <td>#2000072</td>\n",
       "      <td>국민연금법 일부개정법률안(장병완의원 등 10인)</td>\n",
       "      <td>국 민 연 금 법   일 부 개 정 법 률 안 장 병 완 의 원   등   1 0 인</td>\n",
       "      <td>13</td>\n",
       "      <td>94.641676</td>\n",
       "    </tr>\n",
       "    <tr>\n",
       "      <th>76</th>\n",
       "      <td>#PRC_Q1M6S0P5Y3W0L1W4A3H2R5G0R9Q9G7</td>\n",
       "      <td>#2000028</td>\n",
       "      <td>근로기준법 일부개정법률안(김성태의원 등 122인)</td>\n",
       "      <td>근 로 기 준 법   일 부 개 정 법 률 안 김 성 태 의 원   등   1 2 2 인</td>\n",
       "      <td>5</td>\n",
       "      <td>93.142329</td>\n",
       "    </tr>\n",
       "    <tr>\n",
       "      <th>...</th>\n",
       "      <td>...</td>\n",
       "      <td>...</td>\n",
       "      <td>...</td>\n",
       "      <td>...</td>\n",
       "      <td>...</td>\n",
       "      <td>...</td>\n",
       "    </tr>\n",
       "    <tr>\n",
       "      <th>18706</th>\n",
       "      <td>#PRC_Q1L9M0X2T1E2Q1D5Q4K5U2V4W5T5U1</td>\n",
       "      <td>#2018588</td>\n",
       "      <td>고용보험법 일부개정법률안(주승용의원 등 11인)</td>\n",
       "      <td>고 용 보 험 법   일 부 개 정 법 률 안 주 승 용 의 원   등   1 1 인</td>\n",
       "      <td>5</td>\n",
       "      <td>94.452158</td>\n",
       "    </tr>\n",
       "    <tr>\n",
       "      <th>18712</th>\n",
       "      <td>#PRC_C1B9O0B2T1N4D1I3U4F3C1K4K1X5P7</td>\n",
       "      <td>#2018627</td>\n",
       "      <td>지방자치법 일부개정법률안(임재훈의원 등 10인)</td>\n",
       "      <td>지 방 자 치 법   일 부 개 정 법 률 안 임 재 훈 의 원   등   1 0 인</td>\n",
       "      <td>20</td>\n",
       "      <td>94.687763</td>\n",
       "    </tr>\n",
       "    <tr>\n",
       "      <th>18715</th>\n",
       "      <td>#PRC_H1D9R0T2O1O1S1W6X4Q9W5Z3X3Q9I5</td>\n",
       "      <td>#2018561</td>\n",
       "      <td>정보통신망 이용촉진 및 정보보호 등에 관한 법률 일부개정법률안(윤상직의원 등 10인)</td>\n",
       "      <td>정 보 통 신 망   이 용 촉 진   및   정 보 보 호   등 에   관 한 ...</td>\n",
       "      <td>2</td>\n",
       "      <td>94.017024</td>\n",
       "    </tr>\n",
       "    <tr>\n",
       "      <th>18722</th>\n",
       "      <td>#PRC_R1E9L0Q2P1L2S1F5T2I6D5T7Q9I2R0</td>\n",
       "      <td>#2018586</td>\n",
       "      <td>국가유공자 등 단체 설립에 관한 법률 일부개정법률안(원혜영의원 등 10인)</td>\n",
       "      <td>국 가 유 공 자   등   단 체   설 립 에   관 한   법 률   일 부 ...</td>\n",
       "      <td>13</td>\n",
       "      <td>92.159895</td>\n",
       "    </tr>\n",
       "    <tr>\n",
       "      <th>18728</th>\n",
       "      <td>#PRC_Z1S9J0F2Q1B4J1P7J2A3V3M0B3F6A3</td>\n",
       "      <td>#2018636</td>\n",
       "      <td>전기통신사업법 일부개정법률안(박주민의원 등 12인)</td>\n",
       "      <td>전 기 통 신 사 업 법   일 부 개 정 법 률 안 박 주 민 의 원   등   ...</td>\n",
       "      <td>17</td>\n",
       "      <td>91.739610</td>\n",
       "    </tr>\n",
       "    <tr>\n",
       "      <th>18730</th>\n",
       "      <td>#PRC_E1K9M0O2X1W5A1S5K1R9B4F3C7H6O5</td>\n",
       "      <td>#2018655</td>\n",
       "      <td>지방자치법 일부개정법률안(김종민의원 등 10인)</td>\n",
       "      <td>지 방 자 치 법   일 부 개 정 법 률 안 김 종 민 의 원   등   1 0 인</td>\n",
       "      <td>20</td>\n",
       "      <td>94.218757</td>\n",
       "    </tr>\n",
       "    <tr>\n",
       "      <th>18731</th>\n",
       "      <td>#PRC_F1S9P0F2B1G2B1L4C3T5S5V7Y7V2V4</td>\n",
       "      <td>#2018582</td>\n",
       "      <td>아동복지법 일부개정법률안(박선숙의원 등 10인)</td>\n",
       "      <td>아 동 복 지 법   일 부 개 정 법 률 안 박 선 숙 의 원   등   1 0 인</td>\n",
       "      <td>13</td>\n",
       "      <td>93.421816</td>\n",
       "    </tr>\n",
       "    <tr>\n",
       "      <th>18732</th>\n",
       "      <td>#PRC_H1A9I0W2V1U2H1I4Y3C3P0V2A7M7R0</td>\n",
       "      <td>#2018581</td>\n",
       "      <td>근로기준법 일부개정법률안(설훈의원 등 20인)</td>\n",
       "      <td>근 로 기 준 법   일 부 개 정 법 률 안 설 훈 의 원   등   2 0 인</td>\n",
       "      <td>5</td>\n",
       "      <td>94.335947</td>\n",
       "    </tr>\n",
       "    <tr>\n",
       "      <th>18737</th>\n",
       "      <td>#PRC_U1X9X0R2U1E2J1K7Z3J6D5X8Q0S9W4</td>\n",
       "      <td>#2018593</td>\n",
       "      <td>남북협력기금법 일부개정법률안(정병국의원 등 11인)</td>\n",
       "      <td>남 북 협 력 기 금 법   일 부 개 정 법 률 안 정 병 국 의 원   등   ...</td>\n",
       "      <td>0</td>\n",
       "      <td>90.492371</td>\n",
       "    </tr>\n",
       "    <tr>\n",
       "      <th>18740</th>\n",
       "      <td>#PRC_X1U9B0Y2X1X2J1X4B3Q6Z1Z6R4S5E6</td>\n",
       "      <td>#2018583</td>\n",
       "      <td>영유아보육법 일부개정법률안(박선숙의원 등 10인)</td>\n",
       "      <td>영 유 아 보 육 법   일 부 개 정 법 률 안 박 선 숙 의 원   등   1 0 인</td>\n",
       "      <td>13</td>\n",
       "      <td>93.477841</td>\n",
       "    </tr>\n",
       "    <tr>\n",
       "      <th>18747</th>\n",
       "      <td>#PRC_U1B9Z0W2Y1N3F0C9B5B5Y4K1Z1O8H8</td>\n",
       "      <td>#2018600</td>\n",
       "      <td>과학기술기본법 일부개정법률안(노웅래의원 등 17인)</td>\n",
       "      <td>과 학 기 술 기 본 법   일 부 개 정 법 률 안 노 웅 래 의 원   등   ...</td>\n",
       "      <td>17</td>\n",
       "      <td>92.187809</td>\n",
       "    </tr>\n",
       "    <tr>\n",
       "      <th>18749</th>\n",
       "      <td>#PRC_V1M9O0U2A1G2S1R1B2C8S5V6T5M0U6</td>\n",
       "      <td>#2018576</td>\n",
       "      <td>국회의원(김순례) 징계안(이철희의원 등 4인 외 171인)</td>\n",
       "      <td>국 회 의 원 김 순 례   징 계 안 이 철 희 의 원   등   4 인   외 ...</td>\n",
       "      <td>20</td>\n",
       "      <td>95.884811</td>\n",
       "    </tr>\n",
       "    <tr>\n",
       "      <th>18750</th>\n",
       "      <td>#PRC_W1I9M0T2Z1I1H1D7V4V7B4E4I8F5Y2</td>\n",
       "      <td>#2018566</td>\n",
       "      <td>주택도시기금법 일부개정법률안(정동영의원 등 10인)</td>\n",
       "      <td>주 택 도 시 기 금 법   일 부 개 정 법 률 안 정 동 영 의 원   등   ...</td>\n",
       "      <td>14</td>\n",
       "      <td>91.102898</td>\n",
       "    </tr>\n",
       "    <tr>\n",
       "      <th>18752</th>\n",
       "      <td>#PRC_B1C9V0V2B1I5H1Y6K2P7O5C2Q8K0T5</td>\n",
       "      <td>#2018663</td>\n",
       "      <td>의료법 일부개정법률안(윤일규의원 등 10인)</td>\n",
       "      <td>의 료 법   일 부 개 정 법 률 안 윤 일 규 의 원   등   1 0 인</td>\n",
       "      <td>3</td>\n",
       "      <td>92.350518</td>\n",
       "    </tr>\n",
       "    <tr>\n",
       "      <th>18756</th>\n",
       "      <td>#PRC_E1G9M0J2N1C5L1Q7E0P4U1B0R6B9W4</td>\n",
       "      <td>#2018664</td>\n",
       "      <td>부동산등기법 일부개정법률안(정동영의원 등 10인)</td>\n",
       "      <td>부 동 산 등 기 법   일 부 개 정 법 률 안 정 동 영 의 원   등   1 0 인</td>\n",
       "      <td>15</td>\n",
       "      <td>91.647848</td>\n",
       "    </tr>\n",
       "    <tr>\n",
       "      <th>18759</th>\n",
       "      <td>#PRC_G1M9V0L2F1W2F1G6F4C3Z4J0I7I1B6</td>\n",
       "      <td>#2018592</td>\n",
       "      <td>전기통신사업법 일부개정법률안(송옥주의원 등 10인)</td>\n",
       "      <td>전 기 통 신 사 업 법   일 부 개 정 법 률 안 송 옥 주 의 원   등   ...</td>\n",
       "      <td>17</td>\n",
       "      <td>91.009103</td>\n",
       "    </tr>\n",
       "    <tr>\n",
       "      <th>18761</th>\n",
       "      <td>#PRC_I1B9D0L2C1F4S1Z3B4R9S0C6Y6T0Q6</td>\n",
       "      <td>#2018629</td>\n",
       "      <td>신에너지 및 재생에너지 개발·이용·보급 촉진법 일부개정법률안(임재훈의원 등 10인)</td>\n",
       "      <td>신 에 너 지   및   재 생 에 너 지   개 발 · 이 용 · 보 급   촉 ...</td>\n",
       "      <td>8</td>\n",
       "      <td>90.799826</td>\n",
       "    </tr>\n",
       "    <tr>\n",
       "      <th>18764</th>\n",
       "      <td>#PRC_N1F9G0U2I1N3S1B6K5N2G5B1J7K8A6</td>\n",
       "      <td>#2018620</td>\n",
       "      <td>조세특례제한법 일부개정법률안(이동섭의원 등 10인)</td>\n",
       "      <td>조 세 특 례 제 한 법   일 부 개 정 법 률 안 이 동 섭 의 원   등   ...</td>\n",
       "      <td>1</td>\n",
       "      <td>94.728257</td>\n",
       "    </tr>\n",
       "    <tr>\n",
       "      <th>18768</th>\n",
       "      <td>#PRC_C1G9F0X2B1R5D1J4S4U6Y1J5X8H0I5</td>\n",
       "      <td>#2018650</td>\n",
       "      <td>정보통신망 이용촉진 및 정보보호 등에 관한 법률 일부개정법률안(천정배의원 등 16인)</td>\n",
       "      <td>정 보 통 신 망   이 용 촉 진   및   정 보 보 호   등 에   관 한 ...</td>\n",
       "      <td>2</td>\n",
       "      <td>93.094887</td>\n",
       "    </tr>\n",
       "    <tr>\n",
       "      <th>18772</th>\n",
       "      <td>#PRC_I1L9W0M2L1T2Y1O1Y3U0L0J5X6C6Q8</td>\n",
       "      <td>#2018577</td>\n",
       "      <td>국회의원(김진태) 징계안(이철희의원 등 4인 외 171인)</td>\n",
       "      <td>국 회 의 원 김 진 태   징 계 안 이 철 희 의 원   등   4 인   외 ...</td>\n",
       "      <td>20</td>\n",
       "      <td>96.114757</td>\n",
       "    </tr>\n",
       "    <tr>\n",
       "      <th>18773</th>\n",
       "      <td>#PRC_K1L9K0E2F1R4U1F4U2J2C2J3P0Y6M8</td>\n",
       "      <td>#2018633</td>\n",
       "      <td>여신전문금융업법 일부개정법률안(임재훈의원 등 10인)</td>\n",
       "      <td>여 신 전 문 금 융 업 법   일 부 개 정 법 률 안 임 재 훈 의 원   등 ...</td>\n",
       "      <td>15</td>\n",
       "      <td>91.319509</td>\n",
       "    </tr>\n",
       "    <tr>\n",
       "      <th>18774</th>\n",
       "      <td>#PRC_P1O9Z0W2J1Y1M1V1M3V2F0N3P5V4G3</td>\n",
       "      <td>#2018552</td>\n",
       "      <td>법원조직법 일부개정법률안(김도읍의원 등 11인)</td>\n",
       "      <td>법 원 조 직 법   일 부 개 정 법 률 안 김 도 읍 의 원   등   1 1 인</td>\n",
       "      <td>20</td>\n",
       "      <td>95.054499</td>\n",
       "    </tr>\n",
       "    <tr>\n",
       "      <th>18779</th>\n",
       "      <td>#PRC_Z1C9O0G2M1F1X1W7W5P8A5U6S1O0C8</td>\n",
       "      <td>#2018568</td>\n",
       "      <td>주택법 일부개정법률안(정동영의원 등 11인)</td>\n",
       "      <td>주 택 법   일 부 개 정 법 률 안 정 동 영 의 원   등   1 1 인</td>\n",
       "      <td>14</td>\n",
       "      <td>92.692698</td>\n",
       "    </tr>\n",
       "    <tr>\n",
       "      <th>18785</th>\n",
       "      <td>#PRC_W1O9R0X2S1M4F1O4L0Q2E3W0Y4M9C1</td>\n",
       "      <td>#2018631</td>\n",
       "      <td>지방세법 일부개정법률안(박명재의원 등 10인)</td>\n",
       "      <td>지 방 세 법   일 부 개 정 법 률 안 박 명 재 의 원   등   1 0 인</td>\n",
       "      <td>1</td>\n",
       "      <td>93.228015</td>\n",
       "    </tr>\n",
       "    <tr>\n",
       "      <th>18788</th>\n",
       "      <td>#PRC_Z1M9R0X2U1L4D1D4J5T4Z1W5T9M2Q9</td>\n",
       "      <td>#2018634</td>\n",
       "      <td>국가공무원법 일부개정법률안(곽상도의원 등 11인)</td>\n",
       "      <td>국 가 공 무 원 법   일 부 개 정 법 률 안 곽 상 도 의 원   등   1 1 인</td>\n",
       "      <td>20</td>\n",
       "      <td>96.167685</td>\n",
       "    </tr>\n",
       "    <tr>\n",
       "      <th>18789</th>\n",
       "      <td>#PRC_A1L9E0X2Z1M4G1Y3R5C6K3S1X6G3U5</td>\n",
       "      <td>#2018630</td>\n",
       "      <td>선거관리위원회법 일부개정법률안(이채익의원 등 15인)</td>\n",
       "      <td>선 거 관 리 위 원 회 법   일 부 개 정 법 률 안 이 채 익 의 원   등 ...</td>\n",
       "      <td>20</td>\n",
       "      <td>95.811433</td>\n",
       "    </tr>\n",
       "    <tr>\n",
       "      <th>18795</th>\n",
       "      <td>#PRC_K1H9H0Q2A1C2N0X9B2W8K2J3J3S5O3</td>\n",
       "      <td>#2018571</td>\n",
       "      <td>근로기준법 일부개정법률안(박명재의원 등 10인)</td>\n",
       "      <td>근 로 기 준 법   일 부 개 정 법 률 안 박 명 재 의 원   등   1 0 인</td>\n",
       "      <td>5</td>\n",
       "      <td>94.230781</td>\n",
       "    </tr>\n",
       "    <tr>\n",
       "      <th>18796</th>\n",
       "      <td>#PRC_N1J9K0D2H1G1P1M0N0M5P0R7W4W0A9</td>\n",
       "      <td>#2018550</td>\n",
       "      <td>약사법 일부개정법률안(전혜숙의원 등 10인)</td>\n",
       "      <td>약 사 법   일 부 개 정 법 률 안 전 혜 숙 의 원   등   1 0 인</td>\n",
       "      <td>15</td>\n",
       "      <td>90.078502</td>\n",
       "    </tr>\n",
       "    <tr>\n",
       "      <th>18798</th>\n",
       "      <td>#PRC_P1E9P0W2O1B2D1D1O3B1K0L5F5H3Z0</td>\n",
       "      <td>#2018578</td>\n",
       "      <td>국회의원(이종명) 징계안(이철희의원 등 4인 외 171인)</td>\n",
       "      <td>국 회 의 원 이 종 명   징 계 안 이 철 희 의 원   등   4 인   외 ...</td>\n",
       "      <td>20</td>\n",
       "      <td>95.999915</td>\n",
       "    </tr>\n",
       "    <tr>\n",
       "      <th>18799</th>\n",
       "      <td>#PRC_W1P9C0Q2E1H1E1J1O4P5S1N6F9B5J3</td>\n",
       "      <td>#2018554</td>\n",
       "      <td>의료법 일부개정법률안(전혜숙의원 등 10인)</td>\n",
       "      <td>의 료 법   일 부 개 정 법 률 안 전 혜 숙 의 원   등   1 0 인</td>\n",
       "      <td>3</td>\n",
       "      <td>91.501648</td>\n",
       "    </tr>\n",
       "  </tbody>\n",
       "</table>\n",
       "<p>7583 rows × 6 columns</p>\n",
       "</div>"
      ],
      "text/plain": [
       "                     unique_bill_site_name  bill_num  \\\n",
       "2      #PRC_G1J6D0T5Q3R0N1S4C1T9N1N9U5E1V0  #2000029   \n",
       "3      #PRC_H1I6Z0U5V3W0C0E9N5A1I3L4K6O6G7  #2000015   \n",
       "5      #PRC_N1T6D0J6S0D3N1Q4U0P3Q3B4V7P4R6  #2000089   \n",
       "9      #PRC_T1E6T0Q6D0D1J1H8U5U1Y5K6M8W1L0  #2000067   \n",
       "10     #PRC_A1V6Z0H6W0D3V1A0E3W2Q0K2R2O1I1  #2000088   \n",
       "13     #PRC_K1Z6M0N5M3C0F1Q5W3D6C4N5H5J2X4  #2000037   \n",
       "14     #PRC_L1K6Z0P5D3R0Y1F6T3B1J4R5Z5H6A2  #2000043   \n",
       "21     #PRC_B1T6M0B5R3A0N1S6I5K4M0G1W9K4U2  #2000045   \n",
       "24     #PRC_F1O6W0S6A0U2N1I7O4Q9N0L0Q3B0D1  #2000084   \n",
       "25     #PRC_G1F6A0F5S3D0T2G0M0S8J4Z3L0U4O2  #2000052   \n",
       "26     #PRC_G1H6H0J5V3X0S1Y0B0F9Q3M2W7T0D1  #2000017   \n",
       "29     #PRC_P1B6L0F6K0L3Y1L7B4M5Y5N5Z9W0B7  #2000102   \n",
       "30     #PRC_Q1U6C0C5C3N1Y1M7G2Z5Z1Q8T8W0R9  #2000061   \n",
       "33     #PRC_D1F6F0E5A3P0K1J8F0M6B3G3Q8Q5Y9  #2000050   \n",
       "35     #PRC_E1Y6L0C5R3T0T1T5N2V1H4P8N7P0W7  #2000035   \n",
       "37     #PRC_M1K6X0P5B3E0V0X9T3U4I3P0A4E3M6  #2000004   \n",
       "39     #PRC_P1X6M0K5E3U0T1M0N4S9L0E9R2Q5T1  #2000020   \n",
       "40     #PRC_Q1G6C0X6V0K2F1I6C4Z0H2W6F6F1Y1  #2000081   \n",
       "47     #PRC_V1A6V0D5S3Z1V1H3T3Y6A4S8Q7A1G5  #2000055   \n",
       "52     #ARC_G1G6F0S5N3T1J1Z5C4E7A1N7M8B0J0  #2000058   \n",
       "53     #PRC_F1I6P0U6P0C2Z1N7F3X7M3J2K1Z6M3  #2000082   \n",
       "54     #PRC_G1A6Z0S6A0H3C1L6Z2O4H2G0Y8Q0J8  #2000096   \n",
       "55     #PRC_G1L6S0J5V3G0I1R0Z0T4N5E9L0R2W2  #2000016   \n",
       "56     #PRC_H1R6I0V5V3A0C0H9Y3G2U2R7R5D0L7  #2000011   \n",
       "64     #PRC_S1B6L0N5L3Y0K1M6Q2Y3T1U1C4Y6B0  #2000041   \n",
       "69     #PRC_U1V6Z0M6A0L2B1Q7R5W5T3C6Z7Q8E9  #2000085   \n",
       "72     #PRC_F1Z6L0K6D0R3R0R9W5Q0R2I2H8B1P4  #2000086   \n",
       "73     #PRC_G1N6S0Q6M0R3S1R0K3D1P4S4H1Y9H0  #2000087   \n",
       "75     #PRC_P1S6Y0H6S0Q1X1C9H5P5I5Z7E9B8D2  #2000072   \n",
       "76     #PRC_Q1M6S0P5Y3W0L1W4A3H2R5G0R9Q9G7  #2000028   \n",
       "...                                    ...       ...   \n",
       "18706  #PRC_Q1L9M0X2T1E2Q1D5Q4K5U2V4W5T5U1  #2018588   \n",
       "18712  #PRC_C1B9O0B2T1N4D1I3U4F3C1K4K1X5P7  #2018627   \n",
       "18715  #PRC_H1D9R0T2O1O1S1W6X4Q9W5Z3X3Q9I5  #2018561   \n",
       "18722  #PRC_R1E9L0Q2P1L2S1F5T2I6D5T7Q9I2R0  #2018586   \n",
       "18728  #PRC_Z1S9J0F2Q1B4J1P7J2A3V3M0B3F6A3  #2018636   \n",
       "18730  #PRC_E1K9M0O2X1W5A1S5K1R9B4F3C7H6O5  #2018655   \n",
       "18731  #PRC_F1S9P0F2B1G2B1L4C3T5S5V7Y7V2V4  #2018582   \n",
       "18732  #PRC_H1A9I0W2V1U2H1I4Y3C3P0V2A7M7R0  #2018581   \n",
       "18737  #PRC_U1X9X0R2U1E2J1K7Z3J6D5X8Q0S9W4  #2018593   \n",
       "18740  #PRC_X1U9B0Y2X1X2J1X4B3Q6Z1Z6R4S5E6  #2018583   \n",
       "18747  #PRC_U1B9Z0W2Y1N3F0C9B5B5Y4K1Z1O8H8  #2018600   \n",
       "18749  #PRC_V1M9O0U2A1G2S1R1B2C8S5V6T5M0U6  #2018576   \n",
       "18750  #PRC_W1I9M0T2Z1I1H1D7V4V7B4E4I8F5Y2  #2018566   \n",
       "18752  #PRC_B1C9V0V2B1I5H1Y6K2P7O5C2Q8K0T5  #2018663   \n",
       "18756  #PRC_E1G9M0J2N1C5L1Q7E0P4U1B0R6B9W4  #2018664   \n",
       "18759  #PRC_G1M9V0L2F1W2F1G6F4C3Z4J0I7I1B6  #2018592   \n",
       "18761  #PRC_I1B9D0L2C1F4S1Z3B4R9S0C6Y6T0Q6  #2018629   \n",
       "18764  #PRC_N1F9G0U2I1N3S1B6K5N2G5B1J7K8A6  #2018620   \n",
       "18768  #PRC_C1G9F0X2B1R5D1J4S4U6Y1J5X8H0I5  #2018650   \n",
       "18772  #PRC_I1L9W0M2L1T2Y1O1Y3U0L0J5X6C6Q8  #2018577   \n",
       "18773  #PRC_K1L9K0E2F1R4U1F4U2J2C2J3P0Y6M8  #2018633   \n",
       "18774  #PRC_P1O9Z0W2J1Y1M1V1M3V2F0N3P5V4G3  #2018552   \n",
       "18779  #PRC_Z1C9O0G2M1F1X1W7W5P8A5U6S1O0C8  #2018568   \n",
       "18785  #PRC_W1O9R0X2S1M4F1O4L0Q2E3W0Y4M9C1  #2018631   \n",
       "18788  #PRC_Z1M9R0X2U1L4D1D4J5T4Z1W5T9M2Q9  #2018634   \n",
       "18789  #PRC_A1L9E0X2Z1M4G1Y3R5C6K3S1X6G3U5  #2018630   \n",
       "18795  #PRC_K1H9H0Q2A1C2N0X9B2W8K2J3J3S5O3  #2018571   \n",
       "18796  #PRC_N1J9K0D2H1G1P1M0N0M5P0R7W4W0A9  #2018550   \n",
       "18798  #PRC_P1E9P0W2O1B2D1D1O3B1K0L5F5H3Z0  #2018578   \n",
       "18799  #PRC_W1P9C0Q2E1H1E1J1O4P5S1N6F9B5J3  #2018554   \n",
       "\n",
       "                                               bill_name  \\\n",
       "2                            고용보험법 일부개정법률안(김성태의원 등 122인)   \n",
       "3                             정부조직법 일부개정법률안(홍문표의원 등 12인)   \n",
       "5                        지방교육재정교부금법 일부개정법률안(주승용의원 등 12인)   \n",
       "9                           초·중등교육법 일부개정법률안(박순자의원 등 12인)   \n",
       "10                       지방교육재정교부금법 일부개정법률안(최도자의원 등 24인)   \n",
       "13                         주택임대차보호법 일부개정법률안(윤후덕의원 등 12인)   \n",
       "14                            공직선거법 일부개정법률안(윤후덕의원 등 12인)   \n",
       "21                              국회법 일부개정법률안(원혜영의원 등 12인)   \n",
       "24                          초·중등교육법 일부개정법률안(김태년의원 등 15인)   \n",
       "25                            공직선거법 일부개정법률안(박덕흠의원 등 10인)   \n",
       "26                            공직선거법 일부개정법률안(박영선의원 등 10인)   \n",
       "29                    스토킹 범죄의 처벌 등에 관한 특례법안(남인순의원 등 12인)   \n",
       "30                          조세특례제한법 일부개정법률안(조정식의원 등 15인)   \n",
       "33                            정부조직법 일부개정법률안(이명수의원 등 11인)   \n",
       "35                             지방세법 일부개정법률안(박맹우의원 등 12인)   \n",
       "37                            정부조직법 일부개정법률안(이종배의원 등 11인)   \n",
       "39                  석유 및 석유대체연료 사업법 일부개정법률안(이채익의원 등 12인)   \n",
       "40                             법인세법 일부개정법률안(김동철의원 등 14인)   \n",
       "47                         여신전문금융업법 일부개정법률안(이원욱의원 등 11인)   \n",
       "52                                          행정사법 일부개정법률안   \n",
       "53                             학교보건법 일부개정법률안(설훈의원 등 15인)   \n",
       "54     고용보험 및 산업재해보상보험의 보험료징수 등에 관한 법률 일부개정법률안(위성곤의원 ...   \n",
       "55                         주택임대차보호법 일부개정법률안(박영선의원 등 10인)   \n",
       "56                          초·중등교육법 일부개정법률안(이찬열의원 등 10인)   \n",
       "64                       중소기업창업 지원법 일부개정법률안(김성찬의원 등 10인)   \n",
       "69                       지방교육재정교부금법 일부개정법률안(김태년의원 등 15인)   \n",
       "72                   집회 및 시위에 관한 법률 일부개정법률안(윤재옥의원 등 11인)   \n",
       "73                       지방교육재정교부금법 일부개정법률안(오제세의원 등 10인)   \n",
       "75                            국민연금법 일부개정법률안(장병완의원 등 10인)   \n",
       "76                           근로기준법 일부개정법률안(김성태의원 등 122인)   \n",
       "...                                                  ...   \n",
       "18706                         고용보험법 일부개정법률안(주승용의원 등 11인)   \n",
       "18712                         지방자치법 일부개정법률안(임재훈의원 등 10인)   \n",
       "18715    정보통신망 이용촉진 및 정보보호 등에 관한 법률 일부개정법률안(윤상직의원 등 10인)   \n",
       "18722          국가유공자 등 단체 설립에 관한 법률 일부개정법률안(원혜영의원 등 10인)   \n",
       "18728                       전기통신사업법 일부개정법률안(박주민의원 등 12인)   \n",
       "18730                         지방자치법 일부개정법률안(김종민의원 등 10인)   \n",
       "18731                         아동복지법 일부개정법률안(박선숙의원 등 10인)   \n",
       "18732                          근로기준법 일부개정법률안(설훈의원 등 20인)   \n",
       "18737                       남북협력기금법 일부개정법률안(정병국의원 등 11인)   \n",
       "18740                        영유아보육법 일부개정법률안(박선숙의원 등 10인)   \n",
       "18747                       과학기술기본법 일부개정법률안(노웅래의원 등 17인)   \n",
       "18749                   국회의원(김순례) 징계안(이철희의원 등 4인 외 171인)   \n",
       "18750                       주택도시기금법 일부개정법률안(정동영의원 등 10인)   \n",
       "18752                           의료법 일부개정법률안(윤일규의원 등 10인)   \n",
       "18756                        부동산등기법 일부개정법률안(정동영의원 등 10인)   \n",
       "18759                       전기통신사업법 일부개정법률안(송옥주의원 등 10인)   \n",
       "18761     신에너지 및 재생에너지 개발·이용·보급 촉진법 일부개정법률안(임재훈의원 등 10인)   \n",
       "18764                       조세특례제한법 일부개정법률안(이동섭의원 등 10인)   \n",
       "18768    정보통신망 이용촉진 및 정보보호 등에 관한 법률 일부개정법률안(천정배의원 등 16인)   \n",
       "18772                   국회의원(김진태) 징계안(이철희의원 등 4인 외 171인)   \n",
       "18773                      여신전문금융업법 일부개정법률안(임재훈의원 등 10인)   \n",
       "18774                         법원조직법 일부개정법률안(김도읍의원 등 11인)   \n",
       "18779                           주택법 일부개정법률안(정동영의원 등 11인)   \n",
       "18785                          지방세법 일부개정법률안(박명재의원 등 10인)   \n",
       "18788                        국가공무원법 일부개정법률안(곽상도의원 등 11인)   \n",
       "18789                      선거관리위원회법 일부개정법률안(이채익의원 등 15인)   \n",
       "18795                         근로기준법 일부개정법률안(박명재의원 등 10인)   \n",
       "18796                           약사법 일부개정법률안(전혜숙의원 등 10인)   \n",
       "18798                   국회의원(이종명) 징계안(이철희의원 등 4인 외 171인)   \n",
       "18799                           의료법 일부개정법률안(전혜숙의원 등 10인)   \n",
       "\n",
       "                                       renewed_bill_name  predicted_bill_code  \\\n",
       "2      고 용 보 험 법   일 부 개 정 법 률 안 김 성 태 의 원   등   1 2 2 인                    5   \n",
       "3        정 부 조 직 법   일 부 개 정 법 률 안 홍 문 표 의 원   등   1 2 인                   20   \n",
       "5      지 방 교 육 재 정 교 부 금 법   일 부 개 정 법 률 안 주 승 용 의 원 ...                    1   \n",
       "9      초 · 중 등 교 육 법   일 부 개 정 법 률 안 박 순 자 의 원   등   ...                    6   \n",
       "10     지 방 교 육 재 정 교 부 금 법   일 부 개 정 법 률 안 최 도 자 의 원 ...                    1   \n",
       "13     주 택 임 대 차 보 호 법   일 부 개 정 법 률 안 윤 후 덕 의 원   등 ...                   14   \n",
       "14       공 직 선 거 법   일 부 개 정 법 률 안 윤 후 덕 의 원   등   1 2 인                   20   \n",
       "21           국 회 법   일 부 개 정 법 률 안 원 혜 영 의 원   등   1 2 인                   20   \n",
       "24     초 · 중 등 교 육 법   일 부 개 정 법 률 안 김 태 년 의 원   등   ...                    6   \n",
       "25       공 직 선 거 법   일 부 개 정 법 률 안 박 덕 흠 의 원   등   1 0 인                   20   \n",
       "26       공 직 선 거 법   일 부 개 정 법 률 안 박 영 선 의 원   등   1 0 인                   20   \n",
       "29     스 토 킹   범 죄 의   처 벌   등 에   관 한   특 례 법 안 남 인 ...                   12   \n",
       "30     조 세 특 례 제 한 법   일 부 개 정 법 률 안 조 정 식 의 원   등   ...                    1   \n",
       "33       정 부 조 직 법   일 부 개 정 법 률 안 이 명 수 의 원   등   1 1 인                   20   \n",
       "35         지 방 세 법   일 부 개 정 법 률 안 박 맹 우 의 원   등   1 2 인                    1   \n",
       "37       정 부 조 직 법   일 부 개 정 법 률 안 이 종 배 의 원   등   1 1 인                   20   \n",
       "39     석 유   및   석 유 대 체 연 료   사 업 법   일 부 개 정 법 률 안 ...                    8   \n",
       "40         법 인 세 법   일 부 개 정 법 률 안 김 동 철 의 원   등   1 4 인                    1   \n",
       "47     여 신 전 문 금 융 업 법   일 부 개 정 법 률 안 이 원 욱 의 원   등 ...                   15   \n",
       "52                               행 정 사 법   일 부 개 정 법 률 안                   20   \n",
       "53         학 교 보 건 법   일 부 개 정 법 률 안 설 훈 의 원   등   1 5 인                    3   \n",
       "54     고 용 보 험   및   산 업 재 해 보 상 보 험 의   보 험 료 징 수   ...                    5   \n",
       "55     주 택 임 대 차 보 호 법   일 부 개 정 법 률 안 박 영 선 의 원   등 ...                   14   \n",
       "56     초 · 중 등 교 육 법   일 부 개 정 법 률 안 이 찬 열 의 원   등   ...                    6   \n",
       "64     중 소 기 업 창 업   지 원 법   일 부 개 정 법 률 안 김 성 찬 의 원 ...                   15   \n",
       "69     지 방 교 육 재 정 교 부 금 법   일 부 개 정 법 률 안 김 태 년 의 원 ...                    1   \n",
       "72     집 회   및   시 위 에   관 한   법 률   일 부 개 정 법 률 안 윤 ...                    2   \n",
       "73     지 방 교 육 재 정 교 부 금 법   일 부 개 정 법 률 안 오 제 세 의 원 ...                    1   \n",
       "75       국 민 연 금 법   일 부 개 정 법 률 안 장 병 완 의 원   등   1 0 인                   13   \n",
       "76     근 로 기 준 법   일 부 개 정 법 률 안 김 성 태 의 원   등   1 2 2 인                    5   \n",
       "...                                                  ...                  ...   \n",
       "18706    고 용 보 험 법   일 부 개 정 법 률 안 주 승 용 의 원   등   1 1 인                    5   \n",
       "18712    지 방 자 치 법   일 부 개 정 법 률 안 임 재 훈 의 원   등   1 0 인                   20   \n",
       "18715  정 보 통 신 망   이 용 촉 진   및   정 보 보 호   등 에   관 한 ...                    2   \n",
       "18722  국 가 유 공 자   등   단 체   설 립 에   관 한   법 률   일 부 ...                   13   \n",
       "18728  전 기 통 신 사 업 법   일 부 개 정 법 률 안 박 주 민 의 원   등   ...                   17   \n",
       "18730    지 방 자 치 법   일 부 개 정 법 률 안 김 종 민 의 원   등   1 0 인                   20   \n",
       "18731    아 동 복 지 법   일 부 개 정 법 률 안 박 선 숙 의 원   등   1 0 인                   13   \n",
       "18732      근 로 기 준 법   일 부 개 정 법 률 안 설 훈 의 원   등   2 0 인                    5   \n",
       "18737  남 북 협 력 기 금 법   일 부 개 정 법 률 안 정 병 국 의 원   등   ...                    0   \n",
       "18740  영 유 아 보 육 법   일 부 개 정 법 률 안 박 선 숙 의 원   등   1 0 인                   13   \n",
       "18747  과 학 기 술 기 본 법   일 부 개 정 법 률 안 노 웅 래 의 원   등   ...                   17   \n",
       "18749  국 회 의 원 김 순 례   징 계 안 이 철 희 의 원   등   4 인   외 ...                   20   \n",
       "18750  주 택 도 시 기 금 법   일 부 개 정 법 률 안 정 동 영 의 원   등   ...                   14   \n",
       "18752        의 료 법   일 부 개 정 법 률 안 윤 일 규 의 원   등   1 0 인                    3   \n",
       "18756  부 동 산 등 기 법   일 부 개 정 법 률 안 정 동 영 의 원   등   1 0 인                   15   \n",
       "18759  전 기 통 신 사 업 법   일 부 개 정 법 률 안 송 옥 주 의 원   등   ...                   17   \n",
       "18761  신 에 너 지   및   재 생 에 너 지   개 발 · 이 용 · 보 급   촉 ...                    8   \n",
       "18764  조 세 특 례 제 한 법   일 부 개 정 법 률 안 이 동 섭 의 원   등   ...                    1   \n",
       "18768  정 보 통 신 망   이 용 촉 진   및   정 보 보 호   등 에   관 한 ...                    2   \n",
       "18772  국 회 의 원 김 진 태   징 계 안 이 철 희 의 원   등   4 인   외 ...                   20   \n",
       "18773  여 신 전 문 금 융 업 법   일 부 개 정 법 률 안 임 재 훈 의 원   등 ...                   15   \n",
       "18774    법 원 조 직 법   일 부 개 정 법 률 안 김 도 읍 의 원   등   1 1 인                   20   \n",
       "18779        주 택 법   일 부 개 정 법 률 안 정 동 영 의 원   등   1 1 인                   14   \n",
       "18785      지 방 세 법   일 부 개 정 법 률 안 박 명 재 의 원   등   1 0 인                    1   \n",
       "18788  국 가 공 무 원 법   일 부 개 정 법 률 안 곽 상 도 의 원   등   1 1 인                   20   \n",
       "18789  선 거 관 리 위 원 회 법   일 부 개 정 법 률 안 이 채 익 의 원   등 ...                   20   \n",
       "18795    근 로 기 준 법   일 부 개 정 법 률 안 박 명 재 의 원   등   1 0 인                    5   \n",
       "18796        약 사 법   일 부 개 정 법 률 안 전 혜 숙 의 원   등   1 0 인                   15   \n",
       "18798  국 회 의 원 이 종 명   징 계 안 이 철 희 의 원   등   4 인   외 ...                   20   \n",
       "18799        의 료 법   일 부 개 정 법 률 안 전 혜 숙 의 원   등   1 0 인                    3   \n",
       "\n",
       "       bill_code_probability  \n",
       "2                  90.902628  \n",
       "3                  95.350883  \n",
       "5                  91.755577  \n",
       "9                  94.387117  \n",
       "10                 90.578576  \n",
       "13                 91.199220  \n",
       "14                 96.353556  \n",
       "21                 96.507240  \n",
       "24                 95.328217  \n",
       "25                 96.539847  \n",
       "26                 95.351150  \n",
       "29                 90.073882  \n",
       "30                 96.330156  \n",
       "33                 97.167153  \n",
       "35                 93.020456  \n",
       "37                 95.385552  \n",
       "39                 93.263062  \n",
       "40                 94.255019  \n",
       "47                 93.450012  \n",
       "52                 94.609755  \n",
       "53                 93.242046  \n",
       "54                 91.549244  \n",
       "55                 91.174590  \n",
       "56                 92.380883  \n",
       "64                 94.441617  \n",
       "69                 93.208415  \n",
       "72                 90.422485  \n",
       "73                 94.974387  \n",
       "75                 94.641676  \n",
       "76                 93.142329  \n",
       "...                      ...  \n",
       "18706              94.452158  \n",
       "18712              94.687763  \n",
       "18715              94.017024  \n",
       "18722              92.159895  \n",
       "18728              91.739610  \n",
       "18730              94.218757  \n",
       "18731              93.421816  \n",
       "18732              94.335947  \n",
       "18737              90.492371  \n",
       "18740              93.477841  \n",
       "18747              92.187809  \n",
       "18749              95.884811  \n",
       "18750              91.102898  \n",
       "18752              92.350518  \n",
       "18756              91.647848  \n",
       "18759              91.009103  \n",
       "18761              90.799826  \n",
       "18764              94.728257  \n",
       "18768              93.094887  \n",
       "18772              96.114757  \n",
       "18773              91.319509  \n",
       "18774              95.054499  \n",
       "18779              92.692698  \n",
       "18785              93.228015  \n",
       "18788              96.167685  \n",
       "18789              95.811433  \n",
       "18795              94.230781  \n",
       "18796              90.078502  \n",
       "18798              95.999915  \n",
       "18799              91.501648  \n",
       "\n",
       "[7583 rows x 6 columns]"
      ]
     },
     "execution_count": 651,
     "metadata": {},
     "output_type": "execute_result"
    }
   ],
   "source": [
    "korean_bills_above_90"
   ]
  },
  {
   "cell_type": "code",
   "execution_count": 657,
   "metadata": {},
   "outputs": [],
   "source": [
    "korean_bills_above_90.to_csv('C:\\\\Users\\\\supratik chanda\\\\Desktop\\\\RA\\\\Categorized Bill\\\\First_iteration.csv',header=True,encoding='utf-8-sig',\n",
    "                             index=False)"
   ]
  },
  {
   "cell_type": "code",
   "execution_count": null,
   "metadata": {},
   "outputs": [],
   "source": []
  }
 ],
 "metadata": {
  "kernelspec": {
   "display_name": "Python 3",
   "language": "python",
   "name": "python3"
  },
  "language_info": {
   "codemirror_mode": {
    "name": "ipython",
    "version": 3
   },
   "file_extension": ".py",
   "mimetype": "text/x-python",
   "name": "python",
   "nbconvert_exporter": "python",
   "pygments_lexer": "ipython3",
   "version": "3.6.5"
  }
 },
 "nbformat": 4,
 "nbformat_minor": 2
}
