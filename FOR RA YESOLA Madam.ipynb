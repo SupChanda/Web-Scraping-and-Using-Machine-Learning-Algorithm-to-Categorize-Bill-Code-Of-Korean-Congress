{
 "cells": [
  {
   "cell_type": "code",
   "execution_count": 1108,
   "metadata": {},
   "outputs": [],
   "source": [
    "a=open('Bill_Page_20.html',encoding='utf-8').read()"
   ]
  },
  {
   "cell_type": "code",
   "execution_count": 1109,
   "metadata": {},
   "outputs": [],
   "source": [
    "import requests\n",
    "from bs4 import BeautifulSoup as sp\n"
   ]
  },
  {
   "cell_type": "code",
   "execution_count": 1110,
   "metadata": {},
   "outputs": [],
   "source": [
    "#for finding the unique_bill_site_name"
   ]
  },
  {
   "cell_type": "code",
   "execution_count": 1111,
   "metadata": {},
   "outputs": [
    {
     "name": "stdout",
     "output_type": "stream",
     "text": [
      "100\n"
     ]
    }
   ],
   "source": [
    "bs= sp(a,'lxml')\n",
    "k = bs.find_all('a',href=True)\n",
    "import re\n",
    "IDList=[]\n",
    "StageNameList=[]\n",
    "proponentList=[]\n",
    "unique_bill_site_name_list=[]\n",
    "http='http://likms.assembly.go.kr/bill/coactorListPopup.do?billId='\n",
    "httpStageNames='http://likms.assembly.go.kr/bill/billDetail.do?billId='\n",
    "for each in k:\n",
    "    if each.text.find('javascript:fGoDetail')> -1:\n",
    "        matchedID =str(re.findall('\\'.*\\'',each.text)).split(',')[0].replace('[','').replace('\\'','').replace('\\\"','')\n",
    "        unique_bill_site_name_list.append('#'+matchedID)\n",
    "print(len(unique_bill_site_name_list))"
   ]
  },
  {
   "cell_type": "code",
   "execution_count": 1112,
   "metadata": {},
   "outputs": [],
   "source": [
    "#for finding Proponents,co-sponsers,sponsors and on-screen-stagenames list"
   ]
  },
  {
   "cell_type": "code",
   "execution_count": 1113,
   "metadata": {},
   "outputs": [
    {
     "name": "stdout",
     "output_type": "stream",
     "text": [
      "100\n",
      "100\n",
      "100\n",
      "100\n"
     ]
    }
   ],
   "source": [
    "bs= sp(a,'lxml')\n",
    "k = bs.find_all('a',href=True)\n",
    "import re\n",
    "IDList=[]\n",
    "StageNameList=[]\n",
    "proponentList=[]\n",
    "http='http://likms.assembly.go.kr/bill/coactorListPopup.do?billId='\n",
    "httpStageNames='http://likms.assembly.go.kr/bill/billDetail.do?billId='\n",
    "for each in k:\n",
    "    if each.text.find('javascript:fGoDetail')> -1:\n",
    "        matchedID =str(re.findall('\\'.*\\'',each.text)).split(',')[0].replace('[','').replace('\\'','').replace('\\\"','')\n",
    "        IDList.append(http + re.sub('[\\[\\\"]','',matchedID))\n",
    "        StageNameList.append(httpStageNames + re.sub('[\\[\\\"]','',matchedID))\n",
    "\n",
    "\n",
    "#Start:List_of_co-sponsers\n",
    "List_of_Co_Sponsers=[]\n",
    "List_of_Sponsers=[]\n",
    "for each in IDList:\n",
    "    eachURL = requests.get(each)\n",
    "    URLContent = sp(eachURL.text,'html5lib')\n",
    "    urlList = URLContent.find_all('a')\n",
    "    #print(len(urlList))\n",
    "    urlString=''\n",
    "    for elem in urlList:\n",
    "        if urlString == '':\n",
    "            urlString = elem.text\n",
    "        else:\n",
    "            urlString = urlString + ','+elem.text\n",
    "    List_of_Sponsers.append(urlString.split(',')[0])# first name of the co-sponsers list is the sponser name\n",
    "    List_of_Co_Sponsers.append(','.join(urlString.split(',')[1:])) #  removing the first name from the list of co-sponsers\n",
    "    \n",
    "#End\n",
    "\n",
    "#Screening_stage_name=[]\n",
    "onScreenStageList=[]\n",
    "for each in StageNameList:\n",
    "    eachURL = requests.get(each)\n",
    "    URLContent = sp(eachURL.text,'html5lib')\n",
    "    tempString=''\n",
    "    #Screening_stage_name.append(URLContent.find('div',attrs={'class':'boxType01'}).find('p',attrs={'class':'textType01 bul01'}).text)\n",
    "    onscreen_Name = URLContent.find('div',attrs={'class':'boxType01'}).find_all('span',attrs={'class':'on'})\n",
    "    for elem in onscreen_Name:\n",
    "        if tempString == '':\n",
    "            tempString = elem.text.strip()\n",
    "        else:\n",
    "            tempString = tempString + ',' + elem.text.strip()\n",
    "    onScreenStageList.append(tempString)\n",
    "i=1\n",
    "for each in StageNameList:\n",
    "    eachURL = requests.get(each)\n",
    "    URLContent = sp(eachURL.text,'html5lib')\n",
    "    c=0\n",
    "    for elem in URLContent.find_all('td'):\n",
    "        proponentString=''\n",
    "        c+=1\n",
    "        if c==3:\n",
    "            j=elem.text.strip()\n",
    "            i+=1\n",
    "            proponentList.append(j)\n",
    "            #print(proponentList)\n",
    "print(len(proponentList))\n",
    "print(len(List_of_Co_Sponsers))\n",
    "print(len(List_of_Sponsers))\n",
    "print(len(onScreenStageList))\n",
    "    "
   ]
  },
  {
   "cell_type": "code",
   "execution_count": 1114,
   "metadata": {},
   "outputs": [],
   "source": [
    "# for finding screeing_stage_names"
   ]
  },
  {
   "cell_type": "code",
   "execution_count": 1115,
   "metadata": {},
   "outputs": [
    {
     "name": "stdout",
     "output_type": "stream",
     "text": [
      "100\n"
     ]
    }
   ],
   "source": [
    "bs= sp(a,'lxml')\n",
    "k = bs.find_all('a',href=True)\n",
    "import re\n",
    "StageNameWindow=[]\n",
    "Screening_stage_name=[]\n",
    "httpStageNames='http://likms.assembly.go.kr/bill/billDetail.do?billId='\n",
    "for each in k:\n",
    "    if each.text.find('javascript:fGoDetail')> -1:\n",
    "        matchedID =str(re.findall('\\'.*\\'',each.text)).split(',')[0].replace('[','').replace('\\'','').replace('\\\"','')\n",
    "        StageNameWindow.append(httpStageNames + re.sub('[\\[\\\"]','',matchedID))\n",
    "for each in StageNameWindow:\n",
    "    urlOpened = requests.get(each)\n",
    "    htmlParsed = sp(urlOpened.text,'html5lib')\n",
    "    stageNamelistTag = htmlParsed.find_all('div',attrs={'class':'stepType01 mt20'})\n",
    "    for each in stageNamelistTag:\n",
    "        spanList = (each.find_all('span'))\n",
    "        stageNameString =''\n",
    "        for each in spanList:\n",
    "            if stageNameString == '':\n",
    "                stageNameString = each.text\n",
    "            else:\n",
    "                stageNameString = stageNameString + ',' +each.text\n",
    "        Screening_stage_name.append(stageNameString)\n",
    "print(len(Screening_stage_name))"
   ]
  },
  {
   "cell_type": "code",
   "execution_count": 1116,
   "metadata": {},
   "outputs": [],
   "source": [
    "# For finding Bill No"
   ]
  },
  {
   "cell_type": "code",
   "execution_count": 1117,
   "metadata": {},
   "outputs": [
    {
     "name": "stdout",
     "output_type": "stream",
     "text": [
      "100\n"
     ]
    }
   ],
   "source": [
    "\n",
    "bs= sp(a,'html.parser')\n",
    "Bill_No_List=[]\n",
    "k = bs.find_all('tr')\n",
    "for each in k:\n",
    "    tdblock = each.find_all('td')\n",
    "    for each in tdblock:\n",
    "        #print(type(each.text),each.text.replace('<td>','').replace('</td>',''),'\\nnext\\n')\n",
    "        reqBillNO = each.text.replace('<td>','').replace('</td>','').replace(' ','')\n",
    "        '''if reqBillNO.strip().isnumeric() or reqBillNO.strip().isalnum() and:\n",
    "            print(reqBillNO.replace(' ',''),'\\nnext\\n')\n",
    "        '''\n",
    "        if re.match('[A-Z0-9]',reqBillNO) and len(reqBillNO.strip()) == 7 and len(re.findall('~',reqBillNO.strip()))== 0:\n",
    "            Bill_No_List.append('#'+reqBillNO.strip())\n",
    "        #print(reqBillNO,len(reqBillNO.strip()),reqBillNO.strip().isn(),'\\nnext\\n')\n",
    "print(len(Bill_No_List))"
   ]
  },
  {
   "cell_type": "code",
   "execution_count": 1118,
   "metadata": {},
   "outputs": [],
   "source": [
    "# For finding Bill_type"
   ]
  },
  {
   "cell_type": "code",
   "execution_count": 1119,
   "metadata": {},
   "outputs": [],
   "source": [
    "#a=open('Doc_1.html',encoding='utf-8').read()\n",
    "bs= sp(a,'lxml')\n",
    "k = bs.find_all('span',attrs={'class':'html-tag'})\n",
    "i=1\n",
    "Bill_type_list=[]\n",
    "gye='계류의안' # Mooring Bill\n",
    "cheo = '처리의안'#Processing Bill\n",
    "for each in k:\n",
    "    if re.search('gye',str(each)):\n",
    "        Bill_type_list.append(gye)\n",
    "    if re.search('cheo',str(each)):\n",
    "        Bill_type_list.append(cheo)\n",
    "Bill_type_list = Bill_type_list[2:]\n"
   ]
  },
  {
   "cell_type": "code",
   "execution_count": 1120,
   "metadata": {},
   "outputs": [],
   "source": [
    "# for finding Bill Names"
   ]
  },
  {
   "cell_type": "code",
   "execution_count": 1121,
   "metadata": {},
   "outputs": [
    {
     "name": "stdout",
     "output_type": "stream",
     "text": [
      "100\n"
     ]
    }
   ],
   "source": [
    "#a=open('Doc_1.html',encoding='utf-8').read()\n",
    "bs= sp(a,'lxml')\n",
    "k = bs.find_all('span',attrs={'class':'html-tag'})\n",
    "import re\n",
    "import csv,pandas as pd\n",
    "#Bill_Name_List=pd.Series()\n",
    "Bill_Name_List=[]\n",
    "for each in k:\n",
    "    if str(each).find('javascript:fGoDetail')> -1:\n",
    "        Bill_Name_List.append(each.find('span',attrs={'class':'html-attribute-value'}).text)\n",
    "\n",
    "print(len(Bill_Name_List))\n",
    "#Bill_Name_List.to_csv('C:\\\\Users\\\\supratik chanda\\\\Desktop\\\\Bill_ResultNew.csv',index=False,header=['Bill Name'],encoding='utf-8-sig')"
   ]
  },
  {
   "cell_type": "code",
   "execution_count": 1122,
   "metadata": {},
   "outputs": [],
   "source": [
    "# For finding the proposers"
   ]
  },
  {
   "cell_type": "code",
   "execution_count": 1123,
   "metadata": {},
   "outputs": [
    {
     "name": "stdout",
     "output_type": "stream",
     "text": [
      "100\n"
     ]
    }
   ],
   "source": [
    "#a=open('Doc_1.html',encoding='utf-8').read()\n",
    "bs= sp(a,'html.parser')\n",
    "Bill_Proposer_List=[]\n",
    "Date_list=[]\n",
    "k = bs.find_all('tr')\n",
    "for each in k:\n",
    "    propos = each.find('td',attrs={'class':'line-content'}).text\n",
    "    j = (re.sub('[\\<td\\>\\\\/]','',propos)).strip()\n",
    "    if j in ['의원','정부','기타','의장','위원장'] :\n",
    "        Bill_Proposer_List.append(j)\n",
    "    \n",
    "print(len(Bill_Proposer_List))\n"
   ]
  },
  {
   "cell_type": "code",
   "execution_count": 1124,
   "metadata": {},
   "outputs": [],
   "source": [
    "# for finding Suggested Date and Date of resolution"
   ]
  },
  {
   "cell_type": "code",
   "execution_count": 1125,
   "metadata": {},
   "outputs": [
    {
     "name": "stdout",
     "output_type": "stream",
     "text": [
      "100\n",
      "100\n",
      "100\n",
      "100\n",
      "100\n",
      "100\n",
      "100\n"
     ]
    }
   ],
   "source": [
    "#doc_3.html',encoding='utf-8').read()\n",
    "bs= sp(a,'html.parser')\n",
    "Date_list=[]\n",
    "k = bs.find_all('tr')\n",
    "Suggested_Date_list=[]\n",
    "Date_Of_Resolution=[]\n",
    "from dateutil.parser import parse\n",
    "def isDate(date):\n",
    "    try:\n",
    "        parse(date)\n",
    "        return True\n",
    "    except:\n",
    "        return False\n",
    "for each in k:\n",
    "    #print(each,'\\nnext\\n')\n",
    "    propos = each.find('td',attrs={'class':'line-content'}).text\n",
    "    j = (re.sub('[\\<td\\>\\\\/]','',propos)).strip()\n",
    "    #print(j,type(j),isDate(j))\n",
    "    if isDate(j):\n",
    "        #print(j)\n",
    "        Date_list.append(j.strip())\n",
    "    if str(each).find('javascript:fGoDetail')> -1:\n",
    "        #print(each)\n",
    "        #print(each.find('a',attrs={'class':'html-attribute-value'}).text)\n",
    "        Date_list.append('break')\n",
    "        #print(Suggested_Date_list)\n",
    "#print(Date_list)\n",
    "#Date_list = Date_list[1:]\n",
    "#print(len(Date_list))\n",
    "for i in range(0,len(Date_list)):\n",
    "    #print(i,Date_list[i])\n",
    "    if Date_list[i] == 'break' and i+2 <len(Date_list):\n",
    "        if isDate(Date_list[i+2]):\n",
    "            Suggested_Date_list.append(Date_list[i+1])\n",
    "            Date_Of_Resolution.append(Date_list[i+2])\n",
    "            #print('Suggested_Date: ',Date_list[i-2],' Date_Of-Resolution: ',Date_list[i-1])\n",
    "        else:\n",
    "            Suggested_Date_list.append(Date_list[i+1])\n",
    "            Date_Of_Resolution.append(' ')\n",
    "            #print('Suggested_Date: ',Date_list[i-1])\n",
    "    if Date_list[i] == 'break' and i+2 == len(Date_list):\n",
    "        Suggested_Date_list.append(Date_list[i+1])\n",
    "        Date_Of_Resolution.append(' ')\n",
    "#print(Date_Of_Resolution)\n",
    "tempDate_of_res = [each for each in Date_Of_Resolution if isDate(each)]\n",
    "#print(tempDate_of_res)\n",
    "allDataList=[]\n",
    "Decision_Result=[]\n",
    "dec_temp=[]\n",
    "for each in k:\n",
    "    propos = each.find('td',attrs={'class':'line-content'}).text\n",
    "    j = (re.sub('[\\<td\\>\\\\/]','',propos)).strip()\n",
    "    if j !='':\n",
    "        allDataList.append(j)\n",
    "'''for each in allDataList:\n",
    "    print(each,'next')'''\n",
    "for i in range(0,len(allDataList)):\n",
    "    if allDataList[i] in Suggested_Date_list:\n",
    "        if isDate(allDataList[i+1]):\n",
    "            #print(i,allDataList[i],allDataList[i+1])\n",
    "            #print('kkkk: ',allDataList[i+2].strip())\n",
    "            dec_temp.append(allDataList[i+2].strip())\n",
    "#print(Date_Of_Resolution)\n",
    "for i in range(0,len(Date_Of_Resolution)):\n",
    "    if isDate(Date_Of_Resolution[i]):\n",
    "        g=0\n",
    "        Decision_Result.append(dec_temp[g])\n",
    "        #print(Date_Of_Resolution[i],dec_temp[g])\n",
    "        g+=1\n",
    "    else:\n",
    "        Decision_Result.append('')\n",
    "        #print(Date_Of_Resolution[i],' ')\n",
    "print(len(Bill_No_List))\n",
    "print(len(Bill_type_list))\n",
    "print(len(Bill_Name_List))\n",
    "print(len(Bill_Proposer_List))\n",
    "print(len(Suggested_Date_list))\n",
    "print(len(Date_Of_Resolution))\n",
    "print(len(Decision_Result))\n",
    "#print(len(List_of_Proposers))\n"
   ]
  },
  {
   "cell_type": "code",
   "execution_count": 1126,
   "metadata": {},
   "outputs": [],
   "source": [
    "#for finding suggestion session"
   ]
  },
  {
   "cell_type": "code",
   "execution_count": 1127,
   "metadata": {},
   "outputs": [
    {
     "name": "stdout",
     "output_type": "stream",
     "text": [
      "100\n"
     ]
    }
   ],
   "source": [
    "bs= sp(a,'lxml')\n",
    "k = bs.find_all('a',href=True)\n",
    "import re\n",
    "IDList=[]\n",
    "StageNameList=[]\n",
    "httpStageNames='http://likms.assembly.go.kr/bill/billDetail.do?billId='\n",
    "for each in k:\n",
    "    if each.text.find('javascript:fGoDetail')> -1:\n",
    "        matchedID =str(re.findall('\\'.*\\'',each.text)).split(',')[0].replace('[','').replace('\\'','').replace('\\\"','')\n",
    "        StageNameList.append(httpStageNames + re.sub('[\\[\\\"]','',matchedID))\n",
    "List_of_Sessions=[]\n",
    "for each in StageNameList:\n",
    "    eachURL = requests.get(each)\n",
    "    URLContent = sp(eachURL.text,'html5lib')\n",
    "    urlList = URLContent.find_all('td')\n",
    "    for each in urlList:\n",
    "        Flag=False\n",
    "        if str(each.text.strip()).find('~')>-1:\n",
    "            Flag=True\n",
    "            List_of_Sessions.append(each.text.strip())\n",
    "            if Flag:\n",
    "                break\n",
    "print(len(List_of_Sessions))"
   ]
  },
  {
   "cell_type": "code",
   "execution_count": 1128,
   "metadata": {},
   "outputs": [],
   "source": [
    "#for finding the comittee"
   ]
  },
  {
   "cell_type": "code",
   "execution_count": 1129,
   "metadata": {},
   "outputs": [
    {
     "name": "stdout",
     "output_type": "stream",
     "text": [
      "100\n"
     ]
    }
   ],
   "source": [
    "bs= sp(a,'lxml')\n",
    "k = bs.find_all('a',href=True)\n",
    "import re\n",
    "IDList=[]\n",
    "StageNameList=[]\n",
    "httpStageNames='http://likms.assembly.go.kr/bill/billDetail.do?billId='\n",
    "for each in k:\n",
    "    if each.text.find('javascript:fGoDetail')> -1:\n",
    "        matchedID =str(re.findall('\\'.*\\'',each.text)).split(',')[0].replace('[','').replace('\\'','').replace('\\\"','')\n",
    "        StageNameList.append(httpStageNames + re.sub('[\\[\\\"]','',matchedID))\n",
    "List_Of_Committee=[]\n",
    "for each in StageNameList:\n",
    "    eachURL = requests.get(each)\n",
    "    URLContent = sp(eachURL.text,'html5lib')\n",
    "    k= URLContent.find_all('table',attrs={'summary':' 소관위 심사정보'})\n",
    "    if len(k) == 0:\n",
    "        List_Of_Committee.append('')\n",
    "    else:\n",
    "        for each in k:\n",
    "            for elem in each.find('tbody').find('tr').find_all('td'):\n",
    "                List_Of_Committee.append(elem.text)\n",
    "                break\n",
    "print(len(List_Of_Committee))"
   ]
  },
  {
   "cell_type": "code",
   "execution_count": 1130,
   "metadata": {},
   "outputs": [
    {
     "data": {
      "text/html": [
       "<div>\n",
       "<style scoped>\n",
       "    .dataframe tbody tr th:only-of-type {\n",
       "        vertical-align: middle;\n",
       "    }\n",
       "\n",
       "    .dataframe tbody tr th {\n",
       "        vertical-align: top;\n",
       "    }\n",
       "\n",
       "    .dataframe thead th {\n",
       "        text-align: right;\n",
       "    }\n",
       "</style>\n",
       "<table border=\"1\" class=\"dataframe\">\n",
       "  <thead>\n",
       "    <tr style=\"text-align: right;\">\n",
       "      <th></th>\n",
       "      <th>unique_bill_site_name</th>\n",
       "      <th>bill_num</th>\n",
       "      <th>bill_name</th>\n",
       "      <th>bill_type</th>\n",
       "      <th>suggested_date_y</th>\n",
       "      <th>decision_date</th>\n",
       "      <th>decision_result</th>\n",
       "      <th>proposers</th>\n",
       "      <th>screening_stage_names</th>\n",
       "      <th>on_screening_stage_name</th>\n",
       "      <th>proponent</th>\n",
       "      <th>suggestion_session</th>\n",
       "      <th>sponsors</th>\n",
       "      <th>co_sponsers</th>\n",
       "      <th>committee</th>\n",
       "    </tr>\n",
       "  </thead>\n",
       "  <tbody>\n",
       "    <tr>\n",
       "      <th>0</th>\n",
       "      <td>#PRC_A1Z6D0O8G2L9I1I8R0N2W0A8E3S3E5</td>\n",
       "      <td>#2001901</td>\n",
       "      <td>지방교육자치에 관한 법률 일부개정법률안(안규백의원 등 14인)</td>\n",
       "      <td>처리의안</td>\n",
       "      <td>2016-08-29</td>\n",
       "      <td>2016-12-01</td>\n",
       "      <td>수정가결</td>\n",
       "      <td>의원</td>\n",
       "      <td>접수,위원회 심사,체계자구 심사,본회의 심의,정부 이송,공포</td>\n",
       "      <td>공포</td>\n",
       "      <td>안규백의원 등 14인</td>\n",
       "      <td>제20대 (2016~2020) 제345회</td>\n",
       "      <td>안규백(더불어민주당/安圭伯)</td>\n",
       "      <td>고용진(더불어민주당/高榕禛),김경협(더불어민주당/金炅俠),김정우(더불어민주당/金政祐...</td>\n",
       "      <td>교육문화체육관광위원회</td>\n",
       "    </tr>\n",
       "    <tr>\n",
       "      <th>1</th>\n",
       "      <td>#PRC_B1H6O0S8N3F0L1X6T1K7P4A7I1X8H9</td>\n",
       "      <td>#2001949</td>\n",
       "      <td>비영리민간단체 지원법 일부개정법률안(권미혁의원 등 11인)</td>\n",
       "      <td>계류의안</td>\n",
       "      <td>2016-08-30</td>\n",
       "      <td></td>\n",
       "      <td></td>\n",
       "      <td>의원</td>\n",
       "      <td>접수,위원회 심사,체계자구 심사,본회의 심의,정부 이송,공포</td>\n",
       "      <td>위원회 심사</td>\n",
       "      <td>권미혁의원 등 11인</td>\n",
       "      <td>제20대 (2016~2020) 제345회</td>\n",
       "      <td>권미혁(더불어민주당/權美赫)</td>\n",
       "      <td>기동민(더불어민주당/奇東旻),김상희(더불어민주당/金相姬),김종훈(무소속/金鍾勳),박...</td>\n",
       "      <td>행정안전위원회</td>\n",
       "    </tr>\n",
       "    <tr>\n",
       "      <th>2</th>\n",
       "      <td>#PRC_C1J6L0Z8R3E1U1H1T0V4T0B5M3E2O0</td>\n",
       "      <td>#2001970</td>\n",
       "      <td>폐광지역 개발 지원에 관한 특별법 일부개정법률안(이철규의원 등 32인)</td>\n",
       "      <td>계류의안</td>\n",
       "      <td>2016-08-31</td>\n",
       "      <td></td>\n",
       "      <td></td>\n",
       "      <td>의원</td>\n",
       "      <td>접수,위원회 심사,체계자구 심사,본회의 심의,정부 이송,공포</td>\n",
       "      <td>체계자구 심사</td>\n",
       "      <td>이철규의원 등 32인</td>\n",
       "      <td>제20대 (2016~2020) 제345회</td>\n",
       "      <td>이철규(새누리당/李喆圭)</td>\n",
       "      <td>강석진(새누리당/姜錫振),경대수(새누리당/慶大秀),김경협(더불어민주당/金炅俠),김두...</td>\n",
       "      <td>산업통상자원중소벤처기업위원회</td>\n",
       "    </tr>\n",
       "    <tr>\n",
       "      <th>3</th>\n",
       "      <td>#PRC_E1V6I0B8Q2J9E1A8S1W0H3L9R6Q6D2</td>\n",
       "      <td>#2001904</td>\n",
       "      <td>아동복지법 일부개정법률안(안규백의원 등 11인)</td>\n",
       "      <td>계류의안</td>\n",
       "      <td>2016-08-29</td>\n",
       "      <td></td>\n",
       "      <td></td>\n",
       "      <td>의원</td>\n",
       "      <td>접수,위원회 심사,체계자구 심사,본회의 심의,정부 이송,공포</td>\n",
       "      <td>위원회 심사</td>\n",
       "      <td>안규백의원 등 11인</td>\n",
       "      <td>제20대 (2016~2020) 제345회</td>\n",
       "      <td>안규백(더불어민주당/安圭伯)</td>\n",
       "      <td>고용진(더불어민주당/高榕禛),김경협(더불어민주당/金炅俠),김진표(더불어민주당/金振杓...</td>\n",
       "      <td>보건복지위원회</td>\n",
       "    </tr>\n",
       "    <tr>\n",
       "      <th>4</th>\n",
       "      <td>#PRC_I1Z6Y0Z8J2W9D1V8I3U3Y3O7W3M0U9</td>\n",
       "      <td>#2001910</td>\n",
       "      <td>의료법 일부개정법률안(최도자의원 등 10인)</td>\n",
       "      <td>처리의안</td>\n",
       "      <td>2016-08-29</td>\n",
       "      <td>2016-12-01</td>\n",
       "      <td>수정가결</td>\n",
       "      <td>의원</td>\n",
       "      <td>접수,위원회 심사,본회의 심의,대안반영폐기</td>\n",
       "      <td>대안반영폐기</td>\n",
       "      <td>최도자의원 등 10인</td>\n",
       "      <td>제20대 (2016~2020) 제345회</td>\n",
       "      <td>최도자(국민의당/崔道子)</td>\n",
       "      <td>강창일(더불어민주당/姜昌一),김광수(국민의당/金光守),김중로(국민의당/金中魯),김해...</td>\n",
       "      <td>보건복지위원회</td>\n",
       "    </tr>\n",
       "  </tbody>\n",
       "</table>\n",
       "</div>"
      ],
      "text/plain": [
       "                 unique_bill_site_name  bill_num  \\\n",
       "0  #PRC_A1Z6D0O8G2L9I1I8R0N2W0A8E3S3E5  #2001901   \n",
       "1  #PRC_B1H6O0S8N3F0L1X6T1K7P4A7I1X8H9  #2001949   \n",
       "2  #PRC_C1J6L0Z8R3E1U1H1T0V4T0B5M3E2O0  #2001970   \n",
       "3  #PRC_E1V6I0B8Q2J9E1A8S1W0H3L9R6Q6D2  #2001904   \n",
       "4  #PRC_I1Z6Y0Z8J2W9D1V8I3U3Y3O7W3M0U9  #2001910   \n",
       "\n",
       "                                 bill_name bill_type suggested_date_y  \\\n",
       "0       지방교육자치에 관한 법률 일부개정법률안(안규백의원 등 14인)      처리의안       2016-08-29   \n",
       "1         비영리민간단체 지원법 일부개정법률안(권미혁의원 등 11인)      계류의안       2016-08-30   \n",
       "2  폐광지역 개발 지원에 관한 특별법 일부개정법률안(이철규의원 등 32인)      계류의안       2016-08-31   \n",
       "3               아동복지법 일부개정법률안(안규백의원 등 11인)      계류의안       2016-08-29   \n",
       "4                 의료법 일부개정법률안(최도자의원 등 10인)      처리의안       2016-08-29   \n",
       "\n",
       "  decision_date decision_result proposers              screening_stage_names  \\\n",
       "0    2016-12-01            수정가결        의원  접수,위원회 심사,체계자구 심사,본회의 심의,정부 이송,공포   \n",
       "1                                      의원  접수,위원회 심사,체계자구 심사,본회의 심의,정부 이송,공포   \n",
       "2                                      의원  접수,위원회 심사,체계자구 심사,본회의 심의,정부 이송,공포   \n",
       "3                                      의원  접수,위원회 심사,체계자구 심사,본회의 심의,정부 이송,공포   \n",
       "4    2016-12-01            수정가결        의원            접수,위원회 심사,본회의 심의,대안반영폐기   \n",
       "\n",
       "  on_screening_stage_name    proponent      suggestion_session  \\\n",
       "0                      공포  안규백의원 등 14인  제20대 (2016~2020) 제345회   \n",
       "1                  위원회 심사  권미혁의원 등 11인  제20대 (2016~2020) 제345회   \n",
       "2                 체계자구 심사  이철규의원 등 32인  제20대 (2016~2020) 제345회   \n",
       "3                  위원회 심사  안규백의원 등 11인  제20대 (2016~2020) 제345회   \n",
       "4                  대안반영폐기  최도자의원 등 10인  제20대 (2016~2020) 제345회   \n",
       "\n",
       "          sponsors                                        co_sponsers  \\\n",
       "0  안규백(더불어민주당/安圭伯)  고용진(더불어민주당/高榕禛),김경협(더불어민주당/金炅俠),김정우(더불어민주당/金政祐...   \n",
       "1  권미혁(더불어민주당/權美赫)  기동민(더불어민주당/奇東旻),김상희(더불어민주당/金相姬),김종훈(무소속/金鍾勳),박...   \n",
       "2    이철규(새누리당/李喆圭)  강석진(새누리당/姜錫振),경대수(새누리당/慶大秀),김경협(더불어민주당/金炅俠),김두...   \n",
       "3  안규백(더불어민주당/安圭伯)  고용진(더불어민주당/高榕禛),김경협(더불어민주당/金炅俠),김진표(더불어민주당/金振杓...   \n",
       "4    최도자(국민의당/崔道子)  강창일(더불어민주당/姜昌一),김광수(국민의당/金光守),김중로(국민의당/金中魯),김해...   \n",
       "\n",
       "           committee  \n",
       "0       교육문화체육관광위원회   \n",
       "1           행정안전위원회   \n",
       "2   산업통상자원중소벤처기업위원회   \n",
       "3           보건복지위원회   \n",
       "4           보건복지위원회   "
      ]
     },
     "execution_count": 1130,
     "metadata": {},
     "output_type": "execute_result"
    }
   ],
   "source": [
    "df=pd.DataFrame({'unique_bill_site_name':unique_bill_site_name_list,'bill_num':Bill_No_List,'bill_name':Bill_Name_List,\n",
    "                 'bill_type':Bill_type_list,\n",
    "                 'suggested_date_y':Suggested_Date_list,'decision_date':Date_Of_Resolution,'decision_result':Decision_Result,\n",
    "                 'proposers':Bill_Proposer_List,'screening_stage_names':Screening_stage_name,\n",
    "                 'on_screening_stage_name':onScreenStageList,'proponent':proponentList,\n",
    "                 'suggestion_session':List_of_Sessions,'sponsors':List_of_Sponsers,'co_sponsers':List_of_Co_Sponsers,\n",
    "                'committee':List_Of_Committee})\n",
    "df.head()"
   ]
  },
  {
   "cell_type": "code",
   "execution_count": 1131,
   "metadata": {},
   "outputs": [],
   "source": [
    "with open ('C:\\\\Users\\\\supratik chanda\\\\Desktop\\\\Bill_Congress.csv','a+',encoding='utf-8-sig') as f:\n",
    "    df.to_csv(f,header=False,index=False)"
   ]
  },
  {
   "cell_type": "code",
   "execution_count": null,
   "metadata": {},
   "outputs": [],
   "source": []
  }
 ],
 "metadata": {
  "kernelspec": {
   "display_name": "Python 3",
   "language": "python",
   "name": "python3"
  },
  "language_info": {
   "codemirror_mode": {
    "name": "ipython",
    "version": 3
   },
   "file_extension": ".py",
   "mimetype": "text/x-python",
   "name": "python",
   "nbconvert_exporter": "python",
   "pygments_lexer": "ipython3",
   "version": "3.6.5"
  }
 },
 "nbformat": 4,
 "nbformat_minor": 2
}
